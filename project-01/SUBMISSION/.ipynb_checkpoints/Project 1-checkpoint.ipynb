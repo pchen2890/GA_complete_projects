{
 "cells": [
  {
   "cell_type": "markdown",
   "metadata": {},
   "source": [
    "Basic statistics, learned some Python programming concepts\n",
    "- Perform methods of exploratory data analysis, including:\n",
    "  - Use Matplotlib to create visualizations\n",
    "  - Use NumPy to apply basic summary statistics: mean, median, mode\n",
    "- Determine if dataset appears to follow a normal distribution"
   ]
  },
  {
   "cell_type": "code",
   "execution_count": 58,
   "metadata": {
    "collapsed": false
   },
   "outputs": [],
   "source": [
    "import plotly.tools as tls\n",
    "import numpy as np\n",
    "import scipy.stats as stats\n",
    "import pandas as pd\n",
    "import pylab as pl\n",
    "import matplotlib.pyplot as plt\n",
    "import seaborn as sns\n",
    "import plotly\n",
    "import plotly.graph_objs as go\n",
    "import csv\n",
    "import matplotlib\n",
    "%matplotlib inline"
   ]
  },
  {
   "cell_type": "markdown",
   "metadata": {},
   "source": [
    "##### Load the data into dictionary"
   ]
  },
  {
   "cell_type": "code",
   "execution_count": 59,
   "metadata": {
    "collapsed": false
   },
   "outputs": [],
   "source": [
    "reader = csv.DictReader(open('/Users/PatrickChen/Desktop/CSV FILES/sat_scores.csv','rU'))\n",
    "sat_scores = {}\n",
    "for row in reader:\n",
    "    for column, value in row.items():\n",
    "        sat_scores.setdefault(column, []).append(value)"
   ]
  },
  {
   "cell_type": "markdown",
   "metadata": {},
   "source": [
    "##### Change vaues to floats"
   ]
  },
  {
   "cell_type": "code",
   "execution_count": 60,
   "metadata": {
    "collapsed": false
   },
   "outputs": [],
   "source": [
    "verbal =[]\n",
    "for value in sat_scores[\"Verbal\"]:\n",
    "    value = float(value)\n",
    "    verbal.append(value)\n",
    "    \n",
    "math = []\n",
    "for value in sat_scores[\"Math\"]:\n",
    "    value = float(value)\n",
    "    math.append(value)\n",
    "    \n",
    "rate = []    \n",
    "for value in sat_scores[\"Rate\"]:\n",
    "    value = float(value)\n",
    "    rate.append(value)"
   ]
  },
  {
   "cell_type": "markdown",
   "metadata": {},
   "source": [
    "## Describe the data"
   ]
  },
  {
   "cell_type": "markdown",
   "metadata": {},
   "source": [
    "##### min and max of each column"
   ]
  },
  {
   "cell_type": "code",
   "execution_count": 61,
   "metadata": {
    "collapsed": false
   },
   "outputs": [
    {
     "name": "stdout",
     "output_type": "stream",
     "text": [
      "482.0\n",
      "439.0\n",
      "4.0\n",
      "593.0\n",
      "603.0\n",
      "82.0\n"
     ]
    }
   ],
   "source": [
    "import numpy as np\n",
    "import scipy.stats as stat\n",
    "type(sat_scores[\"Verbal\"])\n",
    "verbal_min = np.min(np.array(verbal))\n",
    "math_min = np.min(np.array(math))\n",
    "rate_min = np.min(np.array(rate))\n",
    "\n",
    "verbal_max = np.max(np.array(verbal))\n",
    "math_max = np.max(np.array(math))\n",
    "rate_max = np.max(np.array(rate))\n",
    "\n",
    "print verbal_min\n",
    "print math_min\n",
    "print rate_min\n",
    "\n",
    "print verbal_max\n",
    "print math_max\n",
    "print rate_max"
   ]
  },
  {
   "cell_type": "markdown",
   "metadata": {},
   "source": [
    "##### standard deviation"
   ]
  },
  {
   "cell_type": "code",
   "execution_count": 62,
   "metadata": {
    "collapsed": false
   },
   "outputs": [
    {
     "name": "stdout",
     "output_type": "stream",
     "text": [
      "32.9150949616\n",
      "35.6669961643\n",
      "27.0379964945\n"
     ]
    }
   ],
   "source": [
    "print np.std(verbal)\n",
    "print np.std(math)\n",
    "print np.std(rate)"
   ]
  },
  {
   "cell_type": "markdown",
   "metadata": {},
   "source": [
    "## Visualize the data"
   ]
  },
  {
   "cell_type": "markdown",
   "metadata": {
    "collapsed": true
   },
   "source": [
    "##### MatPlotLib and PyPlot, plot the distribution of the Rate using histograms."
   ]
  },
  {
   "cell_type": "code",
   "execution_count": 63,
   "metadata": {
    "collapsed": true
   },
   "outputs": [],
   "source": [
    "sat_scores = pd.DataFrame(sat_scores)"
   ]
  },
  {
   "cell_type": "code",
   "execution_count": 64,
   "metadata": {
    "collapsed": true
   },
   "outputs": [],
   "source": [
    "sat_scores.Math = sat_scores.Math.astype(float)\n",
    "sat_scores.Verbal = sat_scores.Verbal.astype(float)\n",
    "sat_scores.Rate = sat_scores.Rate.astype(float)"
   ]
  },
  {
   "cell_type": "code",
   "execution_count": 65,
   "metadata": {
    "collapsed": false
   },
   "outputs": [
    {
     "data": {
      "text/plain": [
       "(array([ 8.,  8.,  4.,  2.,  1.,  1.,  1.,  2.,  0.,  0.,  1.,  0.,  6.,\n",
       "         3.,  1.,  3.,  4.,  3.,  1.,  3.]),\n",
       " array([  4. ,   7.9,  11.8,  15.7,  19.6,  23.5,  27.4,  31.3,  35.2,\n",
       "         39.1,  43. ,  46.9,  50.8,  54.7,  58.6,  62.5,  66.4,  70.3,\n",
       "         74.2,  78.1,  82. ]),\n",
       " <a list of 20 Patch objects>)"
      ]
     },
     "execution_count": 65,
     "metadata": {},
     "output_type": "execute_result"
    },
    {
     "data": {
      "image/png": "[encoded data removed]",
      "text/plain": [
       "<matplotlib.figure.Figure at 0x115fc7f50>"
      ]
     },
     "metadata": {},
     "output_type": "display_data"
    }
   ],
   "source": [
    "import matplotlib as mpl\n",
    "import matplotlib.pyplot as plt\n",
    "%matplotlib inline\n",
    "\n",
    "plt.hist(sat_scores.Rate,20)\n",
    "# 20 bins"
   ]
  },
  {
   "cell_type": "markdown",
   "metadata": {},
   "source": [
    "##### Plot the Math distribution"
   ]
  },
  {
   "cell_type": "code",
   "execution_count": 66,
   "metadata": {
    "collapsed": false
   },
   "outputs": [
    {
     "data": {
      "text/plain": [
       "(array([ 8.,  8.,  4.,  2.,  1.,  1.,  1.,  2.,  0.,  0.,  1.,  0.,  6.,\n",
       "         3.,  1.,  3.,  4.,  3.,  1.,  3.]),\n",
       " array([  4. ,   7.9,  11.8,  15.7,  19.6,  23.5,  27.4,  31.3,  35.2,\n",
       "         39.1,  43. ,  46.9,  50.8,  54.7,  58.6,  62.5,  66.4,  70.3,\n",
       "         74.2,  78.1,  82. ]),\n",
       " <a list of 20 Patch objects>)"
      ]
     },
     "execution_count": 66,
     "metadata": {},
     "output_type": "execute_result"
    },
    {
     "data": {
      "image/png": "[encoded data removed]",
      "text/plain": [
       "<matplotlib.figure.Figure at 0x11825c850>"
      ]
     },
     "metadata": {},
     "output_type": "display_data"
    }
   ],
   "source": [
    "plt.hist(sat_scores[\"Rate\"],20)"
   ]
  },
  {
   "cell_type": "markdown",
   "metadata": {},
   "source": [
    "##### Plot the Verbal distribution"
   ]
  },
  {
   "cell_type": "code",
   "execution_count": 67,
   "metadata": {
    "collapsed": false
   },
   "outputs": [
    {
     "data": {
      "text/plain": [
       "(array([ 3.,  3.,  3.,  5.,  5.,  4.,  1.,  2.,  2.,  1.,  3.,  1.,  2.,\n",
       "         1.,  5.,  2.,  2.,  4.,  1.,  2.]),\n",
       " array([ 482.  ,  487.55,  493.1 ,  498.65,  504.2 ,  509.75,  515.3 ,\n",
       "         520.85,  526.4 ,  531.95,  537.5 ,  543.05,  548.6 ,  554.15,\n",
       "         559.7 ,  565.25,  570.8 ,  576.35,  581.9 ,  587.45,  593.  ]),\n",
       " <a list of 20 Patch objects>)"
      ]
     },
     "execution_count": 67,
     "metadata": {},
     "output_type": "execute_result"
    },
    {
     "data": {
      "image/png": "[encoded data removed]",
      "text/plain": [
       "<matplotlib.figure.Figure at 0x11839f4d0>"
      ]
     },
     "metadata": {},
     "output_type": "display_data"
    }
   ],
   "source": [
    "plt.hist(sat_scores['Verbal'], 20)"
   ]
  },
  {
   "cell_type": "markdown",
   "metadata": {},
   "source": [
    "Scatter Plots"
   ]
  },
  {
   "cell_type": "code",
   "execution_count": 68,
   "metadata": {
    "collapsed": false
   },
   "outputs": [
    {
     "data": {
      "text/plain": [
       "<matplotlib.collections.PathCollection at 0x118b622d0>"
      ]
     },
     "execution_count": 68,
     "metadata": {},
     "output_type": "execute_result"
    },
    {
     "data": {
      "image/png": "[encoded data removed]",
      "text/plain": [
       "<matplotlib.figure.Figure at 0x11882b650>"
      ]
     },
     "metadata": {},
     "output_type": "display_data"
    }
   ],
   "source": [
    "fig = plt.figure()\n",
    "\n",
    "ax1 = fig.add_subplot(131)\n",
    "ax1.scatter(sat_scores['Rate'], sat_scores['Math'])\n",
    "ax2 = fig.add_subplot(132)\n",
    "ax2.scatter(sat_scores['Rate'], sat_scores['Verbal'])\n",
    "ax3 = fig.add_subplot(133)\n",
    "ax3.scatter(sat_scores['Math'], sat_scores['Verbal'])\n"
   ]
  },
  {
   "cell_type": "markdown",
   "metadata": {},
   "source": [
    "##### interesting relationships to note?"
   ]
  },
  {
   "cell_type": "code",
   "execution_count": 69,
   "metadata": {
    "collapsed": false
   },
   "outputs": [
    {
     "name": "stdout",
     "output_type": "stream",
     "text": [
      "Loose correlation between rate and math/verbal, strong correlation between math and verbal scores\n"
     ]
    }
   ],
   "source": [
    "print 'Loose correlation between rate and math/verbal, strong correlation between math and verbal scores'"
   ]
  },
  {
   "cell_type": "markdown",
   "metadata": {},
   "source": [
    "##### box plots for each variable. "
   ]
  },
  {
   "cell_type": "code",
   "execution_count": 70,
   "metadata": {
    "collapsed": false
   },
   "outputs": [
    {
     "data": {
      "text/plain": [
       "{'boxes': [<matplotlib.lines.Line2D at 0x118f9c450>],\n",
       " 'caps': [<matplotlib.lines.Line2D at 0x118faa2d0>,\n",
       "  <matplotlib.lines.Line2D at 0x118faa910>],\n",
       " 'fliers': [<matplotlib.lines.Line2D at 0x118fb55d0>],\n",
       " 'means': [],\n",
       " 'medians': [<matplotlib.lines.Line2D at 0x118faaf50>],\n",
       " 'whiskers': [<matplotlib.lines.Line2D at 0x118f9c590>,\n",
       "  <matplotlib.lines.Line2D at 0x118f9cc50>]}"
      ]
     },
     "execution_count": 70,
     "metadata": {},
     "output_type": "execute_result"
    },
    {
     "data": {
      "image/png": "[encoded data removed]",
      "text/plain": [
       "<matplotlib.figure.Figure at 0x11882b950>"
      ]
     },
     "metadata": {},
     "output_type": "display_data"
    }
   ],
   "source": [
    "fig = plt.figure()\n",
    "\n",
    "ax1 = fig.add_subplot(131)\n",
    "ax1.boxplot(sat_scores['Rate'])\n",
    "ax2 = fig.add_subplot(132)\n",
    "ax2.boxplot(sat_scores['Math'])\n",
    "ax3 = fig.add_subplot(133)\n",
    "ax3.boxplot(sat_scores['Verbal'])\n"
   ]
  }
 ],
 "metadata": {
  "anaconda-cloud": {},
  "kernelspec": {
   "display_name": "Python [default]",
   "language": "python",
   "name": "python2"
  },
  "language_info": {
   "codemirror_mode": {
    "name": "ipython",
    "version": 2
   },
   "file_extension": ".py",
   "mimetype": "text/x-python",
   "name": "python",
   "nbconvert_exporter": "python",
   "pygments_lexer": "ipython2",
   "version": "2.7.12"
  }
 },
 "nbformat": 4,
 "nbformat_minor": 0
}
