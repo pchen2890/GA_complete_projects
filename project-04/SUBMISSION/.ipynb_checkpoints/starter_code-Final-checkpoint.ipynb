{
 "cells": [
  {
   "cell_type": "markdown",
   "metadata": {
    "focus": false,
    "id": "69b9a648-bcc7-490d-9f9b-ea244d156bd6"
   },
   "source": [
    "# Web Scraping for Indeed.com & Predicting Salaries"
   ]
  },
  {
   "cell_type": "markdown",
   "metadata": {
    "focus": false,
    "id": "34681254-c802-462f-829d-8894d0772d08"
   },
   "source": [
    "In this project, we will practice two major skills: collecting data by scraping a website and then building a binary predictor with Logistic Regression.\n",
    "\n",
    "We are going to collect salary information on data science jobs in a variety of markets. Then using the location, title and summary of the job we will attempt to predict the salary of the job. For job posting sites, this would be extraordinarily useful. While most listings DO NOT come with salary information (as you will see in this exercise), being to able extrapolate or predict the expected salaries from other listings can help guide negotiations.\n",
    "\n",
    "Normally, we could use regression for this task; however, we will convert this problem into classification and use Logistic Regression.\n",
    "\n",
    "- Question: Why would we want this to be a classification problem?\n",
    "- Answer: While more precision may be better, there is a fair amount of natural variance in job salaries - predicting a range be may be useful.\n",
    "\n",
    "Therefore, the first part of the assignment will be focused on scraping Indeed.com. In the second, we'll focus on using listings with salary information to build a model and predict additional salaries."
   ]
  },
  {
   "cell_type": "markdown",
   "metadata": {
    "focus": false,
    "id": "04563b69-f7b6-466f-9d65-fc62c9ddee6a"
   },
   "source": [
    "## Predicting salaries using Logistic Regression"
   ]
  },
  {
   "cell_type": "markdown",
   "metadata": {
    "focus": false,
    "id": "243e949e-2742-40af-872e-fec475fd306c"
   },
   "source": [
    "#### Load in the the data of scraped salaries"
   ]
  },
  {
   "cell_type": "code",
   "execution_count": 1,
   "metadata": {
    "collapsed": true
   },
   "outputs": [],
   "source": [
    "# libraries\n",
    "import pandas as pd\n",
    "import numpy as np"
   ]
  },
  {
   "cell_type": "markdown",
   "metadata": {},
   "source": [
    "# Cleaning data"
   ]
  },
  {
   "cell_type": "code",
   "execution_count": 2,
   "metadata": {
    "collapsed": false,
    "focus": false,
    "id": "588f9845-6143-4bcc-bfd1-85d45b79303d"
   },
   "outputs": [
    {
     "data": {
      "text/html": [
       "<div>\n",
       "<table border=\"1\" class=\"dataframe\">\n",
       "  <thead>\n",
       "    <tr style=\"text-align: right;\">\n",
       "      <th></th>\n",
       "      <th>Unnamed: 0</th>\n",
       "      <th>title</th>\n",
       "      <th>company</th>\n",
       "      <th>location</th>\n",
       "      <th>salary</th>\n",
       "      <th>summary</th>\n",
       "    </tr>\n",
       "  </thead>\n",
       "  <tbody>\n",
       "    <tr>\n",
       "      <th>0</th>\n",
       "      <td>0</td>\n",
       "      <td>Research Financial Analyst II</td>\n",
       "      <td>Baylor College of Medicine</td>\n",
       "      <td>Houston, TX</td>\n",
       "      <td>$65,000 a year</td>\n",
       "      <td>\\nUsing data from Principal Investigators and ...</td>\n",
       "    </tr>\n",
       "    <tr>\n",
       "      <th>1</th>\n",
       "      <td>1</td>\n",
       "      <td>Senior Predictive Modeling Actuary</td>\n",
       "      <td>Selby Jennings</td>\n",
       "      <td>Houston, TX</td>\n",
       "      <td>$70,000 - $130,000 a year</td>\n",
       "      <td>\\nSenior Predictive Modeler A leading global i...</td>\n",
       "    </tr>\n",
       "    <tr>\n",
       "      <th>2</th>\n",
       "      <td>2</td>\n",
       "      <td>Senior Data Scientist</td>\n",
       "      <td>Workbridge Associates</td>\n",
       "      <td>Chicago, IL</td>\n",
       "      <td>$130,000 a year</td>\n",
       "      <td>\\nStatistical modeling, predictive analysis, m...</td>\n",
       "    </tr>\n",
       "    <tr>\n",
       "      <th>3</th>\n",
       "      <td>3</td>\n",
       "      <td>Director of Data Science</td>\n",
       "      <td>Workbridge Associates</td>\n",
       "      <td>Chicago, IL</td>\n",
       "      <td>$180,000 a year</td>\n",
       "      <td>\\nMid, Senior, Lead, Data, Scientist, Machine,...</td>\n",
       "    </tr>\n",
       "    <tr>\n",
       "      <th>4</th>\n",
       "      <td>4</td>\n",
       "      <td>Data Scientist -Fitness/Wellness Firm</td>\n",
       "      <td>Hirewell</td>\n",
       "      <td>Chicago, IL</td>\n",
       "      <td>$120,000 a year</td>\n",
       "      <td>\\nExpertise in text mining, NLP methods, infor...</td>\n",
       "    </tr>\n",
       "    <tr>\n",
       "      <th>5</th>\n",
       "      <td>5</td>\n",
       "      <td>Statistical Data Analyst- Long-term Contract i...</td>\n",
       "      <td>Modis</td>\n",
       "      <td>Northbrook, IL 60062</td>\n",
       "      <td>$25 - $35 an hour</td>\n",
       "      <td>\\nExperience with BI Analytics &amp; Data Visualiz...</td>\n",
       "    </tr>\n",
       "    <tr>\n",
       "      <th>6</th>\n",
       "      <td>6</td>\n",
       "      <td>Statistical Analyst (part-time or full-time co...</td>\n",
       "      <td>Mission Measurement</td>\n",
       "      <td>Chicago, IL 60601 (Loop area)</td>\n",
       "      <td>$20 an hour</td>\n",
       "      <td>\\nFor each area of social policy – e.g., educa...</td>\n",
       "    </tr>\n",
       "    <tr>\n",
       "      <th>7</th>\n",
       "      <td>7</td>\n",
       "      <td>Data Scientist (Healthcare Data)</td>\n",
       "      <td>Workbridge Associates</td>\n",
       "      <td>Chicago, IL</td>\n",
       "      <td>$110,000 a year</td>\n",
       "      <td>\\nA leading provider of healthcare analytics f...</td>\n",
       "    </tr>\n",
       "    <tr>\n",
       "      <th>8</th>\n",
       "      <td>8</td>\n",
       "      <td>Machine Learning Engineer</td>\n",
       "      <td>Jobspring Partners</td>\n",
       "      <td>Chicago, IL</td>\n",
       "      <td>$100,000 - $120,000 a year</td>\n",
       "      <td>\\nThis role is ideal for someone who has a str...</td>\n",
       "    </tr>\n",
       "    <tr>\n",
       "      <th>9</th>\n",
       "      <td>9</td>\n",
       "      <td>Quantitative Analyst</td>\n",
       "      <td>Silva Capital Management</td>\n",
       "      <td>Chicago, IL 60611 (Near North Side area)</td>\n",
       "      <td>$125,000 a year</td>\n",
       "      <td>\\nR, Python, VBA, Mat lab, C#). In Physics, En...</td>\n",
       "    </tr>\n",
       "    <tr>\n",
       "      <th>10</th>\n",
       "      <td>10</td>\n",
       "      <td>Statistical Modeler</td>\n",
       "      <td>Smith Hanley Associates</td>\n",
       "      <td>Chicago, IL</td>\n",
       "      <td>$75,000 - $90,000 a year</td>\n",
       "      <td>\\n-Conduct data mining studies. Smith Hanley A...</td>\n",
       "    </tr>\n",
       "    <tr>\n",
       "      <th>11</th>\n",
       "      <td>11</td>\n",
       "      <td>Data Scientist – Big Data/Artificial Intelligence</td>\n",
       "      <td>Selby Jennings</td>\n",
       "      <td>Chicago, IL</td>\n",
       "      <td>$135,000 - $165,000 a year</td>\n",
       "      <td>\\n5+ years experience using R, SPSS, Python, M...</td>\n",
       "    </tr>\n",
       "    <tr>\n",
       "      <th>12</th>\n",
       "      <td>12</td>\n",
       "      <td>Statistical Analyst -- Health-7444</td>\n",
       "      <td>S.C. International</td>\n",
       "      <td>Chicago, IL</td>\n",
       "      <td>$80,000 a year</td>\n",
       "      <td>\\nSeeking strong proficiency with SAS, SQL, an...</td>\n",
       "    </tr>\n",
       "    <tr>\n",
       "      <th>13</th>\n",
       "      <td>13</td>\n",
       "      <td>Lead Data Scientist</td>\n",
       "      <td>Analytic Recruiting</td>\n",
       "      <td>Chicago, IL</td>\n",
       "      <td>$140,000 a year</td>\n",
       "      <td>\\nMachine Learning, Segmentation, Marketing An...</td>\n",
       "    </tr>\n",
       "    <tr>\n",
       "      <th>14</th>\n",
       "      <td>14</td>\n",
       "      <td>Senior Data Scientist</td>\n",
       "      <td>Jobspring Partners</td>\n",
       "      <td>Glenview, IL</td>\n",
       "      <td>$80,000 - $120,000 a year</td>\n",
       "      <td>\\nData visualization experience. Experience us...</td>\n",
       "    </tr>\n",
       "    <tr>\n",
       "      <th>15</th>\n",
       "      <td>15</td>\n",
       "      <td>Quality Engineer (Big Data)</td>\n",
       "      <td>Jobspring Partners</td>\n",
       "      <td>Chicago, IL</td>\n",
       "      <td>$70,000 - $105,000 a year</td>\n",
       "      <td>\\nBrand new product that is used globally by t...</td>\n",
       "    </tr>\n",
       "    <tr>\n",
       "      <th>16</th>\n",
       "      <td>16</td>\n",
       "      <td>Academic Python Developer</td>\n",
       "      <td>Jobspring Partners</td>\n",
       "      <td>Chicago, IL</td>\n",
       "      <td>$75,000 - $100,000 a year</td>\n",
       "      <td>\\nWork with some of the smartest computer scie...</td>\n",
       "    </tr>\n",
       "    <tr>\n",
       "      <th>17</th>\n",
       "      <td>17</td>\n",
       "      <td>Senior Environmental Soil Scientist</td>\n",
       "      <td>Metropolitan Water Reclamation District of Gre...</td>\n",
       "      <td>Chicago, IL</td>\n",
       "      <td>$93,257 - $137,114 a year</td>\n",
       "      <td>\\nAppointment is subject to successfully passi...</td>\n",
       "    </tr>\n",
       "    <tr>\n",
       "      <th>18</th>\n",
       "      <td>18</td>\n",
       "      <td>Manager / Director of Predictive Modeling</td>\n",
       "      <td>Analytic Recruiting</td>\n",
       "      <td>Chicago, IL</td>\n",
       "      <td>$100,000 - $130,000 a year</td>\n",
       "      <td>\\nAnalytics, SAS, R, SPSS, Marketing Analytics...</td>\n",
       "    </tr>\n",
       "    <tr>\n",
       "      <th>19</th>\n",
       "      <td>19</td>\n",
       "      <td>Supervising Environmental Soil Scientist</td>\n",
       "      <td>Metropolitan Water Reclamation District of Gre...</td>\n",
       "      <td>Chicago, IL</td>\n",
       "      <td>$104,674 - $151,358 a year</td>\n",
       "      <td>\\nAppointment is subject to successfully passi...</td>\n",
       "    </tr>\n",
       "    <tr>\n",
       "      <th>20</th>\n",
       "      <td>20</td>\n",
       "      <td>Director of Research and Enrollment Informatio...</td>\n",
       "      <td>Rosalind Franklin University of Medicine and S...</td>\n",
       "      <td>Chicago, IL</td>\n",
       "      <td>$62,575 - $78,219 a year</td>\n",
       "      <td>\\nThe mission of Rosalind Franklin University ...</td>\n",
       "    </tr>\n",
       "    <tr>\n",
       "      <th>21</th>\n",
       "      <td>21</td>\n",
       "      <td>Data Scientist</td>\n",
       "      <td>City &amp; County of San Francisco</td>\n",
       "      <td>San Francisco, CA 94124 (Bayview area)</td>\n",
       "      <td>$42.73 - $51.94 an hour</td>\n",
       "      <td>\\nFamiliarity or experience with advanced meth...</td>\n",
       "    </tr>\n",
       "    <tr>\n",
       "      <th>22</th>\n",
       "      <td>22</td>\n",
       "      <td>Data Engineer and Scientist</td>\n",
       "      <td>Dashbot.io</td>\n",
       "      <td>San Francisco, CA</td>\n",
       "      <td>$160,000 - $180,000 a year</td>\n",
       "      <td>\\nWe are looking for a big data engineer and s...</td>\n",
       "    </tr>\n",
       "    <tr>\n",
       "      <th>23</th>\n",
       "      <td>23</td>\n",
       "      <td>Data Scientist</td>\n",
       "      <td>City &amp; County of San Francisco</td>\n",
       "      <td>San Francisco, CA 94124 (Bayview area)</td>\n",
       "      <td>$42.73 - $51.94 an hour</td>\n",
       "      <td>\\nFamiliarity or experience with advanced meth...</td>\n",
       "    </tr>\n",
       "    <tr>\n",
       "      <th>24</th>\n",
       "      <td>24</td>\n",
       "      <td>Data Engineer and Scientist</td>\n",
       "      <td>Dashbot.io</td>\n",
       "      <td>San Francisco, CA</td>\n",
       "      <td>$160,000 - $180,000 a year</td>\n",
       "      <td>\\nWe are looking for a big data engineer and s...</td>\n",
       "    </tr>\n",
       "    <tr>\n",
       "      <th>25</th>\n",
       "      <td>25</td>\n",
       "      <td>Data Scientist, Sr</td>\n",
       "      <td>Arka</td>\n",
       "      <td>San Francisco, CA</td>\n",
       "      <td>$85 an hour</td>\n",
       "      <td>\\nData Scientist, Sr. Familiarity with statist...</td>\n",
       "    </tr>\n",
       "    <tr>\n",
       "      <th>26</th>\n",
       "      <td>26</td>\n",
       "      <td>Data Scientist - Recommendation Engine</td>\n",
       "      <td>Bayone Solutions Inc.</td>\n",
       "      <td>San Francisco, CA</td>\n",
       "      <td>$160,000 a year</td>\n",
       "      <td>\\nPosition - Data Scientist - Recommendation E...</td>\n",
       "    </tr>\n",
       "    <tr>\n",
       "      <th>27</th>\n",
       "      <td>27</td>\n",
       "      <td>Data Scientist</td>\n",
       "      <td>City &amp; County of San Francisco</td>\n",
       "      <td>San Francisco, CA 94124 (Bayview area)</td>\n",
       "      <td>$42.73 - $51.94 an hour</td>\n",
       "      <td>\\nFamiliarity or experience with advanced meth...</td>\n",
       "    </tr>\n",
       "    <tr>\n",
       "      <th>28</th>\n",
       "      <td>28</td>\n",
       "      <td>Data Engineer and Scientist</td>\n",
       "      <td>Dashbot.io</td>\n",
       "      <td>San Francisco, CA</td>\n",
       "      <td>$160,000 - $180,000 a year</td>\n",
       "      <td>\\nWe are looking for a big data engineer and s...</td>\n",
       "    </tr>\n",
       "    <tr>\n",
       "      <th>29</th>\n",
       "      <td>29</td>\n",
       "      <td>Data Scientist</td>\n",
       "      <td>City &amp; County of San Francisco</td>\n",
       "      <td>San Francisco, CA 94124 (Bayview area)</td>\n",
       "      <td>$42.73 - $51.94 an hour</td>\n",
       "      <td>\\nFamiliarity or experience with advanced meth...</td>\n",
       "    </tr>\n",
       "    <tr>\n",
       "      <th>...</th>\n",
       "      <td>...</td>\n",
       "      <td>...</td>\n",
       "      <td>...</td>\n",
       "      <td>...</td>\n",
       "      <td>...</td>\n",
       "      <td>...</td>\n",
       "    </tr>\n",
       "    <tr>\n",
       "      <th>256</th>\n",
       "      <td>256</td>\n",
       "      <td>Research Associate - Statistical Analyst</td>\n",
       "      <td>Oregon Health &amp; Sciences University (OHSU)</td>\n",
       "      <td>Portland, OR</td>\n",
       "      <td>$70,000 a year</td>\n",
       "      <td>\\nMaster’s degree with major courses in relati...</td>\n",
       "    </tr>\n",
       "    <tr>\n",
       "      <th>257</th>\n",
       "      <td>257</td>\n",
       "      <td>Research Associate - Statistical Analyst</td>\n",
       "      <td>Oregon Health &amp; Sciences University (OHSU)</td>\n",
       "      <td>Portland, OR</td>\n",
       "      <td>$70,000 a year</td>\n",
       "      <td>\\nMaster’s degree with major courses in relati...</td>\n",
       "    </tr>\n",
       "    <tr>\n",
       "      <th>258</th>\n",
       "      <td>258</td>\n",
       "      <td>Research Associate - Statistical Analyst</td>\n",
       "      <td>Oregon Health &amp; Sciences University (OHSU)</td>\n",
       "      <td>Portland, OR</td>\n",
       "      <td>$70,000 a year</td>\n",
       "      <td>\\nMaster’s degree with major courses in relati...</td>\n",
       "    </tr>\n",
       "    <tr>\n",
       "      <th>259</th>\n",
       "      <td>259</td>\n",
       "      <td>Research Associate - Statistical Analyst</td>\n",
       "      <td>Oregon Health &amp; Sciences University (OHSU)</td>\n",
       "      <td>Portland, OR</td>\n",
       "      <td>$70,000 a year</td>\n",
       "      <td>\\nMaster’s degree with major courses in relati...</td>\n",
       "    </tr>\n",
       "    <tr>\n",
       "      <th>260</th>\n",
       "      <td>260</td>\n",
       "      <td>Research Associate - Statistical Analyst</td>\n",
       "      <td>Oregon Health &amp; Sciences University (OHSU)</td>\n",
       "      <td>Portland, OR</td>\n",
       "      <td>$70,000 a year</td>\n",
       "      <td>\\nMaster’s degree with major courses in relati...</td>\n",
       "    </tr>\n",
       "    <tr>\n",
       "      <th>261</th>\n",
       "      <td>261</td>\n",
       "      <td>Research Associate - Statistical Analyst</td>\n",
       "      <td>Oregon Health &amp; Sciences University (OHSU)</td>\n",
       "      <td>Portland, OR</td>\n",
       "      <td>$70,000 a year</td>\n",
       "      <td>\\nMaster’s degree with major courses in relati...</td>\n",
       "    </tr>\n",
       "    <tr>\n",
       "      <th>262</th>\n",
       "      <td>262</td>\n",
       "      <td>Business Intelligence Scientist</td>\n",
       "      <td>All-In Analytics</td>\n",
       "      <td>Seattle, WA</td>\n",
       "      <td>$100,000 - $150,000 a year</td>\n",
       "      <td>\\nSQL, Digital Analytics, eCommerce, Big Data,...</td>\n",
       "    </tr>\n",
       "    <tr>\n",
       "      <th>263</th>\n",
       "      <td>263</td>\n",
       "      <td>Research Analyst, The Giving Practice</td>\n",
       "      <td>Philanthropy Northwest</td>\n",
       "      <td>Seattle, WA 98121 (Belltown area)</td>\n",
       "      <td>$50,000 - $60,000 a year</td>\n",
       "      <td>\\nManage Philanthropy's Reflective Practice pr...</td>\n",
       "    </tr>\n",
       "    <tr>\n",
       "      <th>264</th>\n",
       "      <td>264</td>\n",
       "      <td>Machine Learning Engineer - Big Data, Python, R</td>\n",
       "      <td>HERO.Jobs</td>\n",
       "      <td>Seattle, WA</td>\n",
       "      <td>$160,000 a year</td>\n",
       "      <td>\\nBuild big data, machine learning application...</td>\n",
       "    </tr>\n",
       "    <tr>\n",
       "      <th>265</th>\n",
       "      <td>265</td>\n",
       "      <td>Research Analyst</td>\n",
       "      <td>Smith Arnold Partners</td>\n",
       "      <td>Seattle, WA</td>\n",
       "      <td>$50,000 - $65,000 a year</td>\n",
       "      <td>\\nThe Research Analyst will manage all aspects...</td>\n",
       "    </tr>\n",
       "    <tr>\n",
       "      <th>266</th>\n",
       "      <td>266</td>\n",
       "      <td>MEDICAL LABORATORY SCIENTIST 1 OR TRAINEE</td>\n",
       "      <td>University of Washington</td>\n",
       "      <td>Seattle, WA</td>\n",
       "      <td>$4,319 - $6,183 a month</td>\n",
       "      <td>\\nTrauma, Burn, Neurosciences, AIDS/STD CARER,...</td>\n",
       "    </tr>\n",
       "    <tr>\n",
       "      <th>267</th>\n",
       "      <td>267</td>\n",
       "      <td>Variant Scientist (Remote)</td>\n",
       "      <td>Lighthouse Recruiting</td>\n",
       "      <td>Seattle, WA</td>\n",
       "      <td>$90,000 - $100,000 a year</td>\n",
       "      <td>\\nWe are currently seeking a Variant Scientist...</td>\n",
       "    </tr>\n",
       "    <tr>\n",
       "      <th>268</th>\n",
       "      <td>268</td>\n",
       "      <td>TMDL Lead (Environmental Specialist 4)</td>\n",
       "      <td>State of Washington</td>\n",
       "      <td>Bellevue, WA</td>\n",
       "      <td>$48,060 - $63,036 a year</td>\n",
       "      <td>\\nInvestigating and / or resolving complaints ...</td>\n",
       "    </tr>\n",
       "    <tr>\n",
       "      <th>269</th>\n",
       "      <td>269</td>\n",
       "      <td>IDENTITY AND ACCESS ANALYST</td>\n",
       "      <td>University of Washington Medical Center</td>\n",
       "      <td>Seattle, WA</td>\n",
       "      <td>$3,564 - $4,792 a month</td>\n",
       "      <td>\\nUW Medicine’s mission is to improve the heal...</td>\n",
       "    </tr>\n",
       "    <tr>\n",
       "      <th>270</th>\n",
       "      <td>270</td>\n",
       "      <td>Software Development Engineer, Machine Learning</td>\n",
       "      <td>Prime 8 Consulting</td>\n",
       "      <td>Bellevue, WA 98004 (Downtown area)</td>\n",
       "      <td>$160,000 a year</td>\n",
       "      <td>\\nIf you answered “yes” to all of these, then ...</td>\n",
       "    </tr>\n",
       "    <tr>\n",
       "      <th>271</th>\n",
       "      <td>271</td>\n",
       "      <td>Molecular Laboratory Supervisor</td>\n",
       "      <td>Lighthouse Recruiting</td>\n",
       "      <td>Seattle, WA</td>\n",
       "      <td>$70,000 - $85,000 a year</td>\n",
       "      <td>\\nExciting opportunity to be part of a new mol...</td>\n",
       "    </tr>\n",
       "    <tr>\n",
       "      <th>272</th>\n",
       "      <td>272</td>\n",
       "      <td>MEDICAL LABORATORY SCIENTIST LEAD</td>\n",
       "      <td>University of Washington</td>\n",
       "      <td>Seattle, WA</td>\n",
       "      <td>$5,168 - $7,393 a month</td>\n",
       "      <td>\\nAccredited Bachelor's Degree in Medical Labo...</td>\n",
       "    </tr>\n",
       "    <tr>\n",
       "      <th>273</th>\n",
       "      <td>273</td>\n",
       "      <td>MEDICAL LABORATORY SCIENTIST LEAD</td>\n",
       "      <td>University of Washington Medical Center</td>\n",
       "      <td>Seattle, WA</td>\n",
       "      <td>$5,168 - $7,393 a month</td>\n",
       "      <td>\\nTrauma, Burn, Neurosciences, AIDS/STD CARER,...</td>\n",
       "    </tr>\n",
       "    <tr>\n",
       "      <th>274</th>\n",
       "      <td>274</td>\n",
       "      <td>Senior Research Scientist</td>\n",
       "      <td>University of Texas at Austin</td>\n",
       "      <td>Austin, TX</td>\n",
       "      <td>$6,667 a month</td>\n",
       "      <td>\\nPlay leadership role in development of data ...</td>\n",
       "    </tr>\n",
       "    <tr>\n",
       "      <th>275</th>\n",
       "      <td>275</td>\n",
       "      <td>Research Engineering/ Scientist Associate I (E...</td>\n",
       "      <td>University of Texas at Austin</td>\n",
       "      <td>Austin, TX</td>\n",
       "      <td>$3,957 a month</td>\n",
       "      <td>\\nBachelor's degree in related field, i.e. Civ...</td>\n",
       "    </tr>\n",
       "    <tr>\n",
       "      <th>276</th>\n",
       "      <td>276</td>\n",
       "      <td>Senior Statistical Analyst</td>\n",
       "      <td>Health &amp; Human Services Comm</td>\n",
       "      <td>Austin, TX</td>\n",
       "      <td>$5,259 - $6,941 a month</td>\n",
       "      <td>\\nReviews and analyzes health claims data to d...</td>\n",
       "    </tr>\n",
       "    <tr>\n",
       "      <th>277</th>\n",
       "      <td>277</td>\n",
       "      <td>Senior Machine Learning Data Scientist</td>\n",
       "      <td>All-In Analytics</td>\n",
       "      <td>Austin, TX</td>\n",
       "      <td>$140,000 - $160,000 a year</td>\n",
       "      <td>\\nMachine Learning Data Scientist. Proficient ...</td>\n",
       "    </tr>\n",
       "    <tr>\n",
       "      <th>278</th>\n",
       "      <td>278</td>\n",
       "      <td>Research Analyst</td>\n",
       "      <td>Smith Arnold Partners</td>\n",
       "      <td>Austin, TX</td>\n",
       "      <td>$50,000 - $65,000 a year</td>\n",
       "      <td>\\nThe Research Analyst will manage all aspects...</td>\n",
       "    </tr>\n",
       "    <tr>\n",
       "      <th>279</th>\n",
       "      <td>279</td>\n",
       "      <td>Forensic Scientist I-III (Drug Analysis), LES-...</td>\n",
       "      <td>Texas Department of Public Safety</td>\n",
       "      <td>Austin, TX</td>\n",
       "      <td>$3,616 - $5,433 a month</td>\n",
       "      <td>\\nSalary is contingent upon qualifications and...</td>\n",
       "    </tr>\n",
       "    <tr>\n",
       "      <th>280</th>\n",
       "      <td>280</td>\n",
       "      <td>Engineering Scientist Associate - Remote Sensi...</td>\n",
       "      <td>University of Texas at Austin</td>\n",
       "      <td>Austin, TX</td>\n",
       "      <td>$5,400 - $6,500 a month</td>\n",
       "      <td>\\nSubject to a government security investigati...</td>\n",
       "    </tr>\n",
       "    <tr>\n",
       "      <th>281</th>\n",
       "      <td>281</td>\n",
       "      <td>Machine Learning Engineer</td>\n",
       "      <td>Volt Workforce Solutions</td>\n",
       "      <td>Austin, TX</td>\n",
       "      <td>$120,000 - $150,000 a year</td>\n",
       "      <td>\\nDeep understanding and practical experience ...</td>\n",
       "    </tr>\n",
       "    <tr>\n",
       "      <th>282</th>\n",
       "      <td>282</td>\n",
       "      <td>Senior Systems Administrator</td>\n",
       "      <td>University of Texas at Austin</td>\n",
       "      <td>Austin, TX</td>\n",
       "      <td>$5,833 a month</td>\n",
       "      <td>\\nExperience working in an academic research e...</td>\n",
       "    </tr>\n",
       "    <tr>\n",
       "      <th>283</th>\n",
       "      <td>283</td>\n",
       "      <td>Engineering Scientist - Satellite Attitude Det...</td>\n",
       "      <td>University of Texas at Austin</td>\n",
       "      <td>Austin, TX</td>\n",
       "      <td>$6,250 - $10,833 a month</td>\n",
       "      <td>\\nSubject to a government security investigati...</td>\n",
       "    </tr>\n",
       "    <tr>\n",
       "      <th>284</th>\n",
       "      <td>284</td>\n",
       "      <td>Healthcare Billing / RCM Supervisor</td>\n",
       "      <td>Lighthouse Recruiting</td>\n",
       "      <td>Austin, TX</td>\n",
       "      <td>$55,000 - $70,000 a year</td>\n",
       "      <td>\\nJoin our Medical Laboratory Scientists Group...</td>\n",
       "    </tr>\n",
       "    <tr>\n",
       "      <th>285</th>\n",
       "      <td>285</td>\n",
       "      <td>LCMS Certifying Scientist</td>\n",
       "      <td>Lighthouse Recruiting</td>\n",
       "      <td>Austin, TX</td>\n",
       "      <td>$60,000 - $80,000 a year</td>\n",
       "      <td>\\nJoin our Medical Laboratory Scientists Group...</td>\n",
       "    </tr>\n",
       "  </tbody>\n",
       "</table>\n",
       "<p>286 rows × 6 columns</p>\n",
       "</div>"
      ],
      "text/plain": [
       "     Unnamed: 0                                              title  \\\n",
       "0             0                      Research Financial Analyst II   \n",
       "1             1                 Senior Predictive Modeling Actuary   \n",
       "2             2                              Senior Data Scientist   \n",
       "3             3                           Director of Data Science   \n",
       "4             4              Data Scientist -Fitness/Wellness Firm   \n",
       "5             5  Statistical Data Analyst- Long-term Contract i...   \n",
       "6             6  Statistical Analyst (part-time or full-time co...   \n",
       "7             7                   Data Scientist (Healthcare Data)   \n",
       "8             8                          Machine Learning Engineer   \n",
       "9             9                               Quantitative Analyst   \n",
       "10           10                                Statistical Modeler   \n",
       "11           11  Data Scientist – Big Data/Artificial Intelligence   \n",
       "12           12                 Statistical Analyst -- Health-7444   \n",
       "13           13                                Lead Data Scientist   \n",
       "14           14                              Senior Data Scientist   \n",
       "15           15                        Quality Engineer (Big Data)   \n",
       "16           16                          Academic Python Developer   \n",
       "17           17                Senior Environmental Soil Scientist   \n",
       "18           18          Manager / Director of Predictive Modeling   \n",
       "19           19           Supervising Environmental Soil Scientist   \n",
       "20           20  Director of Research and Enrollment Informatio...   \n",
       "21           21                                     Data Scientist   \n",
       "22           22                        Data Engineer and Scientist   \n",
       "23           23                                     Data Scientist   \n",
       "24           24                        Data Engineer and Scientist   \n",
       "25           25                                 Data Scientist, Sr   \n",
       "26           26             Data Scientist - Recommendation Engine   \n",
       "27           27                                     Data Scientist   \n",
       "28           28                        Data Engineer and Scientist   \n",
       "29           29                                     Data Scientist   \n",
       "..          ...                                                ...   \n",
       "256         256           Research Associate - Statistical Analyst   \n",
       "257         257           Research Associate - Statistical Analyst   \n",
       "258         258           Research Associate - Statistical Analyst   \n",
       "259         259           Research Associate - Statistical Analyst   \n",
       "260         260           Research Associate - Statistical Analyst   \n",
       "261         261           Research Associate - Statistical Analyst   \n",
       "262         262                    Business Intelligence Scientist   \n",
       "263         263              Research Analyst, The Giving Practice   \n",
       "264         264    Machine Learning Engineer - Big Data, Python, R   \n",
       "265         265                                   Research Analyst   \n",
       "266         266          MEDICAL LABORATORY SCIENTIST 1 OR TRAINEE   \n",
       "267         267                         Variant Scientist (Remote)   \n",
       "268         268             TMDL Lead (Environmental Specialist 4)   \n",
       "269         269                        IDENTITY AND ACCESS ANALYST   \n",
       "270         270    Software Development Engineer, Machine Learning   \n",
       "271         271                    Molecular Laboratory Supervisor   \n",
       "272         272                  MEDICAL LABORATORY SCIENTIST LEAD   \n",
       "273         273                  MEDICAL LABORATORY SCIENTIST LEAD   \n",
       "274         274                          Senior Research Scientist   \n",
       "275         275  Research Engineering/ Scientist Associate I (E...   \n",
       "276         276                         Senior Statistical Analyst   \n",
       "277         277             Senior Machine Learning Data Scientist   \n",
       "278         278                                   Research Analyst   \n",
       "279         279  Forensic Scientist I-III (Drug Analysis), LES-...   \n",
       "280         280  Engineering Scientist Associate - Remote Sensi...   \n",
       "281         281                          Machine Learning Engineer   \n",
       "282         282                       Senior Systems Administrator   \n",
       "283         283  Engineering Scientist - Satellite Attitude Det...   \n",
       "284         284                Healthcare Billing / RCM Supervisor   \n",
       "285         285                          LCMS Certifying Scientist   \n",
       "\n",
       "                                               company  \\\n",
       "0                           Baylor College of Medicine   \n",
       "1                                       Selby Jennings   \n",
       "2                                Workbridge Associates   \n",
       "3                                Workbridge Associates   \n",
       "4                                             Hirewell   \n",
       "5                                                Modis   \n",
       "6                                  Mission Measurement   \n",
       "7                                Workbridge Associates   \n",
       "8                                   Jobspring Partners   \n",
       "9                             Silva Capital Management   \n",
       "10                             Smith Hanley Associates   \n",
       "11                                      Selby Jennings   \n",
       "12                                  S.C. International   \n",
       "13                                 Analytic Recruiting   \n",
       "14                                  Jobspring Partners   \n",
       "15                                  Jobspring Partners   \n",
       "16                                  Jobspring Partners   \n",
       "17   Metropolitan Water Reclamation District of Gre...   \n",
       "18                                 Analytic Recruiting   \n",
       "19   Metropolitan Water Reclamation District of Gre...   \n",
       "20   Rosalind Franklin University of Medicine and S...   \n",
       "21                      City & County of San Francisco   \n",
       "22                                          Dashbot.io   \n",
       "23                      City & County of San Francisco   \n",
       "24                                          Dashbot.io   \n",
       "25                                                Arka   \n",
       "26                               Bayone Solutions Inc.   \n",
       "27                      City & County of San Francisco   \n",
       "28                                          Dashbot.io   \n",
       "29                      City & County of San Francisco   \n",
       "..                                                 ...   \n",
       "256         Oregon Health & Sciences University (OHSU)   \n",
       "257         Oregon Health & Sciences University (OHSU)   \n",
       "258         Oregon Health & Sciences University (OHSU)   \n",
       "259         Oregon Health & Sciences University (OHSU)   \n",
       "260         Oregon Health & Sciences University (OHSU)   \n",
       "261         Oregon Health & Sciences University (OHSU)   \n",
       "262                                   All-In Analytics   \n",
       "263                             Philanthropy Northwest   \n",
       "264                                          HERO.Jobs   \n",
       "265                              Smith Arnold Partners   \n",
       "266                           University of Washington   \n",
       "267                              Lighthouse Recruiting   \n",
       "268                                State of Washington   \n",
       "269            University of Washington Medical Center   \n",
       "270                                 Prime 8 Consulting   \n",
       "271                              Lighthouse Recruiting   \n",
       "272                           University of Washington   \n",
       "273            University of Washington Medical Center   \n",
       "274                      University of Texas at Austin   \n",
       "275                      University of Texas at Austin   \n",
       "276                       Health & Human Services Comm   \n",
       "277                                   All-In Analytics   \n",
       "278                              Smith Arnold Partners   \n",
       "279                  Texas Department of Public Safety   \n",
       "280                      University of Texas at Austin   \n",
       "281                           Volt Workforce Solutions   \n",
       "282                      University of Texas at Austin   \n",
       "283                      University of Texas at Austin   \n",
       "284                              Lighthouse Recruiting   \n",
       "285                              Lighthouse Recruiting   \n",
       "\n",
       "                                     location                      salary  \\\n",
       "0                                 Houston, TX              $65,000 a year   \n",
       "1                                 Houston, TX   $70,000 - $130,000 a year   \n",
       "2                                 Chicago, IL             $130,000 a year   \n",
       "3                                 Chicago, IL             $180,000 a year   \n",
       "4                                 Chicago, IL             $120,000 a year   \n",
       "5                        Northbrook, IL 60062           $25 - $35 an hour   \n",
       "6               Chicago, IL 60601 (Loop area)                 $20 an hour   \n",
       "7                                 Chicago, IL             $110,000 a year   \n",
       "8                                 Chicago, IL  $100,000 - $120,000 a year   \n",
       "9    Chicago, IL 60611 (Near North Side area)             $125,000 a year   \n",
       "10                                Chicago, IL    $75,000 - $90,000 a year   \n",
       "11                                Chicago, IL  $135,000 - $165,000 a year   \n",
       "12                                Chicago, IL              $80,000 a year   \n",
       "13                                Chicago, IL             $140,000 a year   \n",
       "14                               Glenview, IL   $80,000 - $120,000 a year   \n",
       "15                                Chicago, IL   $70,000 - $105,000 a year   \n",
       "16                                Chicago, IL   $75,000 - $100,000 a year   \n",
       "17                                Chicago, IL   $93,257 - $137,114 a year   \n",
       "18                                Chicago, IL  $100,000 - $130,000 a year   \n",
       "19                                Chicago, IL  $104,674 - $151,358 a year   \n",
       "20                                Chicago, IL    $62,575 - $78,219 a year   \n",
       "21     San Francisco, CA 94124 (Bayview area)     $42.73 - $51.94 an hour   \n",
       "22                          San Francisco, CA  $160,000 - $180,000 a year   \n",
       "23     San Francisco, CA 94124 (Bayview area)     $42.73 - $51.94 an hour   \n",
       "24                          San Francisco, CA  $160,000 - $180,000 a year   \n",
       "25                          San Francisco, CA                 $85 an hour   \n",
       "26                          San Francisco, CA             $160,000 a year   \n",
       "27     San Francisco, CA 94124 (Bayview area)     $42.73 - $51.94 an hour   \n",
       "28                          San Francisco, CA  $160,000 - $180,000 a year   \n",
       "29     San Francisco, CA 94124 (Bayview area)     $42.73 - $51.94 an hour   \n",
       "..                                        ...                         ...   \n",
       "256                              Portland, OR              $70,000 a year   \n",
       "257                              Portland, OR              $70,000 a year   \n",
       "258                              Portland, OR              $70,000 a year   \n",
       "259                              Portland, OR              $70,000 a year   \n",
       "260                              Portland, OR              $70,000 a year   \n",
       "261                              Portland, OR              $70,000 a year   \n",
       "262                               Seattle, WA  $100,000 - $150,000 a year   \n",
       "263         Seattle, WA 98121 (Belltown area)    $50,000 - $60,000 a year   \n",
       "264                               Seattle, WA             $160,000 a year   \n",
       "265                               Seattle, WA    $50,000 - $65,000 a year   \n",
       "266                               Seattle, WA     $4,319 - $6,183 a month   \n",
       "267                               Seattle, WA   $90,000 - $100,000 a year   \n",
       "268                              Bellevue, WA    $48,060 - $63,036 a year   \n",
       "269                               Seattle, WA     $3,564 - $4,792 a month   \n",
       "270        Bellevue, WA 98004 (Downtown area)             $160,000 a year   \n",
       "271                               Seattle, WA    $70,000 - $85,000 a year   \n",
       "272                               Seattle, WA     $5,168 - $7,393 a month   \n",
       "273                               Seattle, WA     $5,168 - $7,393 a month   \n",
       "274                                Austin, TX              $6,667 a month   \n",
       "275                                Austin, TX              $3,957 a month   \n",
       "276                                Austin, TX     $5,259 - $6,941 a month   \n",
       "277                                Austin, TX  $140,000 - $160,000 a year   \n",
       "278                                Austin, TX    $50,000 - $65,000 a year   \n",
       "279                                Austin, TX     $3,616 - $5,433 a month   \n",
       "280                                Austin, TX     $5,400 - $6,500 a month   \n",
       "281                                Austin, TX  $120,000 - $150,000 a year   \n",
       "282                                Austin, TX              $5,833 a month   \n",
       "283                                Austin, TX    $6,250 - $10,833 a month   \n",
       "284                                Austin, TX    $55,000 - $70,000 a year   \n",
       "285                                Austin, TX    $60,000 - $80,000 a year   \n",
       "\n",
       "                                               summary  \n",
       "0    \\nUsing data from Principal Investigators and ...  \n",
       "1    \\nSenior Predictive Modeler A leading global i...  \n",
       "2    \\nStatistical modeling, predictive analysis, m...  \n",
       "3    \\nMid, Senior, Lead, Data, Scientist, Machine,...  \n",
       "4    \\nExpertise in text mining, NLP methods, infor...  \n",
       "5    \\nExperience with BI Analytics & Data Visualiz...  \n",
       "6    \\nFor each area of social policy – e.g., educa...  \n",
       "7    \\nA leading provider of healthcare analytics f...  \n",
       "8    \\nThis role is ideal for someone who has a str...  \n",
       "9    \\nR, Python, VBA, Mat lab, C#). In Physics, En...  \n",
       "10   \\n-Conduct data mining studies. Smith Hanley A...  \n",
       "11   \\n5+ years experience using R, SPSS, Python, M...  \n",
       "12   \\nSeeking strong proficiency with SAS, SQL, an...  \n",
       "13   \\nMachine Learning, Segmentation, Marketing An...  \n",
       "14   \\nData visualization experience. Experience us...  \n",
       "15   \\nBrand new product that is used globally by t...  \n",
       "16   \\nWork with some of the smartest computer scie...  \n",
       "17   \\nAppointment is subject to successfully passi...  \n",
       "18   \\nAnalytics, SAS, R, SPSS, Marketing Analytics...  \n",
       "19   \\nAppointment is subject to successfully passi...  \n",
       "20   \\nThe mission of Rosalind Franklin University ...  \n",
       "21   \\nFamiliarity or experience with advanced meth...  \n",
       "22   \\nWe are looking for a big data engineer and s...  \n",
       "23   \\nFamiliarity or experience with advanced meth...  \n",
       "24   \\nWe are looking for a big data engineer and s...  \n",
       "25   \\nData Scientist, Sr. Familiarity with statist...  \n",
       "26   \\nPosition - Data Scientist - Recommendation E...  \n",
       "27   \\nFamiliarity or experience with advanced meth...  \n",
       "28   \\nWe are looking for a big data engineer and s...  \n",
       "29   \\nFamiliarity or experience with advanced meth...  \n",
       "..                                                 ...  \n",
       "256  \\nMaster’s degree with major courses in relati...  \n",
       "257  \\nMaster’s degree with major courses in relati...  \n",
       "258  \\nMaster’s degree with major courses in relati...  \n",
       "259  \\nMaster’s degree with major courses in relati...  \n",
       "260  \\nMaster’s degree with major courses in relati...  \n",
       "261  \\nMaster’s degree with major courses in relati...  \n",
       "262  \\nSQL, Digital Analytics, eCommerce, Big Data,...  \n",
       "263  \\nManage Philanthropy's Reflective Practice pr...  \n",
       "264  \\nBuild big data, machine learning application...  \n",
       "265  \\nThe Research Analyst will manage all aspects...  \n",
       "266  \\nTrauma, Burn, Neurosciences, AIDS/STD CARER,...  \n",
       "267  \\nWe are currently seeking a Variant Scientist...  \n",
       "268  \\nInvestigating and / or resolving complaints ...  \n",
       "269  \\nUW Medicine’s mission is to improve the heal...  \n",
       "270  \\nIf you answered “yes” to all of these, then ...  \n",
       "271  \\nExciting opportunity to be part of a new mol...  \n",
       "272  \\nAccredited Bachelor's Degree in Medical Labo...  \n",
       "273  \\nTrauma, Burn, Neurosciences, AIDS/STD CARER,...  \n",
       "274  \\nPlay leadership role in development of data ...  \n",
       "275  \\nBachelor's degree in related field, i.e. Civ...  \n",
       "276  \\nReviews and analyzes health claims data to d...  \n",
       "277  \\nMachine Learning Data Scientist. Proficient ...  \n",
       "278  \\nThe Research Analyst will manage all aspects...  \n",
       "279  \\nSalary is contingent upon qualifications and...  \n",
       "280  \\nSubject to a government security investigati...  \n",
       "281  \\nDeep understanding and practical experience ...  \n",
       "282  \\nExperience working in an academic research e...  \n",
       "283  \\nSubject to a government security investigati...  \n",
       "284  \\nJoin our Medical Laboratory Scientists Group...  \n",
       "285  \\nJoin our Medical Laboratory Scientists Group...  \n",
       "\n",
       "[286 rows x 6 columns]"
      ]
     },
     "execution_count": 2,
     "metadata": {},
     "output_type": "execute_result"
    }
   ],
   "source": [
    "## YOUR CODE HERE\n",
    "df=pd.read_csv('/Users/PatrickChen/Desktop/CSV FILES/indeed_data.csv',sep='\\t')\n",
    "df"
   ]
  },
  {
   "cell_type": "code",
   "execution_count": 3,
   "metadata": {
    "collapsed": false,
    "scrolled": true
   },
   "outputs": [
    {
     "name": "stderr",
     "output_type": "stream",
     "text": [
      "/Users/PatrickChen/anaconda/envs/dsienv/lib/python2.7/site-packages/ipykernel/__main__.py:13: SettingWithCopyWarning: \n",
      "A value is trying to be set on a copy of a slice from a DataFrame\n",
      "\n",
      "See the caveats in the documentation: http://pandas.pydata.org/pandas-docs/stable/indexing.html#indexing-view-versus-copy\n",
      "/Users/PatrickChen/anaconda/envs/dsienv/lib/python2.7/site-packages/IPython/core/interactiveshell.py:2881: SettingWithCopyWarning: \n",
      "A value is trying to be set on a copy of a slice from a DataFrame\n",
      "\n",
      "See the caveats in the documentation: http://pandas.pydata.org/pandas-docs/stable/indexing.html#indexing-view-versus-copy\n",
      "  exec(code_obj, self.user_global_ns, self.user_ns)\n",
      "/Users/PatrickChen/anaconda/envs/dsienv/lib/python2.7/site-packages/ipykernel/__main__.py:14: SettingWithCopyWarning: \n",
      "A value is trying to be set on a copy of a slice from a DataFrame\n",
      "\n",
      "See the caveats in the documentation: http://pandas.pydata.org/pandas-docs/stable/indexing.html#indexing-view-versus-copy\n",
      "/Users/PatrickChen/anaconda/envs/dsienv/lib/python2.7/site-packages/ipykernel/__main__.py:15: SettingWithCopyWarning: \n",
      "A value is trying to be set on a copy of a slice from a DataFrame\n",
      "\n",
      "See the caveats in the documentation: http://pandas.pydata.org/pandas-docs/stable/indexing.html#indexing-view-versus-copy\n",
      "/Users/PatrickChen/anaconda/envs/dsienv/lib/python2.7/site-packages/ipykernel/__main__.py:16: SettingWithCopyWarning: \n",
      "A value is trying to be set on a copy of a slice from a DataFrame\n",
      "\n",
      "See the caveats in the documentation: http://pandas.pydata.org/pandas-docs/stable/indexing.html#indexing-view-versus-copy\n"
     ]
    }
   ],
   "source": [
    "# Clean up salary\n",
    "df.salary.value_counts()\n",
    "x = df.salary.str.split('-')\n",
    "\n",
    "salary = []\n",
    "for i in range(len(x)):\n",
    "    salary.append(x[i][-1])\n",
    "df.salary = salary\n",
    "\n",
    "df = df[df.salary.str.contains(\"year\")]\n",
    "\n",
    "for i in df.salary.index:\n",
    "    df.salary[i] = df.salary[i].replace(\" a year\", \"\")\n",
    "    df.salary[i] = df.salary[i].replace(\"$\", \"\")\n",
    "    df.salary[i] = df.salary[i].replace(\",\", \"\")\n",
    "    df.salary[i] = float(df.salary[i])"
   ]
  },
  {
   "cell_type": "code",
   "execution_count": 4,
   "metadata": {
    "collapsed": false
   },
   "outputs": [
    {
     "name": "stderr",
     "output_type": "stream",
     "text": [
      "/Users/PatrickChen/anaconda/envs/dsienv/lib/python2.7/site-packages/pandas/core/generic.py:2773: SettingWithCopyWarning: \n",
      "A value is trying to be set on a copy of a slice from a DataFrame.\n",
      "Try using .loc[row_indexer,col_indexer] = value instead\n",
      "\n",
      "See the caveats in the documentation: http://pandas.pydata.org/pandas-docs/stable/indexing.html#indexing-view-versus-copy\n",
      "  self[name] = value\n"
     ]
    }
   ],
   "source": [
    "# clean up locations\n",
    "x = df.location.str.split(',')\n",
    "\n",
    "loc = []\n",
    "for i in df.location.index:\n",
    "    loc.append(x[i][1][1:3])\n",
    "df.location = loc"
   ]
  },
  {
   "cell_type": "code",
   "execution_count": 5,
   "metadata": {
    "collapsed": false,
    "scrolled": true
   },
   "outputs": [],
   "source": [
    "# drop dulicates\n",
    "df = df.drop_duplicates(subset=\"summary\")"
   ]
  },
  {
   "cell_type": "markdown",
   "metadata": {
    "focus": false,
    "id": "c7631f51-07f2-4c79-a093-3e9bc7849a48"
   },
   "source": [
    "#### We want to predict a binary variable - whether the salary was low or high. Compute the median salary and create a new binary variable that is true when the salary is high (above the median)\n",
    "\n",
    "We could also perform Linear Regression (or any regression) to predict the salary value here. Instead, we are going to convert this into a _binary_ classification problem, by predicting two classes, HIGH vs LOW salary.\n",
    "\n",
    "While performing regression may be better, performing classification may help remove some of the noise of the extreme salaries. We don't have to choice the `median` as the splitting point - we could also split on the 75th percentile or any other reasonable breaking point.\n",
    "\n",
    "In fact, the ideal scenario may be to predict many levels of salaries, "
   ]
  },
  {
   "cell_type": "code",
   "execution_count": 6,
   "metadata": {
    "collapsed": false,
    "focus": false,
    "id": "c20d2498-151c-44c3-a453-3a333c79a0ac",
    "scrolled": true
   },
   "outputs": [
    {
     "data": {
      "text/plain": [
       "Index([u'CA', u'CO', u'IL', u'MA', u'NY', u'OR', u'TX', u'WA'], dtype='object')"
      ]
     },
     "execution_count": 6,
     "metadata": {},
     "output_type": "execute_result"
    }
   ],
   "source": [
    "# give dummy variable to salary\n",
    "salary_median = df.salary.median()\n",
    "salary_dum = []\n",
    "for salary in df.salary:\n",
    "    if salary > salary_median:\n",
    "        salary_dum.append(1)\n",
    "    else:\n",
    "        salary_dum.append(0)\n",
    "        \n",
    "df.salary = salary_dum\n",
    "\n",
    "# dummy variabels for location\n",
    "df1 = pd.get_dummies(df[\"location\"])\n",
    "\n",
    "df1.columns"
   ]
  },
  {
   "cell_type": "markdown",
   "metadata": {
    "focus": false,
    "id": "a7afb2c0-d41e-4779-8216-91cd8dd4473f"
   },
   "source": [
    "#### Thought experiment: What is the baseline accuracy for this model?"
   ]
  },
  {
   "cell_type": "code",
   "execution_count": null,
   "metadata": {
    "collapsed": true
   },
   "outputs": [],
   "source": []
  },
  {
   "cell_type": "markdown",
   "metadata": {
    "focus": false,
    "id": "4fb29de2-5b98-474c-a4ad-5170b72b9aea"
   },
   "source": [
    "#### Create a Logistic Regression model to predict High/Low salary using statsmodel. Start by ONLY using the location as a feature. Display the coefficients and write a short summary of what they mean."
   ]
  },
  {
   "cell_type": "code",
   "execution_count": 7,
   "metadata": {
    "collapsed": false,
    "focus": false,
    "id": "ddbc6159-6854-4ca7-857f-bfecdaf6d9c2"
   },
   "outputs": [
    {
     "name": "stderr",
     "output_type": "stream",
     "text": [
      "/Users/PatrickChen/anaconda/envs/dsienv/lib/python2.7/site-packages/sklearn/cross_validation.py:44: DeprecationWarning: This module was deprecated in version 0.18 in favor of the model_selection module into which all the refactored classes and functions are moved. Also note that the interface of the new CV iterators are different from that of this module. This module will be removed in 0.20.\n",
      "  \"This module will be removed in 0.20.\", DeprecationWarning)\n"
     ]
    }
   ],
   "source": [
    "## YOUR CODE HERE\n",
    "from sklearn.linear_model import LogisticRegression\n",
    "from sklearn.cross_validation import train_test_split\n",
    "from sklearn.metrics import confusion_matrix\n",
    "import numpy as np\n",
    "import pandas as pd\n",
    "\n",
    "X = df1[df1.columns]\n",
    "y = df[\"salary\"]"
   ]
  },
  {
   "cell_type": "code",
   "execution_count": 8,
   "metadata": {
    "collapsed": true
   },
   "outputs": [],
   "source": [
    "X_train, X_test, Y_train, Y_test = train_test_split(X, y, test_size=0.33, random_state=5)"
   ]
  },
  {
   "cell_type": "code",
   "execution_count": 9,
   "metadata": {
    "collapsed": false
   },
   "outputs": [],
   "source": [
    "logreg = LogisticRegression(random_state=5)\n",
    "logreg.fit(X_train, Y_train)\n",
    "Y_pred = logreg.predict(X_test)"
   ]
  },
  {
   "cell_type": "code",
   "execution_count": 10,
   "metadata": {
    "collapsed": false
   },
   "outputs": [
    {
     "data": {
      "text/plain": [
       "array([[ 0.76207413, -0.23498114,  0.22297881,  0.08726694,  0.46632659,\n",
       "        -0.9898994 , -0.33126195, -0.10466752]])"
      ]
     },
     "execution_count": 10,
     "metadata": {},
     "output_type": "execute_result"
    }
   ],
   "source": [
    "logreg.coef_"
   ]
  },
  {
   "cell_type": "markdown",
   "metadata": {
    "focus": false,
    "id": "0ef04f32-419c-4bf2-baf7-48201f03df89"
   },
   "source": [
    "#### Create a few new variables in your dataframe to represent interesting features of a job title.\n",
    "- For example, create a feature that represents whether 'Senior' is in the title \n",
    "- or whether 'Manager' is in the title. \n",
    "- Then build a new Logistic Regression model with these features. Do they add any value? \n"
   ]
  },
  {
   "cell_type": "code",
   "execution_count": 11,
   "metadata": {
    "collapsed": false,
    "focus": false,
    "id": "068dc1cf-7fd7-4f27-a1f1-7f0a5a221d29",
    "scrolled": true
   },
   "outputs": [],
   "source": [
    "## titles to lower case\n",
    "lower = []\n",
    "for i in df.title:\n",
    "    lower.append(i.lower())\n",
    "df.title = lower\n",
    "\n",
    "# analyst column\n",
    "analyst=[]\n",
    "for i in df.title.index:\n",
    "    if df.title[i].find(\"analyst\") >0:\n",
    "        analyst.append(1)\n",
    "    else:\n",
    "        analyst.append(0)\n",
    "\n",
    "# scientist column\n",
    "scientist = []\n",
    "for i in df.title.index:\n",
    "    if df.title[i].find(\"scientist\") >0:\n",
    "        scientist.append(1)\n",
    "    else:\n",
    "        scientist.append(0)\n",
    "# scientist column\n",
    "data = []\n",
    "for i in df.title.index:\n",
    "    if df.title[i].find(\"data\") >0:\n",
    "        data.append(1)\n",
    "    else:\n",
    "        data.append(0)"
   ]
  },
  {
   "cell_type": "code",
   "execution_count": 12,
   "metadata": {
    "collapsed": false
   },
   "outputs": [],
   "source": [
    "df[\"analyst\"]=analyst\n",
    "df[\"scientist\"]=scientist\n",
    "df[\"data\"]=data"
   ]
  },
  {
   "cell_type": "code",
   "execution_count": 13,
   "metadata": {
    "collapsed": false,
    "scrolled": false
   },
   "outputs": [
    {
     "data": {
      "text/html": [
       "<div>\n",
       "<table border=\"1\" class=\"dataframe\">\n",
       "  <thead>\n",
       "    <tr style=\"text-align: right;\">\n",
       "      <th></th>\n",
       "      <th>CA</th>\n",
       "      <th>CO</th>\n",
       "      <th>IL</th>\n",
       "      <th>MA</th>\n",
       "      <th>NY</th>\n",
       "      <th>OR</th>\n",
       "      <th>TX</th>\n",
       "      <th>WA</th>\n",
       "    </tr>\n",
       "  </thead>\n",
       "  <tbody>\n",
       "    <tr>\n",
       "      <th>0</th>\n",
       "      <td>0</td>\n",
       "      <td>0</td>\n",
       "      <td>0</td>\n",
       "      <td>0</td>\n",
       "      <td>0</td>\n",
       "      <td>0</td>\n",
       "      <td>1</td>\n",
       "      <td>0</td>\n",
       "    </tr>\n",
       "    <tr>\n",
       "      <th>1</th>\n",
       "      <td>0</td>\n",
       "      <td>0</td>\n",
       "      <td>0</td>\n",
       "      <td>0</td>\n",
       "      <td>0</td>\n",
       "      <td>0</td>\n",
       "      <td>1</td>\n",
       "      <td>0</td>\n",
       "    </tr>\n",
       "    <tr>\n",
       "      <th>2</th>\n",
       "      <td>0</td>\n",
       "      <td>0</td>\n",
       "      <td>1</td>\n",
       "      <td>0</td>\n",
       "      <td>0</td>\n",
       "      <td>0</td>\n",
       "      <td>0</td>\n",
       "      <td>0</td>\n",
       "    </tr>\n",
       "    <tr>\n",
       "      <th>3</th>\n",
       "      <td>0</td>\n",
       "      <td>0</td>\n",
       "      <td>1</td>\n",
       "      <td>0</td>\n",
       "      <td>0</td>\n",
       "      <td>0</td>\n",
       "      <td>0</td>\n",
       "      <td>0</td>\n",
       "    </tr>\n",
       "    <tr>\n",
       "      <th>4</th>\n",
       "      <td>0</td>\n",
       "      <td>0</td>\n",
       "      <td>1</td>\n",
       "      <td>0</td>\n",
       "      <td>0</td>\n",
       "      <td>0</td>\n",
       "      <td>0</td>\n",
       "      <td>0</td>\n",
       "    </tr>\n",
       "  </tbody>\n",
       "</table>\n",
       "</div>"
      ],
      "text/plain": [
       "   CA  CO  IL  MA  NY  OR  TX  WA\n",
       "0   0   0   0   0   0   0   1   0\n",
       "1   0   0   0   0   0   0   1   0\n",
       "2   0   0   1   0   0   0   0   0\n",
       "3   0   0   1   0   0   0   0   0\n",
       "4   0   0   1   0   0   0   0   0"
      ]
     },
     "execution_count": 13,
     "metadata": {},
     "output_type": "execute_result"
    }
   ],
   "source": [
    "df_loc = pd.get_dummies(df.location)\n",
    "df_loc.head()"
   ]
  },
  {
   "cell_type": "code",
   "execution_count": 14,
   "metadata": {
    "collapsed": false
   },
   "outputs": [],
   "source": [
    "# combine df with location dummies\n",
    "df = pd.concat([df, df_loc], axis=1)"
   ]
  },
  {
   "cell_type": "code",
   "execution_count": 15,
   "metadata": {
    "collapsed": false
   },
   "outputs": [],
   "source": [
    "\n",
    "df_columns = df.columns[6:]\n",
    "df_columns \n",
    "X = df[df_columns]\n",
    "y = df.salary\n",
    "\n",
    "X_train, X_test, Y_train, Y_test = train_test_split(X, y, test_size=0.33, random_state=5)\n",
    "\n",
    "logreg = LogisticRegression(random_state=5)\n",
    "logreg.fit(X_train, Y_train)\n",
    "Y_pred = logreg.predict(X_test)"
   ]
  },
  {
   "cell_type": "code",
   "execution_count": 16,
   "metadata": {
    "collapsed": false
   },
   "outputs": [
    {
     "name": "stdout",
     "output_type": "stream",
     "text": [
      "[[ -1.10351139e+00   2.08371212e-01   1.20935805e+00   6.33579910e-01\n",
      "   -2.27952648e-01   3.44135756e-04   1.40705805e-01   4.16141040e-01\n",
      "   -9.06007724e-01  -1.33139851e-01  -6.25078810e-02]]\n"
     ]
    }
   ],
   "source": [
    "print logreg.coef_"
   ]
  },
  {
   "cell_type": "code",
   "execution_count": 17,
   "metadata": {
    "collapsed": false
   },
   "outputs": [
    {
     "data": {
      "text/plain": [
       "NY    29\n",
       "IL    16\n",
       "MA    14\n",
       "CA    13\n",
       "WA     8\n",
       "TX     8\n",
       "OR     6\n",
       "CO     6\n",
       "Name: location, dtype: int64"
      ]
     },
     "execution_count": 17,
     "metadata": {},
     "output_type": "execute_result"
    }
   ],
   "source": [
    "df.location.value_counts()"
   ]
  },
  {
   "cell_type": "code",
   "execution_count": 18,
   "metadata": {
    "collapsed": false,
    "scrolled": true
   },
   "outputs": [
    {
     "data": {
      "image/png": "[encoded data removed]",
      "text/plain": [
       "<matplotlib.figure.Figure at 0x112fefd50>"
      ]
     },
     "metadata": {},
     "output_type": "display_data"
    }
   ],
   "source": [
    "from sklearn.metrics import roc_curve, auc\n",
    "import matplotlib.pyplot as plt\n",
    "plt.style.use('seaborn-white')\n",
    "%matplotlib inline\n",
    "\n",
    "\n",
    "Y_score = logreg.decision_function(X_test)\n",
    "\n",
    "FPR = dict()\n",
    "TPR = dict()\n",
    "ROC_AUC = dict()\n",
    "\n",
    "# For class 1, find the area under the curve\n",
    "FPR[1], TPR[1], _ = roc_curve(Y_test, Y_score)\n",
    "ROC_AUC[1] = auc(FPR[1], TPR[1])\n",
    "\n",
    "# Plot of a ROC curve for class 1 (has_cancer)\n",
    "plt.figure(figsize=[11,9])\n",
    "plt.plot(FPR[1], TPR[1], label='ROC curve (area = %0.2f)' % ROC_AUC[1], linewidth=4)\n",
    "plt.plot([0, 1], [0, 1], 'k--', linewidth=4)\n",
    "plt.xlim([0.0, 1.0])\n",
    "plt.ylim([0.0, 1.05])\n",
    "plt.xlabel('False Positive Rate', fontsize=18)\n",
    "plt.ylabel('True Positive Rate', fontsize=18)\n",
    "plt.title('Words and Salary', fontsize=18)\n",
    "plt.legend(loc=\"lower right\")\n",
    "plt.show()"
   ]
  },
  {
   "cell_type": "markdown",
   "metadata": {
    "focus": false,
    "id": "9367beff-72ba-4768-a0ba-a50b335de61d"
   },
   "source": [
    "#### Use cross-validation in scikit-learn to evaluate the model above. \n",
    "- Evaluate the accuracy, AUC, precision and recall of the model. \n",
    "- Discuss the differences and explain when you want a high-recall or a high-precision model in this scenario."
   ]
  },
  {
   "cell_type": "code",
   "execution_count": 26,
   "metadata": {
    "collapsed": false,
    "focus": false,
    "id": "269b9e7c-60b5-4a06-8255-881d7395bc1b"
   },
   "outputs": [
    {
     "name": "stdout",
     "output_type": "stream",
     "text": [
      "accuracy: [ 0.66666667  0.66666667  0.75        0.1875      0.5625      0.625     ]\n",
      "precision: [ 0.71428571  0.6         0.66666667  0.14285714  0.57142857  0.75      ]\n",
      "recall: [ 0.55555556  1.          1.          0.125       0.5         0.375     ]\n",
      "roc_auc: [ 0.7962963   0.60493827  0.984375    0.203125    0.703125    0.703125  ]\n",
      "             precision    recall  f1-score   support\n",
      "\n",
      "          0       0.71      0.59      0.65        17\n",
      "          1       0.63      0.75      0.69        16\n",
      "\n",
      "avg / total       0.67      0.67      0.66        33\n",
      "\n"
     ]
    }
   ],
   "source": [
    "# ## YOUR CODE HERE\n",
    "# use cross-validation for find score\n",
    "from sklearn.cross_validation import cross_val_score\n",
    "\n",
    "# Perform 6-fold cross validation\n",
    "scores = cross_val_score(logreg, X, y, cv=6, scoring = 'accuracy')  #default MSE\n",
    "print \"accuracy:\", scores\n",
    "\n",
    "scores = cross_val_score(logreg, X, y, cv=6, scoring = 'precision')\n",
    "print \"precision:\", scores\n",
    "\n",
    "scores = cross_val_score(logreg, X, y, cv=6, scoring = 'recall')\n",
    "print \"recall:\", scores\n",
    "\n",
    "scores = cross_val_score(logreg, X, y, cv=6, scoring = 'roc_auc') \n",
    "print \"roc_auc:\", scores\n",
    "\n",
    "from sklearn.metrics import classification_report\n",
    "\n",
    "# precision and recall are done in a class report with f-1 score   \n",
    "class_report = classification_report(Y_test,Y_pred)\n",
    "print class_report\n"
   ]
  },
  {
   "cell_type": "markdown",
   "metadata": {
    "focus": false,
    "id": "8c22664b-92e4-4fc2-b7ac-fbac865845d3"
   },
   "source": [
    "#### Compare L1 and L2 regularization for this logistic regression model. What effect does this have on the coefficients learned?"
   ]
  },
  {
   "cell_type": "code",
   "execution_count": 28,
   "metadata": {
    "collapsed": false,
    "focus": false,
    "id": "172fd952-5012-4630-81f4-1206da6eb820"
   },
   "outputs": [
    {
     "data": {
      "text/plain": [
       "array([[-0.75813816,  0.14354499,  0.94477414,  1.00674353, -0.48997549,\n",
       "        -0.49138637,  0.        ,  0.00819593, -1.5433151 ,  0.        ,\n",
       "         0.        ]])"
      ]
     },
     "execution_count": 28,
     "metadata": {},
     "output_type": "execute_result"
    }
   ],
   "source": [
    "## YOUR CODE HERE\n",
    "logreg_l1 = LogisticRegression(\"l1\")\n",
    "\n",
    "logreg_l1.fit(X,y)\n",
    "\n",
    "logreg_l1.coef_"
   ]
  },
  {
   "cell_type": "code",
   "execution_count": 29,
   "metadata": {
    "collapsed": false,
    "focus": false,
    "id": "56cc8854-d722-411d-a6c7-e86310710f67"
   },
   "outputs": [
    {
     "data": {
      "text/plain": [
       "array([[-0.7347751 ,  0.33686232,  0.91082889,  1.11726243, -0.58625162,\n",
       "        -0.44343941,  0.3904681 ,  0.31403139, -1.11871211,  0.21296728,\n",
       "        -0.17359217]])"
      ]
     },
     "execution_count": 29,
     "metadata": {},
     "output_type": "execute_result"
    }
   ],
   "source": [
    "## YOUR CODE HERE\n",
    "logreg_l2 = LogisticRegression(\"l2\")\n",
    "\n",
    "logreg_l2.fit(X,y)\n",
    "\n",
    "logreg_l2.coef_"
   ]
  },
  {
   "cell_type": "markdown",
   "metadata": {
    "focus": false,
    "id": "fead9b5b-7316-405d-87fd-e144dff0cbeb"
   },
   "source": [
    "#### Continue to incorporate other text features from the title or summary that you believe will predict the salary and examine their coefficients"
   ]
  },
  {
   "cell_type": "markdown",
   "metadata": {
    "focus": false,
    "id": "12d5edeb-a272-43a0-9977-d951f12fedfb"
   },
   "source": [
    "#### Take ~100 scraped entries with salaries. Convert them to use with your model and predict the salary - which entries have the highest predicted salaries?"
   ]
  },
  {
   "cell_type": "markdown",
   "metadata": {
    "focus": false,
    "id": "3be94357-e551-4094-b784-2df039216d33"
   },
   "source": [
    "### BONUS "
   ]
  },
  {
   "cell_type": "markdown",
   "metadata": {
    "focus": false,
    "id": "db045898-1d2d-4af2-8e79-437c4c7546b4"
   },
   "source": [
    "#### Bonus: Use Count Vectorizer from scikit-learn to create features from the text summaries. \n",
    "- Examine using count or binary features in the model\n",
    "- Re-evaluate the logistic regression model using these. Does this improve the model performance? \n",
    "- What text features are the most valuable? "
   ]
  },
  {
   "cell_type": "code",
   "execution_count": null,
   "metadata": {
    "collapsed": false,
    "focus": false,
    "id": "4239e458-28bd-4675-8db3-c1d9c02b9854"
   },
   "outputs": [],
   "source": [
    "## YOUR CODE HERE"
   ]
  },
  {
   "cell_type": "code",
   "execution_count": null,
   "metadata": {
    "collapsed": false,
    "focus": false,
    "id": "fec80936-37bc-4922-89bd-b5d615566c9c"
   },
   "outputs": [],
   "source": [
    "## YOUR CODE HERE"
   ]
  },
  {
   "cell_type": "markdown",
   "metadata": {
    "focus": false,
    "id": "d42b9fd8-39d5-416a-b40b-7410e6396c11"
   },
   "source": [
    "#### Re-test L1 and L2 regularization. You can use LogisticRegressionCV to find the optimal reguarlization parameters. \n",
    "- Re-test what text features are most valuable.  \n",
    "- How do L1 and L2 change the coefficients?"
   ]
  },
  {
   "cell_type": "code",
   "execution_count": null,
   "metadata": {
    "collapsed": false,
    "focus": false,
    "id": "7570e237-c8cc-4e26-b569-7aee10627e79"
   },
   "outputs": [],
   "source": [
    "## YOUR CODE HERE"
   ]
  },
  {
   "cell_type": "code",
   "execution_count": null,
   "metadata": {
    "collapsed": true,
    "focus": false,
    "id": "e3a0c83d-e3b8-4bed-b864-7e795b34a3d4"
   },
   "outputs": [],
   "source": [
    "from sklearn.linear_model import LogisticRegressionCV\n",
    "\n",
    "lrCV = LogisticRegressionCV(Cs=5)\n",
    "lrCV.fit(X, y)\n",
    "\n",
    "print lrCV.scores_ #[1].max())\n"
   ]
  }
 ],
 "metadata": {
  "anaconda-cloud": {},
  "kernelspec": {
   "display_name": "Python [conda env:dsienv]",
   "language": "python",
   "name": "conda-env-dsienv-py"
  },
  "language_info": {
   "codemirror_mode": {
    "name": "ipython",
    "version": 2
   },
   "file_extension": ".py",
   "mimetype": "text/x-python",
   "name": "python",
   "nbconvert_exporter": "python",
   "pygments_lexer": "ipython2",
   "version": "2.7.12"
  }
 },
 "nbformat": 4,
 "nbformat_minor": 0
}
