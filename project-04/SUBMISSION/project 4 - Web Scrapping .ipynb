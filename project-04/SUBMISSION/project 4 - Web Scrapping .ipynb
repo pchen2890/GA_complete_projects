{
 "cells": [
  {
   "cell_type": "code",
   "execution_count": 190,
   "metadata": {
    "collapsed": false
   },
   "outputs": [],
   "source": [
    "import pandas as pd\n",
    "import requests\n",
    "import bs4\n",
    "import urllib\n",
    "from bs4 import BeautifulSoup\n",
    "import re\n",
    "import numpy as np\n",
    "import matplotlib.pyplot as plt\n",
    "%matplotlib inline\n",
    "\n",
    "YOUR_CITY = 'Boston'\n",
    "def getURL(min_n,max_n):\n",
    "    max_results_per_city = max_n\n",
    "    res =[]\n",
    "    \n",
    "    for city in set(['New+York','Chicago','San+Francisco','Austin',\n",
    "                     'Seattle','Denver','Dallas','Houston','Portland',YOUR_CITY]):\n",
    "        for start in range(min_n, max_results_per_city,10):\n",
    "            url = \"http://www.indeed.com/jobs?q=data+scientist&l=\"+city+\"&start=\"+str(start)\n",
    "            res.append(url)\n",
    "        pass\n",
    "    return res"
   ]
  },
  {
   "cell_type": "code",
   "execution_count": null,
   "metadata": {
    "collapsed": false
   },
   "outputs": [],
   "source": [
    "urls = getURL(0,100)\n",
    "new_df = pd.DataFrame(columns = [\"title\",\"company\",\"location\",\"salary\",\"summary\"])"
   ]
  },
  {
   "cell_type": "code",
   "execution_count": null,
   "metadata": {
    "collapsed": false
   },
   "outputs": [],
   "source": [
    "for url in urls:\n",
    "     html = urllib.urlopen(url).read()\n",
    "     soup = BeautifulSoup(html,\"html.parser\")\n",
    "    \n",
    "     for job in soup.findAll(\"div\",{\"class\": \" row result\"}):\n",
    "         try: #try to find the nobr tag but if not, then throw null\n",
    "             salary = job.find(\"td\",{\"class\":\"snip\"}).find(\"nobr\").renderContents()\n",
    "            \n",
    "         except:\n",
    "             salary=\"NA\"\n",
    "    \n",
    "             if salary != \"NA\":\n",
    "                 title = job.find(\"a\",{\"target\":\"_blank\"}).get(\"title\") #get title of job\n",
    "                 company = job.find(\"span\",{\"itemprop\":\"name\"}).getText()\n",
    "                 company = company.replace('  ','').replace(\"\\n\",\"\")\n",
    "                 location = job.find(\"span\",{\"itemprop\":\"addressLocality\"}).getText()\n",
    "                 summary = job.find(\"span\",{\"class\":\"summary\"}).getText()\n",
    "                 new_df.loc[len(new_df)]=[title, company, location, salary, summary]"
   ]
  },
  {
   "cell_type": "code",
   "execution_count": null,
   "metadata": {
    "collapsed": false
   },
   "outputs": [],
   "source": [
    "df"
   ]
  },
  {
   "cell_type": "code",
   "execution_count": null,
   "metadata": {
    "collapsed": false
   },
   "outputs": [],
   "source": [
    "df = new_df\n",
    "df.head()\n",
    "df['company'].duplicated().value_counts()"
   ]
  },
  {
   "cell_type": "code",
   "execution_count": null,
   "metadata": {
    "collapsed": false,
    "scrolled": false
   },
   "outputs": [],
   "source": [
    "# save as csv file\n",
    "new_df.to_csv('/Users/PatrickChen/Desktop/CSV FILES/indeed_data.csv',sep='\\t', encoding='utf-8')"
   ]
  },
  {
   "cell_type": "code",
   "execution_count": null,
   "metadata": {
    "collapsed": false
   },
   "outputs": [],
   "source": [
    "df"
   ]
  },
  {
   "cell_type": "code",
   "execution_count": null,
   "metadata": {
    "collapsed": true
   },
   "outputs": [],
   "source": []
  }
 ],
 "metadata": {
  "anaconda-cloud": {},
  "kernelspec": {
   "display_name": "Python [conda env:dsienv]",
   "language": "python",
   "name": "conda-env-dsienv-py"
  },
  "language_info": {
   "codemirror_mode": {
    "name": "ipython",
    "version": 2
   },
   "file_extension": ".py",
   "mimetype": "text/x-python",
   "name": "python",
   "nbconvert_exporter": "python",
   "pygments_lexer": "ipython2",
   "version": "2.7.12"
  }
 },
 "nbformat": 4,
 "nbformat_minor": 1
}
