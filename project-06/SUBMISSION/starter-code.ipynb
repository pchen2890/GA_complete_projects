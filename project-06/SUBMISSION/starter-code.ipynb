{
 "cells": [
  {
   "cell_type": "markdown",
   "metadata": {},
   "source": [
    "## Project 6"
   ]
  },
  {
   "cell_type": "code",
   "execution_count": 292,
   "metadata": {
    "collapsed": false
   },
   "outputs": [
    {
     "name": "stdout",
     "output_type": "stream",
     "text": [
      "The sql extension is already loaded. To reload it, use:\n",
      "  %reload_ext sql\n"
     ]
    },
    {
     "data": {
      "text/plain": [
       "u'Connected: PatrickChen@'"
      ]
     },
     "execution_count": 292,
     "metadata": {},
     "output_type": "execute_result"
    }
   ],
   "source": [
    "import os\n",
    "import subprocess\n",
    "import pandas as pd\n",
    "import numpy as np\n",
    "from sklearn.ensemble import RandomForestClassifier\n",
    "from sklearn.ensemble import RandomForestRegressor\n",
    "import scipy\n",
    "import requests\n",
    "import nltk\n",
    "import matplotlib.pyplot as plt\n",
    "import urllib\n",
    "from bs4 import BeautifulSoup\n",
    "import nltk\n",
    "import collections\n",
    "import re\n",
    "import csv\n",
    "import psycopg2\n",
    "\n",
    "%matplotlib inline\n",
    "\n",
    "%load_ext sql\n",
    "%sql postgresql://PatrickChen@localhost:5432/\n",
    "\n"
   ]
  },
  {
   "cell_type": "markdown",
   "metadata": {},
   "source": [
    "### Pre-Work: Write a problem statement "
   ]
  },
  {
   "cell_type": "markdown",
   "metadata": {},
   "source": [
    "    "
   ]
  },
  {
   "cell_type": "markdown",
   "metadata": {},
   "source": [
    "## Part 1: Acquire the Data"
   ]
  },
  {
   "cell_type": "markdown",
   "metadata": {},
   "source": [
    "#### 1. Connect to the IMDB API"
   ]
  },
  {
   "cell_type": "code",
   "execution_count": 293,
   "metadata": {
    "collapsed": false
   },
   "outputs": [],
   "source": [
    "from imdbpie import Imdb\n",
    "imdb = Imdb()\n",
    "imdb = Imdb(anonymize=True)"
   ]
  },
  {
   "cell_type": "markdown",
   "metadata": {},
   "source": [
    "#### 2. Query the top 250 rated movies in the database"
   ]
  },
  {
   "cell_type": "code",
   "execution_count": 294,
   "metadata": {
    "collapsed": false
   },
   "outputs": [],
   "source": [
    "top250 = imdb.top_250()"
   ]
  },
  {
   "cell_type": "markdown",
   "metadata": {},
   "source": [
    "#### 3. Only select the top 25 movies and delete the uncessary rows"
   ]
  },
  {
   "cell_type": "code",
   "execution_count": 295,
   "metadata": {
    "collapsed": false
   },
   "outputs": [
    {
     "data": {
      "text/plain": [
       "list"
      ]
     },
     "execution_count": 295,
     "metadata": {},
     "output_type": "execute_result"
    }
   ],
   "source": [
    "type(top250)"
   ]
  },
  {
   "cell_type": "code",
   "execution_count": 296,
   "metadata": {
    "collapsed": false
   },
   "outputs": [],
   "source": [
    "top_25 = top250[:25]"
   ]
  },
  {
   "cell_type": "markdown",
   "metadata": {},
   "source": [
    "#### 4. Write the Results to a csv"
   ]
  },
  {
   "cell_type": "code",
   "execution_count": 297,
   "metadata": {
    "collapsed": false
   },
   "outputs": [],
   "source": [
    "df = pd.DataFrame.from_dict(top_25)\n",
    "# pd.DataFrame.to_csv(df)"
   ]
  },
  {
   "cell_type": "markdown",
   "metadata": {},
   "source": [
    "## Part 2: Wrangle the text data"
   ]
  },
  {
   "cell_type": "markdown",
   "metadata": {},
   "source": [
    "#### 1. Convert the listing identification numbers (tconst) from the first dataframe to a list"
   ]
  },
  {
   "cell_type": "code",
   "execution_count": 298,
   "metadata": {
    "collapsed": false
   },
   "outputs": [],
   "source": [
    "numid = list(df.tconst)"
   ]
  },
  {
   "cell_type": "markdown",
   "metadata": {},
   "source": [
    "#### 2. Scrape the reviews for the top 25 movies"
   ]
  },
  {
   "cell_type": "markdown",
   "metadata": {},
   "source": [
    "*Hint*: Use a loop to scrape each page at once"
   ]
  },
  {
   "cell_type": "code",
   "execution_count": 299,
   "metadata": {
    "collapsed": false
   },
   "outputs": [],
   "source": [
    "for x in (numid):\n",
    "    address = ('http://www.imdb.com/title/' + x + '/reviews')\n",
    "    html = requests.get(address).text"
   ]
  },
  {
   "cell_type": "markdown",
   "metadata": {},
   "source": [
    "#### 3. Work through each title and find the most common descriptors"
   ]
  },
  {
   "cell_type": "markdown",
   "metadata": {},
   "source": [
    "*Hint*: \"soup\" from BeautifulSoup is the html returned from all 25 pages. You'll need to either address each page individually or break them down by elements"
   ]
  },
  {
   "cell_type": "code",
   "execution_count": 300,
   "metadata": {
    "collapsed": false,
    "scrolled": true
   },
   "outputs": [],
   "source": [
    "soup = BeautifulSoup(html, \"html.parser\")\n",
    "title = soup.find(\"title\")\n",
    "page = soup.find_all('p')"
   ]
  },
  {
   "cell_type": "code",
   "execution_count": 301,
   "metadata": {
    "collapsed": false
   },
   "outputs": [
    {
     "name": "stdout",
     "output_type": "stream",
     "text": [
      "<title>The Usual Suspects  Reviews &amp; Ratings - IMDb</title>\n"
     ]
    }
   ],
   "source": [
    "print(title)\n"
   ]
  },
  {
   "cell_type": "code",
   "execution_count": 302,
   "metadata": {
    "collapsed": false
   },
   "outputs": [
    {
     "name": "stdout",
     "output_type": "stream",
     "text": [
      "[<p class=\"navCategory\">\\n<a href=\"/movies-in-theaters/?ref_=nv_tp_inth_1\">Movies</a>,\\n                <a href=\"/chart/toptv/?ref_=nv_tp_tv250_2\">TV</a><br/>\\n                &amp; <a href=\"/showtimes/?ref_=nv_tp_sh_3\">Showtimes</a></p>, <p class=\"navCategory\">\\n<a href=\"/search/name?gender=male,female&amp;ref_=nv_tp_cel_1\">Celebs</a>,\\n                <a href=\"/awards-central/?ref_=nv_tp_awrd_2\">Events</a><br/>\\n                &amp; <a href=\"/gallery/rg784964352?ref_=nv_tp_ph_3\">Photos</a></p>, <p class=\"navCategory\">\\n<a href=\"/news/top?ref_=nv_tp_nw_1\">News</a> &amp;<br/>\\n<a href=\"/boards/?ref_=nv_tp_bd_2\">Community</a></p>, <p class=\"navCategory singleLine watchlist\"><a href=\"/list/watchlist?ref_=nv_wl_all_0\">Watchlist</a>\\n</p>, <p class=\"navCategory\">\\n<a href=\"http://pro.imdb.com/signup/index.html?rf=cons_nb_hm&amp;ref_=cons_nb_hm\">\\n<img alt=\"IMDbPro Menu\" src=\"http://i.media-imdb.com/images/SF4a741137cf9a260e127fef64455ebfbc/navbar/imdbpro_logo_nb.png\"/>\\n</a>\\n</p>, <p>Industry information at your fingertips</p>, <p>Over 200,000 Hollywood insiders</p>, <p>Enhance your IMDb Page</p>, <p><strong>Go to IMDbPro \\xbb</strong></p>, <p class=\"navCategory singleLine\">\\n<a class=\"signin-button\" href=\"https://graph.facebook.com/v2.2/oauth/authorize?client_id=127059960673829&amp;redirect_uri=https%3A%2F%2Fsecure.imdb.com%2Foauth%2Ffacebook&amp;scope=email%2Cuser_about_me%2Cuser_birthday&amp;state=%257B%252249e6c%2522%253A%2522da29%2522%257D\" id=\"facebook-signin-link\">\\n<span class=\"facebook-logo\"></span>\\n<span class=\"signin-facebook-text\">Sign in with Facebook</span>\\n</a>\\n<a class=\"signin-other-options-text\" href=\"/registration/signin?ref_=nv_usr_lgin_1\" id=\"nblogin\" rel=\"login\">\\n                Other Sign in options\\n            </a>\\n</p>, <p>at Amazon</p>, <p><img src=\"/images/wheel/or-graphic.png\"/></p>, <p>\\n\\nAh, the Usual Suspects. My personal favorite movie of all time. Don't\\nlet my bias be a fool. Perhaps it's not THE best movie ever, but it's\\none that I never get tired of.<br><br>If you like flash and bikinis and breath-taking camera angles, you\\nwon't find them here. Usual Suspects is not an \"epic,\" and it doesn't\\npretend to be. It's a modestly-budgeted piece by a fresh director (who\\nlater went on to do the X-Men movies, a FAR departure).<br><br>A great, gritty script, beautifully-acted characters, and what many\\nhave called the greatest movie ending of all time, are some of the\\nshining qualities that make the Usual Suspects an object worthy of\\npraise above its humble-looking shell.<br><br>The casting is very unusual but somehow fits perfectly. Gabriel Byrne\\nis convincing as the ex-con trying to build a new life when he gets\\ndrawn back into his old life. Stephen Baldwin has the role of his\\ncareer as the smart-mouthed and cocky professional. Kevin Pollak takes\\na big departure from his usual good comedy self to take a more dramatic\\nrole. Benicio del Toro literally takes a one-dimensional character with\\nabsolutely nothing in the script to give him character, and he fleshes\\nit out with brilliant mannerisms and memorable mumbling to show\\nincredible acting creativity. Kevin Spacey as we know him was born from\\nthis movie. His manners and fast-talking yet shy gimp nature are a\\ntreat to listen to throughout the flick.<br><br>Without giving away the plot, the best and most genius parts of the\\nmovie are the subtleties. After you see the ending, and the truth hits\\nyou like a ton of bricks, you have to watch it again. On the second\\ntime through, you'll jump up and point at the screen whenever you spot\\na clue you missed the first time. It's even possible to watch the movie\\nmultiple times and see something new with every viewing. It's that\\nattention to detail that make the deceptively innocent-looking Usual\\nSuspects one of the greatest movies of all time.\\n\\n</br></br></br></br></br></br></br></br></p>, <p><b>*** This review may contain spoilers ***</b></p>, <p>\\n\\n'The Usual Suspects' has received a lot of comment for its killer twist\\nending, which while by no means the first in movie history, has proved to be\\nenormously influential (stand up Messrs. Fincher and Shyamalan...). But this\\nmovie is so much more than a surprise ending! It is a meticulously scripted,\\nfaultlessly acted masterpiece that stands up to repeated viewings. Every\\nsingle time I watch it I notice some new detail, or get more enjoyment out\\nof a performance or scene.<br><br> This movie really put  Kevin Spacey on the map, but everyone in the\\nensemble cast is outstanding, even Stephen Baldwin(!), who has never\\nappeared in a movie this good before, or since.  I also got a kick out of\\nthe Paul Bartel ( 'Death Race 2000', 'Eating Raoul') cameo, and the\\nultra-cool Peter Greene's ('Laws Of Gravity', 'Pulp Fiction') all too brief\\nappearance. Bartel is sorely missed, and Greene one day (mark my words!)\\nwill become the star he deserves to be.<br><br>Director Bryan Singer has yet to live up to the promise shown here with his\\nsubsequent movies, the average 'Apt Pupil' and the disappointing 'X-Men'.\\nFor all the acclaim he and the (admittedly superb) cast have received, the\\nreal star of 'The Usual Suspects' is Christopher McQuarrie's sensational\\nscript, one of the finest of the modern era, and one that genuinely deserved\\nit's Oscar.<br><br>It really doesn't get any better than this!! One of the greatest movies ever\\nmade, any time, any where. A truly unforgettable experience.\\n</br></br></br></br></br></br></p>, <p>\\nOne day in a bookshop, I flipped through a book entitled: \"the movies\\nof the nineties\" and this movie wasn't included! How can a book\\nspecialized in cinema skip such a milestone of the last decade? Any\\nmovie buff, any cinema critic must have considered the nineties a\\nfruitful era for the American thriller. According to one's tastes, some\\nwill say that the best thriller of the nineties is \"Silence of the\\nLambs\" (1991). For others it will be \"Pulp Fiction\" (1994) while others\\nwill praise to the skies \"Se7en\" (1995). For me, the pinnacle is this\\npresent movie, \"the Usual Suspects\" (1995) with its staggering story\\n(to put it mildly). It's a sensational debut for Bryan Singer which\\nenabled to put him on the map. With a little help from his accomplice\\nChristopher McQuarrie, he signed an unparalleled gem in the landscape\\nof the American thriller, even the whole cinema.<br><br>The average viewer who watches \"the Usual Suspects\" for the first time\\nmight think that the whole crew concocted him a meandering story with\\nas a leading thread, Spacey's convoluted story. At the end of the\\nprojection, he may feel puzzled and will probably wish to watch the\\nmovie a second time. He won't regret it and Singer and McQuarrie will\\nrejoice at it. Their masterwork gains by several repeated viewings to\\nappreciate the subtleties of a rich movie with a convoluted\\nconstruction which will take its seemingly definitive form in the five\\nlast minutes. To watch \"the Usual Suspects\" is like gathering the\\npieces of an intriguing puzzle, a little like any other suspenseful\\nmovie but in the case of Singer's flick, one will never really be able\\nto completely end it. So many things happen in less than two hours that\\nwe are never really sure of what we watch and this is reinforced by a\\nbreathtaking unexpected twist at the end which makes our assumptions\\nfalter. Singer and McQuarrie take a mischievous delight in taking the\\nviewer in their nebulous scenario and to follow it according to\\nSpacey's declarations and it's obvious that they raise more questions\\nthan answers. It's up to the viewer to make his imagination work and to\\nbring his thoughts on the film. This is what inspires its pernicious\\ncharm.<br><br>From Spacey's story, the authors developed a top quality script, set\\nwith clockwork precision. Singer's directorial style virtually evolutes\\non the razor's edge and conveys an increasing tension. It is filled\\nwith ingenious visual ideas and served by fluid camera movements.\\nSinger was in his early thirties when he shot his film but it presents\\nthe signs of a seasoned author. There's also a tight editing and a\\nunsettling score which cement the movie in its place of winner. More\\nremarkable, the authors pull off with gusto to increase the audience's\\ncuriosity throughout the film in spite of a somewhat deliberate\\nconfusion and the interest won't weaken until the end which constitute\\nthe apex: an unexpected twist which will leave the audience speechless\\nonce they understood it. In Singer's flick, it doesn't disappoint\\nbecause there are little but noticeable visual and verbal clues which\\njustify it. However, it has something unsettling. We believe that we\\nare at the end of the maze but there's more to the picture than meets\\nthe eye. Maybe this \"coup de theatre\" veils one more truth. Maybe also\\nthe shrewdest ones will have guessed it but the result is the same for\\nany viewer: Singer puts a baffled spectator in his pocket.<br><br>Singer and Quarrie show a perfect master in the domain of the film\\nnoir: an ominous atmosphere, nocturnal scenes which stay rooted in the\\nmind and a deep psychology of certain characters which give more\\nsubstance to the film. Considering the last point, the character of\\nGabriel Byrne is the most interesting one: a former crooked cop who\\nseemingly redeemed himself in catering but caught up by his past and\\nforced to come back to work. I personally think that Byrne is the\\nstand-out of the topflight cast the movie boasts. But don't neglect the\\nother members. Kevin Spacey pocketed a deservedly Oscar in 1996 and the\\nrest of the cast doesn't stay on the bench. Maybe Singer grants a\\nlittle shallow attention to the three others baddies in the gang but in\\na way it's necessary to underscore the fact that they're lousy\\ngangsters embroiled in a infernal spiral and unable to perceive what\\nlies beneath all this. Pete Postlewhaite and Chazz Palminteri make\\ntheir scenes count too.<br><br>A riveting storytelling, a painstaking flash-back, a tight and\\nfirst-class directing, a thoughtful twist, a topnotch cast, \"the Usual\\nSuspects\" includes almost everything a director would sell his soul\\nfor. Everything contributes to make it a stalwart model in the\\nsuspenseful movie and the whole cinema. After the first vision, be\\nprepared for mental gymnastics and for a second screening...\\n</br></br></br></br></br></br></br></br></p>, <p>\\n\\nSuch films like this should be enshrined \\nin museums, simply due to the fact it \\ndestroyed the entire genre of mystery films. \\nWhile this film was unique and captivating, \\nno other mystery will ever accomplish this \\nsort of cult status, single handedly shaping \\na genre. While most mysteries try to shock \\nyou too often with twists and even more \\ntwists, it turns out to be overkill. This film \\nencompassed such ideas with flair and \\noriginality, which is probably the reason \\nBrian Singer is sticking to sci-fi action films. \\nOnly Memento and The Game are the \\nonly recent mystery movies worthy \\nenough to stand beside this film. Sadly, \\nSinger has somewhat sold out by doing \\nthe X-Men movies, but I guess trying to \\nmake films like this would be too taxing. \\nThis film will always bring a smile to \\nmy face when I watch it with someone \\nwho hasn't seen this movie. A good \\nviewing every time I watch it, the new \\nspecial edition DVD is awesome.\\n</p>, <p><b>*** This review may contain spoilers ***</b></p>, <p>\\n\\nDISCLAIMER: Not seen 'The Usual Suspects' yet? Then don't waste any time\\nreading this! Rent it, buy it, borrow it, I don't mind, but watch it before\\nyou bother reading any further.<br><br>One of the main reasons that 'The Usual Suspects' leaves such a\\nlong-lasting\\nimpression on the viewer is that it takes advantage of the gullibility of\\nthe audience. For the first 100 minutes we are delivered an intriguing and\\ncomplex story to which there seems no easy answer. When the final piece of\\nthe puzzle seems to be in place the entire film is turned on its head. This\\nfinal revelation initially leaves you speechless and then shortly after the\\naudience realises that they have fallen for a brilliantly inspired trick.\\nThe second great trick that this film plays on its audience is making us\\nthink that by watching it again we'll be able to understand slightly better\\nwhat was really going on. The truth is that the more you try to make sense\\nof it, the more confusing it becomes. It's probably best not to try to look\\nfor any concrete answers and just accept that we fell for the filmmaker's\\ntricks. The success of the film is mainly thanks to the sense of\\nsatisfaction the audience is left with at the end of the film. I think that\\npeople love the idea of a story when you're not sure who you can really\\ntrust, along with the realisation that the film's most shady characters are\\nthe filmmakers themselves.<br><br>Aside from the twist the film is also unique in the way the narrative is\\npresented. The majority of the story is told as a series of flashbacks by\\ncrippled con artist Verbal Kint (a performance which deservedly won Kevin\\nSpacey his first Oscar). The film's other Oscar went to screenwriter\\nChristopher McQuarrie (who also directed 'The Way of the Gun' (2000)) for\\nhis brilliantly constructed screenplay. It's a testament to the director,\\nBryan Singer that he was able to combine all these elements and turn them\\ninto something which is nothing short of a modern masterpiece. His moody\\nand\\nstylish direction help to bring the film together and perfectly complement\\nthe film's dark tone. A mention should also go to John Ottman for his\\nskilful editing and amazing score.<br><br>The Usual Suspects is more than just a film with a clever ending. It\\nrevealed an awful lot about film audiences and showed us that their\\nexpectations can be used against them. It is also a film about story\\ntelling\\nand the importance of myth. I think that one of the most valuable lessons\\nthat filmmakers can learn from \\x91The Usual Suspects' is that the more\\ninteresting and intriguing your story is the more your audience will\\nbelieve.<br><br>The Usual Suspects was certainly not the first film to contain twist ending\\n(the twist ending became one of Alfred Hitchcock's trademarks) and was\\ncertainly not the last ('The Sixth Sense' (1999) also used this technique\\neffectively but left more subtle clues for the audience to pick up on their\\nrepeated viewings). Despite this 'The Usual Suspects' remains one of the\\nmost innovative and memorable crime thrillers of the nineties.\\n\\n</br></br></br></br></br></br></br></br></p>, <p><b>*** This review may contain spoilers ***</b></p>, <p>\\n\\nAlthough the film is perhaps a little slow in fully developing, the\\nconsequent results are astounding. Spacey's performance is captivating and\\nwill only be fully appreciated once the viewing is complete. The supporting\\ncast, including Gabriel Byrne, provide the basis for a convincing drama\\nwhich will change the way you perceive crime thrillers in the future.<br><br>One is required to discover the identity of the elusive Keyser Soze\\nthroughout the film and if it were not for the well thought-out script and\\nprofessional dramatic acting then the viewer would feel a sense of\\nanti-climax. However, this is not the case; you shall be left speechless and\\nwondering how the film achieved its goal.\\n</br></br></p>, <p>\\n\\n\"The Usual Suspects\" is a complicated puzzle of a movie that I bet you can't\\nwatch just once.  The film deals with five career crooks who have big plans\\nafter they are all brought together in a police lineup.  However, their\\nmayhem is interrupted by a mysterious character named Kaiser Sose who plans\\nto eliminate all five of the crooks after they all crossed him in various\\nways during their checkered pasts.  An amazing original screenplay and tight\\ndirection keep up a substantial amount of tension throughout.  Gabriel\\nByrne, Stephen Baldwin, Benicio Del Toro, Kevin Pollak, Pete Postlethwaite,\\nand Chazz Palminteri all give top-notch performances.  But it is Kevin\\nSpacey (in an Oscar-winning part) that makes \"The Usual Suspects\" work on\\nall levels.  This part put him in a higher class of actors and can be\\ncompared to Robert DeNiro's star-making job in \"The Godfather, Part II\".  5\\nstars out of 5.   \\n</p>, <p>\\n\\nIf plagiarism were a crime in film techniques, director Bryan Singer would\\n be imprisoned for life. Screenwriter Christopher McQuarrie would be serving\\n a similar sentence. However, since it is not, Singer and MacQuarrie (who\\n have joined forces again after the not-so-successful PUBLIC ACCESS) took\\n advantage and duplicated nothing but the best. From CASABLANCA to PULP\\n FICTION, and even a version of a line (intentionally or otherwise) from\\n BUTCH CASSIDY AND THE SUNDANCE KID.<br><br>Many people oppose watching a film with a twist a second time. I disagree.\\n By watching it again you can observe how the director and the screenwriter\\n have hidden and revealed clues, how they have tried to steer the audience\\n away from the ending. First time is for entertainment. Second time is for\\n art. This film is certainly worthwhile to see again. To date, I have\\n watched it five times. (Two of those five times I thought, 'well, I'll just\\n watch about half-an-hour,' but ended up watching the entire film because it\\n is so entertaining.) I'm not exactly a noir fan, so it is assured that this\\n particular crime film appeals to a wider audience.<br><br>THE USUAL SUSPECTS has a skilled director, an engrossing screenplay, and ten\\n praiseworthy performances. The film runs a fast 105 minutes. Don't miss a\\n minute of it.\\n</br></br></br></br></p>, <p>\\n\\nThe Usual Suspects is two movies in one.  Enjoyable the first time you\\nwatch\\nit, even more enjoyable the second time round.  The first viewing asks\\nquestions that are answered in an `I could kick myself' moment in the\\nfinal\\nfew minutes, and the second viewing is interesting because when you know\\nthe\\nanswers, the film becomes that much clearer.  It requires a certain amount\\nof commitment, though.  Be warned, if you stop concentrating for a moment\\nthen the remaining running time of the movie will be spent trying to\\nfigure\\nout how what you missed has lead to what you are now watching.<br><br>It concerns the story of five felons brought in by the police for a\\nline-up\\nand how those same felons reluctantly end up working for the mysterious\\nand\\nghost-like Keyser Soze: a legend among the criminal fraternity, a man who\\nno-one has seen and lived, a man so dangerous that he is thought to be the\\ndevil himself.you get the idea.  The plot is rather intricate so I shan't\\nbother to explain it here but it does rather make me think that\\nChristopher\\nMcQuarrie, the writer, kept going to the office in the morning with yet\\nanother complexity to add that he thought up the night before.  That's not\\nto say it doesn't work, far from it, but it does leave you reeling from\\nthe\\nsheer amount of information and names thrown at you from the\\noffset.<br><br>Gabriel Byrne is good, but not flawless, as the tortured Dean Keaton who\\nis\\ntorn between his career as a criminal and his forlorn attempt at trying to\\ngo straight, but his relationship with uptown lawyer Edie Finneran (Suzy\\nAmis) is badly explored and I never felt it gave motive enough for his\\nactions throughout the movie.  Kevin Spacey is wonderful as the crippled\\nRoger 'Verbal' Kint and is effective with the results both cunning and\\ntragic.  The real star of the movie, however, is a strangely accented Pete\\nPostlethwaite as Kobayashi, supposedly Keyser Soze's right-hand man.  He\\neffortlessly plays a character of terrible coolness and poker-faced\\nefficiency leading the dance that the rest of the characters must\\nfollow.<br><br>Director Bryan Singer has done well to bring such a momentous and involved\\nscreenplay to life and any gripes I may have cannot detract from the fact\\nthat the film, as a whole, is much better than the sum of its\\nparts.\\n\\n</br></br></br></br></br></br></p>, <p><b>*** This review may contain spoilers ***</b></p>, <p>\\n\\nI have seen this movie many times and yet it still astonishes me every time\\nI watch it.  Even though I know the ending I still feel myself being caught\\nup in the plot.  It is possibly one of the greatest scripts of all time.  I\\ncan't remember another movie in which I was completely astonished at the\\nfinale.  The cast gives a tremendous performance.  Kevin Spacey gives one of\\nhis two best performances (the other being as John Doe in Se7en) in my\\nopinion.  That is probably why he was awarded Best Actor for this role.  It\\nwas truly deserved.  Gabriel Byrne also gives a great performance.  It may\\nbe the best character Stephen Baldwin has ever played.  In all, this is a\\nmust for any movie collector or enthusiast.\\n</p>, <p><a href=\"reviews-enter\">Add another review</a></p>, <p>Find showtimes, watch trailers, browse photos, track your Watchlist and rate your favorite movies and TV shows on your phone or tablet!</p>]\n"
     ]
    }
   ],
   "source": [
    "print(page)"
   ]
  },
  {
   "cell_type": "markdown",
   "metadata": {},
   "source": [
    "#### 4. Convert to a string and remove the non AlphaNumeric characters"
   ]
  },
  {
   "cell_type": "markdown",
   "metadata": {},
   "source": [
    "*Hint*: Use regular expressions!"
   ]
  },
  {
   "cell_type": "code",
   "execution_count": 303,
   "metadata": {
    "collapsed": false
   },
   "outputs": [],
   "source": [
    "foo = str(page)"
   ]
  },
  {
   "cell_type": "code",
   "execution_count": 304,
   "metadata": {
    "collapsed": false
   },
   "outputs": [],
   "source": [
    "regex = re.compile('[^a-zA-Z]')\n",
    "new = regex.sub(' ', foo)"
   ]
  },
  {
   "cell_type": "markdown",
   "metadata": {},
   "source": [
    "#### 5. Tokenize the Output"
   ]
  },
  {
   "cell_type": "code",
   "execution_count": 305,
   "metadata": {
    "collapsed": false
   },
   "outputs": [],
   "source": [
    "tokens = nltk.word_tokenize(new)"
   ]
  },
  {
   "cell_type": "markdown",
   "metadata": {},
   "source": [
    "#### 6. Convert to a Dataframe for Easy Viewing"
   ]
  },
  {
   "cell_type": "markdown",
   "metadata": {},
   "source": [
    "####  7. Find the rows with the top five descriptive words"
   ]
  },
  {
   "cell_type": "code",
   "execution_count": 306,
   "metadata": {
    "collapsed": true
   },
   "outputs": [],
   "source": [
    "words = ('best', 'hope', 'love', 'beautiful', 'great')"
   ]
  },
  {
   "cell_type": "code",
   "execution_count": 308,
   "metadata": {
    "collapsed": false
   },
   "outputs": [
    {
     "data": {
      "text/plain": [
       "{'beautiful': [1,\n",
       "  0,\n",
       "  2,\n",
       "  0,\n",
       "  0,\n",
       "  3,\n",
       "  0,\n",
       "  2,\n",
       "  0,\n",
       "  0,\n",
       "  3,\n",
       "  0,\n",
       "  2,\n",
       "  3,\n",
       "  3,\n",
       "  1,\n",
       "  1,\n",
       "  1,\n",
       "  0,\n",
       "  0,\n",
       "  1,\n",
       "  1,\n",
       "  0,\n",
       "  3,\n",
       "  0],\n",
       " 'best': [18,\n",
       "  4,\n",
       "  6,\n",
       "  16,\n",
       "  7,\n",
       "  8,\n",
       "  9,\n",
       "  7,\n",
       "  9,\n",
       "  8,\n",
       "  4,\n",
       "  5,\n",
       "  8,\n",
       "  7,\n",
       "  7,\n",
       "  6,\n",
       "  12,\n",
       "  9,\n",
       "  3,\n",
       "  6,\n",
       "  5,\n",
       "  3,\n",
       "  3,\n",
       "  7,\n",
       "  7],\n",
       " 'great': [8,\n",
       "  8,\n",
       "  5,\n",
       "  10,\n",
       "  9,\n",
       "  2,\n",
       "  5,\n",
       "  6,\n",
       "  8,\n",
       "  5,\n",
       "  15,\n",
       "  6,\n",
       "  6,\n",
       "  5,\n",
       "  8,\n",
       "  11,\n",
       "  5,\n",
       "  9,\n",
       "  8,\n",
       "  10,\n",
       "  5,\n",
       "  6,\n",
       "  4,\n",
       "  6,\n",
       "  3],\n",
       " 'hope': [16,\n",
       "  1,\n",
       "  0,\n",
       "  1,\n",
       "  0,\n",
       "  0,\n",
       "  0,\n",
       "  2,\n",
       "  0,\n",
       "  0,\n",
       "  2,\n",
       "  0,\n",
       "  1,\n",
       "  3,\n",
       "  3,\n",
       "  2,\n",
       "  0,\n",
       "  0,\n",
       "  0,\n",
       "  2,\n",
       "  0,\n",
       "  1,\n",
       "  0,\n",
       "  1,\n",
       "  0],\n",
       " 'love': [3,\n",
       "  5,\n",
       "  1,\n",
       "  4,\n",
       "  1,\n",
       "  1,\n",
       "  2,\n",
       "  2,\n",
       "  2,\n",
       "  1,\n",
       "  8,\n",
       "  6,\n",
       "  7,\n",
       "  1,\n",
       "  1,\n",
       "  1,\n",
       "  2,\n",
       "  0,\n",
       "  2,\n",
       "  3,\n",
       "  1,\n",
       "  0,\n",
       "  1,\n",
       "  0,\n",
       "  1],\n",
       " 'tsconst': [u'tt0111161',\n",
       "  u'tt0068646',\n",
       "  u'tt0071562',\n",
       "  u'tt0468569',\n",
       "  u'tt0050083',\n",
       "  u'tt0108052',\n",
       "  u'tt0110912',\n",
       "  u'tt0167260',\n",
       "  u'tt0060196',\n",
       "  u'tt0137523',\n",
       "  u'tt0120737',\n",
       "  u'tt0080684',\n",
       "  u'tt0109830',\n",
       "  u'tt1375666',\n",
       "  u'tt0167261',\n",
       "  u'tt0073486',\n",
       "  u'tt0099685',\n",
       "  u'tt0133093',\n",
       "  u'tt0047478',\n",
       "  u'tt0076759',\n",
       "  u'tt0317248',\n",
       "  u'tt0114369',\n",
       "  u'tt0102926',\n",
       "  u'tt0038650',\n",
       "  u'tt0114814']}"
      ]
     },
     "execution_count": 308,
     "metadata": {},
     "output_type": "execute_result"
    }
   ],
   "source": [
    "# Looping through all titles and grabing a list of top descriptive words\n",
    "\n",
    "# list of title ids\n",
    "numid = list(df.tconst)\n",
    "\n",
    "# dictionary of words from movies\n",
    "dic={'tsconst':[],'best':[], 'hope':[], 'love':[], 'beautiful':[], 'great':[]}\n",
    "\n",
    "# loops and grabs each html\n",
    "for x in (numid):\n",
    "    address = ('http://www.imdb.com/title/' + x + '/reviews')\n",
    "    html = requests.get(address).text\n",
    "    \n",
    "#     grabing words from html\n",
    "    soup = BeautifulSoup(html, \"html.parser\")\n",
    "    title = soup.find(\"title\")\n",
    "    page = soup.find_all('p')\n",
    "    \n",
    "#     change page into strings\n",
    "    foo = str(page)\n",
    "    regex = re.compile('[^a-zA-Z]')\n",
    "    new = regex.sub(' ', foo)\n",
    "    \n",
    "#    returns a list of words from page\n",
    "    tokens = nltk.word_tokenize(new)\n",
    "\n",
    "#   counts words in token\n",
    "    from collections import Counter\n",
    "    counts = Counter(tokens)\n",
    "    \n",
    "#   grabs word count and append to dictionary\n",
    "    dic['tsconst'].append(x)\n",
    "    for w in words:\n",
    "        dic[w].append(counts[w])\n",
    "\n",
    "dic\n",
    "    "
   ]
  },
  {
   "cell_type": "code",
   "execution_count": 309,
   "metadata": {
    "collapsed": false
   },
   "outputs": [
    {
     "data": {
      "text/html": [
       "<div>\n",
       "<table border=\"1\" class=\"dataframe\">\n",
       "  <thead>\n",
       "    <tr style=\"text-align: right;\">\n",
       "      <th></th>\n",
       "      <th>beautiful</th>\n",
       "      <th>best</th>\n",
       "      <th>great</th>\n",
       "      <th>hope</th>\n",
       "      <th>love</th>\n",
       "      <th>tsconst</th>\n",
       "    </tr>\n",
       "  </thead>\n",
       "  <tbody>\n",
       "    <tr>\n",
       "      <th>0</th>\n",
       "      <td>1</td>\n",
       "      <td>18</td>\n",
       "      <td>8</td>\n",
       "      <td>16</td>\n",
       "      <td>3</td>\n",
       "      <td>tt0111161</td>\n",
       "    </tr>\n",
       "    <tr>\n",
       "      <th>1</th>\n",
       "      <td>0</td>\n",
       "      <td>4</td>\n",
       "      <td>8</td>\n",
       "      <td>1</td>\n",
       "      <td>5</td>\n",
       "      <td>tt0068646</td>\n",
       "    </tr>\n",
       "    <tr>\n",
       "      <th>2</th>\n",
       "      <td>2</td>\n",
       "      <td>6</td>\n",
       "      <td>5</td>\n",
       "      <td>0</td>\n",
       "      <td>1</td>\n",
       "      <td>tt0071562</td>\n",
       "    </tr>\n",
       "    <tr>\n",
       "      <th>3</th>\n",
       "      <td>0</td>\n",
       "      <td>16</td>\n",
       "      <td>10</td>\n",
       "      <td>1</td>\n",
       "      <td>4</td>\n",
       "      <td>tt0468569</td>\n",
       "    </tr>\n",
       "    <tr>\n",
       "      <th>4</th>\n",
       "      <td>0</td>\n",
       "      <td>7</td>\n",
       "      <td>9</td>\n",
       "      <td>0</td>\n",
       "      <td>1</td>\n",
       "      <td>tt0050083</td>\n",
       "    </tr>\n",
       "    <tr>\n",
       "      <th>5</th>\n",
       "      <td>3</td>\n",
       "      <td>8</td>\n",
       "      <td>2</td>\n",
       "      <td>0</td>\n",
       "      <td>1</td>\n",
       "      <td>tt0108052</td>\n",
       "    </tr>\n",
       "    <tr>\n",
       "      <th>6</th>\n",
       "      <td>0</td>\n",
       "      <td>9</td>\n",
       "      <td>5</td>\n",
       "      <td>0</td>\n",
       "      <td>2</td>\n",
       "      <td>tt0110912</td>\n",
       "    </tr>\n",
       "    <tr>\n",
       "      <th>7</th>\n",
       "      <td>2</td>\n",
       "      <td>7</td>\n",
       "      <td>6</td>\n",
       "      <td>2</td>\n",
       "      <td>2</td>\n",
       "      <td>tt0167260</td>\n",
       "    </tr>\n",
       "    <tr>\n",
       "      <th>8</th>\n",
       "      <td>0</td>\n",
       "      <td>9</td>\n",
       "      <td>8</td>\n",
       "      <td>0</td>\n",
       "      <td>2</td>\n",
       "      <td>tt0060196</td>\n",
       "    </tr>\n",
       "    <tr>\n",
       "      <th>9</th>\n",
       "      <td>0</td>\n",
       "      <td>8</td>\n",
       "      <td>5</td>\n",
       "      <td>0</td>\n",
       "      <td>1</td>\n",
       "      <td>tt0137523</td>\n",
       "    </tr>\n",
       "    <tr>\n",
       "      <th>10</th>\n",
       "      <td>3</td>\n",
       "      <td>4</td>\n",
       "      <td>15</td>\n",
       "      <td>2</td>\n",
       "      <td>8</td>\n",
       "      <td>tt0120737</td>\n",
       "    </tr>\n",
       "    <tr>\n",
       "      <th>11</th>\n",
       "      <td>0</td>\n",
       "      <td>5</td>\n",
       "      <td>6</td>\n",
       "      <td>0</td>\n",
       "      <td>6</td>\n",
       "      <td>tt0080684</td>\n",
       "    </tr>\n",
       "    <tr>\n",
       "      <th>12</th>\n",
       "      <td>2</td>\n",
       "      <td>8</td>\n",
       "      <td>6</td>\n",
       "      <td>1</td>\n",
       "      <td>7</td>\n",
       "      <td>tt0109830</td>\n",
       "    </tr>\n",
       "    <tr>\n",
       "      <th>13</th>\n",
       "      <td>3</td>\n",
       "      <td>7</td>\n",
       "      <td>5</td>\n",
       "      <td>3</td>\n",
       "      <td>1</td>\n",
       "      <td>tt1375666</td>\n",
       "    </tr>\n",
       "    <tr>\n",
       "      <th>14</th>\n",
       "      <td>3</td>\n",
       "      <td>7</td>\n",
       "      <td>8</td>\n",
       "      <td>3</td>\n",
       "      <td>1</td>\n",
       "      <td>tt0167261</td>\n",
       "    </tr>\n",
       "    <tr>\n",
       "      <th>15</th>\n",
       "      <td>1</td>\n",
       "      <td>6</td>\n",
       "      <td>11</td>\n",
       "      <td>2</td>\n",
       "      <td>1</td>\n",
       "      <td>tt0073486</td>\n",
       "    </tr>\n",
       "    <tr>\n",
       "      <th>16</th>\n",
       "      <td>1</td>\n",
       "      <td>12</td>\n",
       "      <td>5</td>\n",
       "      <td>0</td>\n",
       "      <td>2</td>\n",
       "      <td>tt0099685</td>\n",
       "    </tr>\n",
       "    <tr>\n",
       "      <th>17</th>\n",
       "      <td>1</td>\n",
       "      <td>9</td>\n",
       "      <td>9</td>\n",
       "      <td>0</td>\n",
       "      <td>0</td>\n",
       "      <td>tt0133093</td>\n",
       "    </tr>\n",
       "    <tr>\n",
       "      <th>18</th>\n",
       "      <td>0</td>\n",
       "      <td>3</td>\n",
       "      <td>8</td>\n",
       "      <td>0</td>\n",
       "      <td>2</td>\n",
       "      <td>tt0047478</td>\n",
       "    </tr>\n",
       "    <tr>\n",
       "      <th>19</th>\n",
       "      <td>0</td>\n",
       "      <td>6</td>\n",
       "      <td>10</td>\n",
       "      <td>2</td>\n",
       "      <td>3</td>\n",
       "      <td>tt0076759</td>\n",
       "    </tr>\n",
       "    <tr>\n",
       "      <th>20</th>\n",
       "      <td>1</td>\n",
       "      <td>5</td>\n",
       "      <td>5</td>\n",
       "      <td>0</td>\n",
       "      <td>1</td>\n",
       "      <td>tt0317248</td>\n",
       "    </tr>\n",
       "    <tr>\n",
       "      <th>21</th>\n",
       "      <td>1</td>\n",
       "      <td>3</td>\n",
       "      <td>6</td>\n",
       "      <td>1</td>\n",
       "      <td>0</td>\n",
       "      <td>tt0114369</td>\n",
       "    </tr>\n",
       "    <tr>\n",
       "      <th>22</th>\n",
       "      <td>0</td>\n",
       "      <td>3</td>\n",
       "      <td>4</td>\n",
       "      <td>0</td>\n",
       "      <td>1</td>\n",
       "      <td>tt0102926</td>\n",
       "    </tr>\n",
       "    <tr>\n",
       "      <th>23</th>\n",
       "      <td>3</td>\n",
       "      <td>7</td>\n",
       "      <td>6</td>\n",
       "      <td>1</td>\n",
       "      <td>0</td>\n",
       "      <td>tt0038650</td>\n",
       "    </tr>\n",
       "    <tr>\n",
       "      <th>24</th>\n",
       "      <td>0</td>\n",
       "      <td>7</td>\n",
       "      <td>3</td>\n",
       "      <td>0</td>\n",
       "      <td>1</td>\n",
       "      <td>tt0114814</td>\n",
       "    </tr>\n",
       "  </tbody>\n",
       "</table>\n",
       "</div>"
      ],
      "text/plain": [
       "    beautiful  best  great  hope  love    tsconst\n",
       "0           1    18      8    16     3  tt0111161\n",
       "1           0     4      8     1     5  tt0068646\n",
       "2           2     6      5     0     1  tt0071562\n",
       "3           0    16     10     1     4  tt0468569\n",
       "4           0     7      9     0     1  tt0050083\n",
       "5           3     8      2     0     1  tt0108052\n",
       "6           0     9      5     0     2  tt0110912\n",
       "7           2     7      6     2     2  tt0167260\n",
       "8           0     9      8     0     2  tt0060196\n",
       "9           0     8      5     0     1  tt0137523\n",
       "10          3     4     15     2     8  tt0120737\n",
       "11          0     5      6     0     6  tt0080684\n",
       "12          2     8      6     1     7  tt0109830\n",
       "13          3     7      5     3     1  tt1375666\n",
       "14          3     7      8     3     1  tt0167261\n",
       "15          1     6     11     2     1  tt0073486\n",
       "16          1    12      5     0     2  tt0099685\n",
       "17          1     9      9     0     0  tt0133093\n",
       "18          0     3      8     0     2  tt0047478\n",
       "19          0     6     10     2     3  tt0076759\n",
       "20          1     5      5     0     1  tt0317248\n",
       "21          1     3      6     1     0  tt0114369\n",
       "22          0     3      4     0     1  tt0102926\n",
       "23          3     7      6     1     0  tt0038650\n",
       "24          0     7      3     0     1  tt0114814"
      ]
     },
     "execution_count": 309,
     "metadata": {},
     "output_type": "execute_result"
    }
   ],
   "source": [
    "df1= pd.DataFrame(dic)\n",
    "df1"
   ]
  },
  {
   "cell_type": "markdown",
   "metadata": {},
   "source": [
    "#### 8. Write the results to a csv"
   ]
  },
  {
   "cell_type": "markdown",
   "metadata": {},
   "source": [
    "#### 9. Repeat the process for the other top 24 titles"
   ]
  },
  {
   "cell_type": "markdown",
   "metadata": {},
   "source": [
    "## Part 3: Combine Tables in PostgreSQL"
   ]
  },
  {
   "cell_type": "markdown",
   "metadata": {},
   "source": [
    "#### 1. Import your two .csv data files into your Postgre Database as two different tables"
   ]
  },
  {
   "cell_type": "markdown",
   "metadata": {},
   "source": [
    "For ease, we can call these table1 and table2"
   ]
  },
  {
   "cell_type": "markdown",
   "metadata": {},
   "source": [
    "#### 2. Connect to database and query the joined set"
   ]
  },
  {
   "cell_type": "code",
   "execution_count": null,
   "metadata": {
    "collapsed": true
   },
   "outputs": [],
   "source": []
  },
  {
   "cell_type": "markdown",
   "metadata": {},
   "source": [
    "#### 3. Join the two tables "
   ]
  },
  {
   "cell_type": "code",
   "execution_count": 310,
   "metadata": {
    "collapsed": false
   },
   "outputs": [],
   "source": [
    "df = pd.concat([df,df1], axis=1)"
   ]
  },
  {
   "cell_type": "code",
   "execution_count": 311,
   "metadata": {
    "collapsed": false
   },
   "outputs": [
    {
     "data": {
      "text/html": [
       "<div>\n",
       "<table border=\"1\" class=\"dataframe\">\n",
       "  <thead>\n",
       "    <tr style=\"text-align: right;\">\n",
       "      <th></th>\n",
       "      <th>can_rate</th>\n",
       "      <th>image</th>\n",
       "      <th>num_votes</th>\n",
       "      <th>rating</th>\n",
       "      <th>tconst</th>\n",
       "      <th>title</th>\n",
       "      <th>type</th>\n",
       "      <th>year</th>\n",
       "      <th>beautiful</th>\n",
       "      <th>best</th>\n",
       "      <th>great</th>\n",
       "      <th>hope</th>\n",
       "      <th>love</th>\n",
       "      <th>tsconst</th>\n",
       "    </tr>\n",
       "  </thead>\n",
       "  <tbody>\n",
       "    <tr>\n",
       "      <th>0</th>\n",
       "      <td>True</td>\n",
       "      <td>{u'url': u'https://images-na.ssl-images-amazon...</td>\n",
       "      <td>1733709</td>\n",
       "      <td>9.3</td>\n",
       "      <td>tt0111161</td>\n",
       "      <td>The Shawshank Redemption</td>\n",
       "      <td>feature</td>\n",
       "      <td>1994</td>\n",
       "      <td>1</td>\n",
       "      <td>18</td>\n",
       "      <td>8</td>\n",
       "      <td>16</td>\n",
       "      <td>3</td>\n",
       "      <td>tt0111161</td>\n",
       "    </tr>\n",
       "    <tr>\n",
       "      <th>1</th>\n",
       "      <td>True</td>\n",
       "      <td>{u'url': u'https://images-na.ssl-images-amazon...</td>\n",
       "      <td>1184615</td>\n",
       "      <td>9.2</td>\n",
       "      <td>tt0068646</td>\n",
       "      <td>The Godfather</td>\n",
       "      <td>feature</td>\n",
       "      <td>1972</td>\n",
       "      <td>0</td>\n",
       "      <td>4</td>\n",
       "      <td>8</td>\n",
       "      <td>1</td>\n",
       "      <td>5</td>\n",
       "      <td>tt0068646</td>\n",
       "    </tr>\n",
       "    <tr>\n",
       "      <th>2</th>\n",
       "      <td>True</td>\n",
       "      <td>{u'url': u'https://images-na.ssl-images-amazon...</td>\n",
       "      <td>812439</td>\n",
       "      <td>9.0</td>\n",
       "      <td>tt0071562</td>\n",
       "      <td>The Godfather: Part II</td>\n",
       "      <td>feature</td>\n",
       "      <td>1974</td>\n",
       "      <td>2</td>\n",
       "      <td>6</td>\n",
       "      <td>5</td>\n",
       "      <td>0</td>\n",
       "      <td>1</td>\n",
       "      <td>tt0071562</td>\n",
       "    </tr>\n",
       "    <tr>\n",
       "      <th>3</th>\n",
       "      <td>True</td>\n",
       "      <td>{u'url': u'https://images-na.ssl-images-amazon...</td>\n",
       "      <td>1718423</td>\n",
       "      <td>9.0</td>\n",
       "      <td>tt0468569</td>\n",
       "      <td>The Dark Knight</td>\n",
       "      <td>feature</td>\n",
       "      <td>2008</td>\n",
       "      <td>0</td>\n",
       "      <td>16</td>\n",
       "      <td>10</td>\n",
       "      <td>1</td>\n",
       "      <td>4</td>\n",
       "      <td>tt0468569</td>\n",
       "    </tr>\n",
       "    <tr>\n",
       "      <th>4</th>\n",
       "      <td>True</td>\n",
       "      <td>{u'url': u'https://images-na.ssl-images-amazon...</td>\n",
       "      <td>463000</td>\n",
       "      <td>8.9</td>\n",
       "      <td>tt0050083</td>\n",
       "      <td>12 Angry Men</td>\n",
       "      <td>feature</td>\n",
       "      <td>1957</td>\n",
       "      <td>0</td>\n",
       "      <td>7</td>\n",
       "      <td>9</td>\n",
       "      <td>0</td>\n",
       "      <td>1</td>\n",
       "      <td>tt0050083</td>\n",
       "    </tr>\n",
       "  </tbody>\n",
       "</table>\n",
       "</div>"
      ],
      "text/plain": [
       "  can_rate                                              image  num_votes  \\\n",
       "0     True  {u'url': u'https://images-na.ssl-images-amazon...    1733709   \n",
       "1     True  {u'url': u'https://images-na.ssl-images-amazon...    1184615   \n",
       "2     True  {u'url': u'https://images-na.ssl-images-amazon...     812439   \n",
       "3     True  {u'url': u'https://images-na.ssl-images-amazon...    1718423   \n",
       "4     True  {u'url': u'https://images-na.ssl-images-amazon...     463000   \n",
       "\n",
       "   rating     tconst                     title     type  year  beautiful  \\\n",
       "0     9.3  tt0111161  The Shawshank Redemption  feature  1994          1   \n",
       "1     9.2  tt0068646             The Godfather  feature  1972          0   \n",
       "2     9.0  tt0071562    The Godfather: Part II  feature  1974          2   \n",
       "3     9.0  tt0468569           The Dark Knight  feature  2008          0   \n",
       "4     8.9  tt0050083              12 Angry Men  feature  1957          0   \n",
       "\n",
       "   best  great  hope  love    tsconst  \n",
       "0    18      8    16     3  tt0111161  \n",
       "1     4      8     1     5  tt0068646  \n",
       "2     6      5     0     1  tt0071562  \n",
       "3    16     10     1     4  tt0468569  \n",
       "4     7      9     0     1  tt0050083  "
      ]
     },
     "execution_count": 311,
     "metadata": {},
     "output_type": "execute_result"
    }
   ],
   "source": [
    "df.head()"
   ]
  },
  {
   "cell_type": "markdown",
   "metadata": {},
   "source": [
    "#### 4. Select the newly joined table and save two copies of the into dataframes"
   ]
  },
  {
   "cell_type": "code",
   "execution_count": null,
   "metadata": {
    "collapsed": true
   },
   "outputs": [],
   "source": []
  },
  {
   "cell_type": "markdown",
   "metadata": {},
   "source": [
    "## Part 4: Parsing and Exploratory Data Analysis"
   ]
  },
  {
   "cell_type": "markdown",
   "metadata": {},
   "source": [
    "#### 1. Rename the column headings"
   ]
  },
  {
   "cell_type": "code",
   "execution_count": 312,
   "metadata": {
    "collapsed": false
   },
   "outputs": [],
   "source": [
    "df = df.drop(['can_rate', 'image','type','year','tsconst','tconst','title'], axis=1)"
   ]
  },
  {
   "cell_type": "code",
   "execution_count": null,
   "metadata": {
    "collapsed": false
   },
   "outputs": [],
   "source": []
  },
  {
   "cell_type": "markdown",
   "metadata": {},
   "source": [
    "#### 2. Run a description of the data"
   ]
  },
  {
   "cell_type": "code",
   "execution_count": 322,
   "metadata": {
    "collapsed": false
   },
   "outputs": [
    {
     "data": {
      "text/html": [
       "<div>\n",
       "<table border=\"1\" class=\"dataframe\">\n",
       "  <thead>\n",
       "    <tr style=\"text-align: right;\">\n",
       "      <th></th>\n",
       "      <th>num_votes</th>\n",
       "      <th>rating</th>\n",
       "      <th>beautiful</th>\n",
       "      <th>best</th>\n",
       "      <th>great</th>\n",
       "      <th>hope</th>\n",
       "      <th>love</th>\n",
       "    </tr>\n",
       "  </thead>\n",
       "  <tbody>\n",
       "    <tr>\n",
       "      <th>0</th>\n",
       "      <td>1733709</td>\n",
       "      <td>9.3</td>\n",
       "      <td>1</td>\n",
       "      <td>18</td>\n",
       "      <td>8</td>\n",
       "      <td>16</td>\n",
       "      <td>3</td>\n",
       "    </tr>\n",
       "    <tr>\n",
       "      <th>1</th>\n",
       "      <td>1184615</td>\n",
       "      <td>9.2</td>\n",
       "      <td>0</td>\n",
       "      <td>4</td>\n",
       "      <td>8</td>\n",
       "      <td>1</td>\n",
       "      <td>5</td>\n",
       "    </tr>\n",
       "    <tr>\n",
       "      <th>2</th>\n",
       "      <td>812439</td>\n",
       "      <td>9.0</td>\n",
       "      <td>2</td>\n",
       "      <td>6</td>\n",
       "      <td>5</td>\n",
       "      <td>0</td>\n",
       "      <td>1</td>\n",
       "    </tr>\n",
       "    <tr>\n",
       "      <th>3</th>\n",
       "      <td>1718423</td>\n",
       "      <td>9.0</td>\n",
       "      <td>0</td>\n",
       "      <td>16</td>\n",
       "      <td>10</td>\n",
       "      <td>1</td>\n",
       "      <td>4</td>\n",
       "    </tr>\n",
       "    <tr>\n",
       "      <th>4</th>\n",
       "      <td>463000</td>\n",
       "      <td>8.9</td>\n",
       "      <td>0</td>\n",
       "      <td>7</td>\n",
       "      <td>9</td>\n",
       "      <td>0</td>\n",
       "      <td>1</td>\n",
       "    </tr>\n",
       "  </tbody>\n",
       "</table>\n",
       "</div>"
      ],
      "text/plain": [
       "   num_votes  rating  beautiful  best  great  hope  love\n",
       "0    1733709     9.3          1    18      8    16     3\n",
       "1    1184615     9.2          0     4      8     1     5\n",
       "2     812439     9.0          2     6      5     0     1\n",
       "3    1718423     9.0          0    16     10     1     4\n",
       "4     463000     8.9          0     7      9     0     1"
      ]
     },
     "execution_count": 322,
     "metadata": {},
     "output_type": "execute_result"
    }
   ],
   "source": [
    "df.head()"
   ]
  },
  {
   "cell_type": "code",
   "execution_count": 313,
   "metadata": {
    "collapsed": false
   },
   "outputs": [
    {
     "data": {
      "text/html": [
       "<div>\n",
       "<table border=\"1\" class=\"dataframe\">\n",
       "  <thead>\n",
       "    <tr style=\"text-align: right;\">\n",
       "      <th></th>\n",
       "      <th>num_votes</th>\n",
       "      <th>rating</th>\n",
       "      <th>beautiful</th>\n",
       "      <th>best</th>\n",
       "      <th>great</th>\n",
       "      <th>hope</th>\n",
       "      <th>love</th>\n",
       "    </tr>\n",
       "  </thead>\n",
       "  <tbody>\n",
       "    <tr>\n",
       "      <th>num_votes</th>\n",
       "      <td>1.000000</td>\n",
       "      <td>0.478290</td>\n",
       "      <td>0.101898</td>\n",
       "      <td>0.496955</td>\n",
       "      <td>0.123413</td>\n",
       "      <td>0.468911</td>\n",
       "      <td>0.325329</td>\n",
       "    </tr>\n",
       "    <tr>\n",
       "      <th>rating</th>\n",
       "      <td>0.478290</td>\n",
       "      <td>1.000000</td>\n",
       "      <td>-0.083257</td>\n",
       "      <td>0.513747</td>\n",
       "      <td>0.142927</td>\n",
       "      <td>0.530196</td>\n",
       "      <td>0.347547</td>\n",
       "    </tr>\n",
       "    <tr>\n",
       "      <th>beautiful</th>\n",
       "      <td>0.101898</td>\n",
       "      <td>-0.083257</td>\n",
       "      <td>1.000000</td>\n",
       "      <td>-0.045661</td>\n",
       "      <td>-0.010480</td>\n",
       "      <td>0.155634</td>\n",
       "      <td>-0.007777</td>\n",
       "    </tr>\n",
       "    <tr>\n",
       "      <th>best</th>\n",
       "      <td>0.496955</td>\n",
       "      <td>0.513747</td>\n",
       "      <td>-0.045661</td>\n",
       "      <td>1.000000</td>\n",
       "      <td>0.035616</td>\n",
       "      <td>0.561165</td>\n",
       "      <td>0.030977</td>\n",
       "    </tr>\n",
       "    <tr>\n",
       "      <th>great</th>\n",
       "      <td>0.123413</td>\n",
       "      <td>0.142927</td>\n",
       "      <td>-0.010480</td>\n",
       "      <td>0.035616</td>\n",
       "      <td>1.000000</td>\n",
       "      <td>0.207308</td>\n",
       "      <td>0.447943</td>\n",
       "    </tr>\n",
       "    <tr>\n",
       "      <th>hope</th>\n",
       "      <td>0.468911</td>\n",
       "      <td>0.530196</td>\n",
       "      <td>0.155634</td>\n",
       "      <td>0.561165</td>\n",
       "      <td>0.207308</td>\n",
       "      <td>1.000000</td>\n",
       "      <td>0.117787</td>\n",
       "    </tr>\n",
       "    <tr>\n",
       "      <th>love</th>\n",
       "      <td>0.325329</td>\n",
       "      <td>0.347547</td>\n",
       "      <td>-0.007777</td>\n",
       "      <td>0.030977</td>\n",
       "      <td>0.447943</td>\n",
       "      <td>0.117787</td>\n",
       "      <td>1.000000</td>\n",
       "    </tr>\n",
       "  </tbody>\n",
       "</table>\n",
       "</div>"
      ],
      "text/plain": [
       "           num_votes    rating  beautiful      best     great      hope  \\\n",
       "num_votes   1.000000  0.478290   0.101898  0.496955  0.123413  0.468911   \n",
       "rating      0.478290  1.000000  -0.083257  0.513747  0.142927  0.530196   \n",
       "beautiful   0.101898 -0.083257   1.000000 -0.045661 -0.010480  0.155634   \n",
       "best        0.496955  0.513747  -0.045661  1.000000  0.035616  0.561165   \n",
       "great       0.123413  0.142927  -0.010480  0.035616  1.000000  0.207308   \n",
       "hope        0.468911  0.530196   0.155634  0.561165  0.207308  1.000000   \n",
       "love        0.325329  0.347547  -0.007777  0.030977  0.447943  0.117787   \n",
       "\n",
       "               love  \n",
       "num_votes  0.325329  \n",
       "rating     0.347547  \n",
       "beautiful -0.007777  \n",
       "best       0.030977  \n",
       "great      0.447943  \n",
       "hope       0.117787  \n",
       "love       1.000000  "
      ]
     },
     "execution_count": 313,
     "metadata": {},
     "output_type": "execute_result"
    }
   ],
   "source": [
    "df.corr()"
   ]
  },
  {
   "cell_type": "markdown",
   "metadata": {
    "collapsed": true
   },
   "source": [
    "#### 3. Visualize the Data"
   ]
  },
  {
   "cell_type": "code",
   "execution_count": 314,
   "metadata": {
    "collapsed": false
   },
   "outputs": [
    {
     "data": {
      "text/plain": [
       "<matplotlib.axes._subplots.AxesSubplot at 0x11ae0d810>"
      ]
     },
     "execution_count": 314,
     "metadata": {},
     "output_type": "execute_result"
    },
    {
     "data": {
      "image/png": "[encoded data removed]",
      "text/plain": [
       "<matplotlib.figure.Figure at 0x11ae0d190>"
      ]
     },
     "metadata": {},
     "output_type": "display_data"
    }
   ],
   "source": [
    "df.plot(kind='scatter', x = 'num_votes',y='rating')"
   ]
  },
  {
   "cell_type": "code",
   "execution_count": null,
   "metadata": {
    "collapsed": true
   },
   "outputs": [],
   "source": []
  },
  {
   "cell_type": "code",
   "execution_count": null,
   "metadata": {
    "collapsed": true
   },
   "outputs": [],
   "source": []
  },
  {
   "cell_type": "markdown",
   "metadata": {},
   "source": [
    "## Part 3: Build the Decision Tree"
   ]
  },
  {
   "cell_type": "markdown",
   "metadata": {
    "collapsed": true
   },
   "source": [
    "#### 1. What is our target attribute? "
   ]
  },
  {
   "cell_type": "markdown",
   "metadata": {},
   "source": []
  },
  {
   "cell_type": "markdown",
   "metadata": {},
   "source": [
    "#### 2. Prepare the data and define the training set"
   ]
  },
  {
   "cell_type": "code",
   "execution_count": 329,
   "metadata": {
    "collapsed": false
   },
   "outputs": [],
   "source": [
    "X = df.drop(['rating'],axis=1)\n",
    "y = df.rating"
   ]
  },
  {
   "cell_type": "code",
   "execution_count": 330,
   "metadata": {
    "collapsed": false
   },
   "outputs": [],
   "source": [
    "from sklearn.cross_validation import train_test_split\n",
    "X_train, X_test, y_train, y_test = train_test_split(X, y, test_size=0.3, random_state=42)"
   ]
  },
  {
   "cell_type": "markdown",
   "metadata": {},
   "source": [
    "#### 2. Train the Model"
   ]
  },
  {
   "cell_type": "code",
   "execution_count": 331,
   "metadata": {
    "collapsed": false
   },
   "outputs": [
    {
     "data": {
      "text/plain": [
       "DecisionTreeRegressor(criterion='mse', max_depth=3, max_features=None,\n",
       "           max_leaf_nodes=None, min_impurity_split=1e-07,\n",
       "           min_samples_leaf=1, min_samples_split=2,\n",
       "           min_weight_fraction_leaf=0.0, presort=False, random_state=None,\n",
       "           splitter='best')"
      ]
     },
     "execution_count": 331,
     "metadata": {},
     "output_type": "execute_result"
    }
   ],
   "source": [
    "from sklearn.tree import DecisionTreeRegressor\n",
    "model = DecisionTreeRegressor(max_depth=3)\n",
    "model.fit(X_train,y_train)"
   ]
  },
  {
   "cell_type": "markdown",
   "metadata": {},
   "source": [
    "#### 3. Set up test data and test the model"
   ]
  },
  {
   "cell_type": "code",
   "execution_count": 332,
   "metadata": {
    "collapsed": false
   },
   "outputs": [],
   "source": [
    "preds = model.predict(X_test)"
   ]
  },
  {
   "cell_type": "markdown",
   "metadata": {},
   "source": [
    "#### 5. Check the results"
   ]
  },
  {
   "cell_type": "code",
   "execution_count": 334,
   "metadata": {
    "collapsed": false
   },
   "outputs": [
    {
     "data": {
      "text/plain": [
       "-0.093442065919128625"
      ]
     },
     "execution_count": 334,
     "metadata": {},
     "output_type": "execute_result"
    }
   ],
   "source": [
    "from sklearn.metrics import r2_score\n",
    "r2_score(y_test, preds)"
   ]
  },
  {
   "cell_type": "markdown",
   "metadata": {},
   "source": [
    "#### 6. What is overfitting and how are we at risk? "
   ]
  },
  {
   "cell_type": "markdown",
   "metadata": {},
   "source": [
    "overfit beacuse r2_score is negative"
   ]
  }
 ],
 "metadata": {
  "anaconda-cloud": {},
  "kernelspec": {
   "display_name": "Python [conda env:dsienv]",
   "language": "python",
   "name": "conda-env-dsienv-py"
  },
  "language_info": {
   "codemirror_mode": {
    "name": "ipython",
    "version": 2
   },
   "file_extension": ".py",
   "mimetype": "text/x-python",
   "name": "python",
   "nbconvert_exporter": "python",
   "pygments_lexer": "ipython2",
   "version": "2.7.12"
  }
 },
 "nbformat": 4,
 "nbformat_minor": 0
}
