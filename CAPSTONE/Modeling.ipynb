{
 "cells": [
  {
   "cell_type": "code",
   "execution_count": 1,
   "metadata": {
    "collapsed": true
   },
   "outputs": [],
   "source": [
    "import pandas as pd\n",
    "import csv\n",
    "import matplotlib.pyplot as plt\n",
    "import numpy as np"
   ]
  },
  {
   "cell_type": "code",
   "execution_count": 24,
   "metadata": {
    "collapsed": true
   },
   "outputs": [],
   "source": [
    "df = pd.read_csv('/Users/PatrickChen/Desktop/dsi-atx-1-projects-pchen2890/CAPSTONE/zillow_AnB_data.csv')"
   ]
  },
  {
   "cell_type": "code",
   "execution_count": 25,
   "metadata": {
    "collapsed": false
   },
   "outputs": [],
   "source": [
    "df.drop(\"Unnamed: 0\",axis=1,inplace=True)\n",
    "df.drop(\"propertyType\",axis=1,inplace=True)\n",
    "df.drop(\"home_type\",axis=1,inplace=True)\n",
    "df.dropna(inplace=True)"
   ]
  },
  {
   "cell_type": "code",
   "execution_count": 26,
   "metadata": {
    "collapsed": false
   },
   "outputs": [
    {
     "data": {
      "text/html": [
       "<div>\n",
       "<table border=\"1\" class=\"dataframe\">\n",
       "  <thead>\n",
       "    <tr style=\"text-align: right;\">\n",
       "      <th></th>\n",
       "      <th>prices</th>\n",
       "      <th>zipcodes</th>\n",
       "      <th>tax_year</th>\n",
       "      <th>tax_value</th>\n",
       "      <th>year_built</th>\n",
       "      <th>property_size</th>\n",
       "      <th>home_size</th>\n",
       "      <th>bathrooms</th>\n",
       "      <th>bedrooms</th>\n",
       "      <th>zestimate_amount</th>\n",
       "    </tr>\n",
       "  </thead>\n",
       "  <tbody>\n",
       "    <tr>\n",
       "      <th>0</th>\n",
       "      <td>107.0</td>\n",
       "      <td>78702</td>\n",
       "      <td>2015.0</td>\n",
       "      <td>192439.0</td>\n",
       "      <td>1961.0</td>\n",
       "      <td>6294.0</td>\n",
       "      <td>730.0</td>\n",
       "      <td>1.0</td>\n",
       "      <td>2.0</td>\n",
       "      <td>281162.0</td>\n",
       "    </tr>\n",
       "    <tr>\n",
       "      <th>3</th>\n",
       "      <td>44.0</td>\n",
       "      <td>78754</td>\n",
       "      <td>2015.0</td>\n",
       "      <td>187606.0</td>\n",
       "      <td>2010.0</td>\n",
       "      <td>5872.0</td>\n",
       "      <td>1764.0</td>\n",
       "      <td>3.0</td>\n",
       "      <td>3.0</td>\n",
       "      <td>216260.0</td>\n",
       "    </tr>\n",
       "    <tr>\n",
       "      <th>4</th>\n",
       "      <td>97.0</td>\n",
       "      <td>78704</td>\n",
       "      <td>2015.0</td>\n",
       "      <td>717736.0</td>\n",
       "      <td>2010.0</td>\n",
       "      <td>6595.0</td>\n",
       "      <td>2147.0</td>\n",
       "      <td>2.0</td>\n",
       "      <td>3.0</td>\n",
       "      <td>749497.0</td>\n",
       "    </tr>\n",
       "    <tr>\n",
       "      <th>7</th>\n",
       "      <td>980.0</td>\n",
       "      <td>78704</td>\n",
       "      <td>2015.0</td>\n",
       "      <td>353371.0</td>\n",
       "      <td>1947.0</td>\n",
       "      <td>7884.0</td>\n",
       "      <td>929.0</td>\n",
       "      <td>2.0</td>\n",
       "      <td>3.0</td>\n",
       "      <td>437977.0</td>\n",
       "    </tr>\n",
       "    <tr>\n",
       "      <th>11</th>\n",
       "      <td>149.0</td>\n",
       "      <td>78704</td>\n",
       "      <td>2015.0</td>\n",
       "      <td>438041.0</td>\n",
       "      <td>1996.0</td>\n",
       "      <td>6738.0</td>\n",
       "      <td>1531.0</td>\n",
       "      <td>1.0</td>\n",
       "      <td>0.0</td>\n",
       "      <td>520991.0</td>\n",
       "    </tr>\n",
       "  </tbody>\n",
       "</table>\n",
       "</div>"
      ],
      "text/plain": [
       "    prices  zipcodes  tax_year  tax_value  year_built  property_size  \\\n",
       "0    107.0     78702    2015.0   192439.0      1961.0         6294.0   \n",
       "3     44.0     78754    2015.0   187606.0      2010.0         5872.0   \n",
       "4     97.0     78704    2015.0   717736.0      2010.0         6595.0   \n",
       "7    980.0     78704    2015.0   353371.0      1947.0         7884.0   \n",
       "11   149.0     78704    2015.0   438041.0      1996.0         6738.0   \n",
       "\n",
       "    home_size  bathrooms  bedrooms  zestimate_amount  \n",
       "0       730.0        1.0       2.0          281162.0  \n",
       "3      1764.0        3.0       3.0          216260.0  \n",
       "4      2147.0        2.0       3.0          749497.0  \n",
       "7       929.0        2.0       3.0          437977.0  \n",
       "11     1531.0        1.0       0.0          520991.0  "
      ]
     },
     "execution_count": 26,
     "metadata": {},
     "output_type": "execute_result"
    }
   ],
   "source": [
    "df.head()"
   ]
  },
  {
   "cell_type": "code",
   "execution_count": 27,
   "metadata": {
    "collapsed": false,
    "scrolled": true
   },
   "outputs": [],
   "source": [
    "X = df[df.columns[1:]]\n",
    "y = df[\"prices\"]\n",
    "\n",
    "from sklearn.cross_validation import train_test_split\n",
    "X_train, X_test, y_train, y_test = train_test_split(X, y, test_size=0.3)"
   ]
  },
  {
   "cell_type": "code",
   "execution_count": 28,
   "metadata": {
    "collapsed": false
   },
   "outputs": [],
   "source": [
    "from sklearn.linear_model import LogisticRegression\n",
    "lr = LogisticRegression()\n",
    "\n",
    "model = lr.fit(X_train,y_train)\n",
    "\n",
    "predictions = model.predict(X_test)"
   ]
  },
  {
   "cell_type": "code",
   "execution_count": 29,
   "metadata": {
    "collapsed": false
   },
   "outputs": [
    {
     "data": {
      "text/plain": [
       "array([    75.,    100.,   1099.,     75.,     75.,    400.,    299.,\n",
       "           75.,    300.,    400.,    300.,    300.,    199.,    400.,\n",
       "           84.,     35.,     84.,    290.,    100.,    400.,    400.,\n",
       "        10000.,  10000.,  10000.,     75.,    500.,    100.,    950.,\n",
       "        10000.,     75.,     35.,     75.,     35.,     35.,    950.,\n",
       "          595.,    400.,     75.,    400.,     35.,    300.,    449.,\n",
       "          450.,     45.,     45.,     99.,     75.,     35.,    300.,\n",
       "           75.,    400.,     85.,    150.,    375.,     60.,    449.,\n",
       "          450.,    300.])"
      ]
     },
     "execution_count": 29,
     "metadata": {},
     "output_type": "execute_result"
    }
   ],
   "source": [
    "predictions"
   ]
  },
  {
   "cell_type": "code",
   "execution_count": null,
   "metadata": {
    "collapsed": true
   },
   "outputs": [],
   "source": []
  }
 ],
 "metadata": {
  "kernelspec": {
   "display_name": "Python [conda env:dsienv]",
   "language": "python",
   "name": "conda-env-dsienv-py"
  },
  "language_info": {
   "codemirror_mode": {
    "name": "ipython",
    "version": 2
   },
   "file_extension": ".py",
   "mimetype": "text/x-python",
   "name": "python",
   "nbconvert_exporter": "python",
   "pygments_lexer": "ipython2",
   "version": "2.7.12"
  }
 },
 "nbformat": 4,
 "nbformat_minor": 1
}
