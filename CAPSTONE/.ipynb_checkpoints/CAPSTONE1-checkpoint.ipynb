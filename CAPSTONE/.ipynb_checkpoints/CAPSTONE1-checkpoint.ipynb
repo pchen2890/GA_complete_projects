{
 "cells": [
  {
   "cell_type": "code",
   "execution_count": 15,
   "metadata": {
    "collapsed": false
   },
   "outputs": [],
   "source": [
    "import pandas as pd\n",
    "import csv\n",
    "import pandas_profiling as pp\n",
    "import matplotlib.pyplot as plt\n",
    "import numpy as np"
   ]
  },
  {
   "cell_type": "code",
   "execution_count": 131,
   "metadata": {
    "collapsed": false
   },
   "outputs": [],
   "source": [
    "df = pd.read_csv('/Users/PatrickChen/Desktop/dsi-atx-1-projects-pchen2890/CAPSTONE/datafiniti.csv', encoding='UTF-8')\n",
    "# drop unnessary columns\n",
    "df = df.drop([\"type\", \"rules\",\"people\",\"listingType\",\"key\",\"fees\",\"encoding\",\n",
    "              \"dateUpdated\",\"country\",\"taxID\",\"unitName\",\"address\",\"availablities\",\"brokers\",\n",
    "              \"deposit\",\"garageSize\",\"hours\",\"isAvailable\",\"images\",\"languages\",\"leasingTerm\",\n",
    "              \"lotSize\",\"managedBy\",\"mlsNumber\",\"nearbySchools\",\"neighborhood\",\"numFields\",\"numFloor\",\n",
    "              \"numUnit\",\"parking\",\"paymentTypes\",\"petPolicy\",\"phone\",\"possession\",\"postalCode\",\n",
    "              \"propertyTax\",\"schoolDistrict\",\"secondary\",\"sizes\",\"ids\",\"reviews\",\"rules\",\"people\",\n",
    "              \"type\",\"leasingTerm\",\"hours\"],axis =1)"
   ]
  },
  {
   "cell_type": "code",
   "execution_count": 132,
   "metadata": {
    "collapsed": false
   },
   "outputs": [],
   "source": [
    "#Only get austin texas\n",
    "df = df[df.city==\"Austin\"]\n",
    "df = df[df.province=='TX']"
   ]
  },
  {
   "cell_type": "code",
   "execution_count": 133,
   "metadata": {
    "collapsed": false,
    "scrolled": false
   },
   "outputs": [],
   "source": [
    "# pp.ProfileReport(df)"
   ]
  },
  {
   "cell_type": "code",
   "execution_count": 134,
   "metadata": {
    "collapsed": false,
    "scrolled": true
   },
   "outputs": [],
   "source": [
    "# covert prices to floats\n",
    "import ast\n",
    "df = df[df.prices.notnull()]\n",
    "df.prices = df.prices.astype(str)\n",
    "df.prices = df.prices.map(lambda x: ast.literal_eval(x)[0][\"price\"])\n",
    "df.prices = df.prices.str.strip(\"[]\")\n",
    "df.prices = df.prices.str.strip(\"USD\")\n",
    "df.prices = df.prices.astype(float)"
   ]
  },
  {
   "cell_type": "code",
   "execution_count": 136,
   "metadata": {
    "collapsed": false
   },
   "outputs": [],
   "source": [
    "# Change dates\n",
    "df.dateAdded = pd.to_datetime(df.dateAdded)\n",
    "df.dateAdded = [d.date() for d in df.dateAdded]"
   ]
  },
  {
   "cell_type": "code",
   "execution_count": 137,
   "metadata": {
    "collapsed": false
   },
   "outputs": [
    {
     "data": {
      "text/plain": [
       "Index([u'city', u'dateAdded', u'descriptions', u'features', u'lat', u'long',\n",
       "       u'name', u'numBathroom', u'numBedroom', u'numBed', u'numPeople',\n",
       "       u'propertyType', u'prices', u'province', u'sourceURLs'],\n",
       "      dtype='object')"
      ]
     },
     "execution_count": 137,
     "metadata": {},
     "output_type": "execute_result"
    }
   ],
   "source": [
    "df.columns"
   ]
  },
  {
   "cell_type": "code",
   "execution_count": 138,
   "metadata": {
    "collapsed": true
   },
   "outputs": [],
   "source": [
    "# get only columns needed\n",
    "df = df[[\"prices\",\"dateAdded\",\"lat\",\"long\",\"propertyType\",'numBathroom',\"numBedroom\",\"numBed\",\"numPeople\"]]"
   ]
  },
  {
   "cell_type": "code",
   "execution_count": 140,
   "metadata": {
    "collapsed": false
   },
   "outputs": [
    {
     "name": "stderr",
     "output_type": "stream",
     "text": [
      "100%|██████████| 1965/1965 [09:15<00:00,  3.76it/s]\n"
     ]
    }
   ],
   "source": [
    "# get zipcodes from coordinates\n",
    "from tqdm import tqdm\n",
    "\n",
    "import geocoder\n",
    "zipcodes = []\n",
    "house_num = []\n",
    "street_name = []\n",
    "for x,y in tqdm(zip(df['lat'],df['long'])):\n",
    "    g = geocoder.google([x,y], method='reverse')\n",
    "    house_num.append(g.housenumber)\n",
    "    street_name.append(g.street_long)\n",
    "    zipcodes.append(g.postal)\n",
    "\n",
    "df[\"house_num\"] = house_num\n",
    "df[\"street_name\"] = street_name\n",
    "df['zipcodes'] = zipcodes"
   ]
  },
  {
   "cell_type": "code",
   "execution_count": 141,
   "metadata": {
    "collapsed": false,
    "scrolled": true
   },
   "outputs": [
    {
     "data": {
      "text/html": [
       "<div>\n",
       "<table border=\"1\" class=\"dataframe\">\n",
       "  <thead>\n",
       "    <tr style=\"text-align: right;\">\n",
       "      <th></th>\n",
       "      <th>prices</th>\n",
       "      <th>dateAdded</th>\n",
       "      <th>lat</th>\n",
       "      <th>long</th>\n",
       "      <th>propertyType</th>\n",
       "      <th>numBathroom</th>\n",
       "      <th>numBedroom</th>\n",
       "      <th>numBed</th>\n",
       "      <th>numPeople</th>\n",
       "      <th>house_num</th>\n",
       "      <th>street_name</th>\n",
       "      <th>zipcodes</th>\n",
       "    </tr>\n",
       "  </thead>\n",
       "  <tbody>\n",
       "    <tr>\n",
       "      <th>0</th>\n",
       "      <td>107.0</td>\n",
       "      <td>2015-10-28</td>\n",
       "      <td>30.261685</td>\n",
       "      <td>-97.707917</td>\n",
       "      <td>House</td>\n",
       "      <td>1.0</td>\n",
       "      <td>1.0</td>\n",
       "      <td>1.0</td>\n",
       "      <td>2.0</td>\n",
       "      <td>2816</td>\n",
       "      <td>Prado Street</td>\n",
       "      <td>78702</td>\n",
       "    </tr>\n",
       "    <tr>\n",
       "      <th>1</th>\n",
       "      <td>40.0</td>\n",
       "      <td>2016-08-05</td>\n",
       "      <td>30.435890</td>\n",
       "      <td>-97.729738</td>\n",
       "      <td>Condominium</td>\n",
       "      <td>1.0</td>\n",
       "      <td>1.0</td>\n",
       "      <td>1.0</td>\n",
       "      <td>3.0</td>\n",
       "      <td>13021</td>\n",
       "      <td>Legendary Drive</td>\n",
       "      <td>78727</td>\n",
       "    </tr>\n",
       "    <tr>\n",
       "      <th>2</th>\n",
       "      <td>59.0</td>\n",
       "      <td>2016-03-30</td>\n",
       "      <td>30.406389</td>\n",
       "      <td>-97.717191</td>\n",
       "      <td>Apartment</td>\n",
       "      <td>1.0</td>\n",
       "      <td>1.0</td>\n",
       "      <td>1.0</td>\n",
       "      <td>2.0</td>\n",
       "      <td>11902</td>\n",
       "      <td>Burnet Road</td>\n",
       "      <td>78758</td>\n",
       "    </tr>\n",
       "    <tr>\n",
       "      <th>3</th>\n",
       "      <td>59.0</td>\n",
       "      <td>2015-11-05</td>\n",
       "      <td>30.439717</td>\n",
       "      <td>-97.753116</td>\n",
       "      <td>House</td>\n",
       "      <td>1.0</td>\n",
       "      <td>1.0</td>\n",
       "      <td>1.0</td>\n",
       "      <td>2.0</td>\n",
       "      <td>6508</td>\n",
       "      <td>McNeil Drive</td>\n",
       "      <td>78729</td>\n",
       "    </tr>\n",
       "    <tr>\n",
       "      <th>4</th>\n",
       "      <td>140.0</td>\n",
       "      <td>2016-04-04</td>\n",
       "      <td>30.338714</td>\n",
       "      <td>-97.857038</td>\n",
       "      <td>Other</td>\n",
       "      <td>1.0</td>\n",
       "      <td>0.0</td>\n",
       "      <td>1.0</td>\n",
       "      <td>2.0</td>\n",
       "      <td>1801</td>\n",
       "      <td>Corto Lane</td>\n",
       "      <td>78733</td>\n",
       "    </tr>\n",
       "  </tbody>\n",
       "</table>\n",
       "</div>"
      ],
      "text/plain": [
       "   prices   dateAdded        lat       long propertyType  numBathroom  \\\n",
       "0   107.0  2015-10-28  30.261685 -97.707917        House          1.0   \n",
       "1    40.0  2016-08-05  30.435890 -97.729738  Condominium          1.0   \n",
       "2    59.0  2016-03-30  30.406389 -97.717191    Apartment          1.0   \n",
       "3    59.0  2015-11-05  30.439717 -97.753116        House          1.0   \n",
       "4   140.0  2016-04-04  30.338714 -97.857038        Other          1.0   \n",
       "\n",
       "   numBedroom  numBed  numPeople house_num      street_name zipcodes  \n",
       "0         1.0     1.0        2.0      2816     Prado Street    78702  \n",
       "1         1.0     1.0        3.0     13021  Legendary Drive    78727  \n",
       "2         1.0     1.0        2.0     11902      Burnet Road    78758  \n",
       "3         1.0     1.0        2.0      6508     McNeil Drive    78729  \n",
       "4         0.0     1.0        2.0      1801       Corto Lane    78733  "
      ]
     },
     "execution_count": 141,
     "metadata": {},
     "output_type": "execute_result"
    }
   ],
   "source": [
    "df.head()"
   ]
  },
  {
   "cell_type": "code",
   "execution_count": 143,
   "metadata": {
    "collapsed": false,
    "scrolled": true
   },
   "outputs": [
    {
     "data": {
      "text/plain": [
       "prices            0\n",
       "dateAdded         0\n",
       "lat               0\n",
       "long              0\n",
       "propertyType    193\n",
       "numBathroom      13\n",
       "numBedroom        2\n",
       "numBed          200\n",
       "numPeople         0\n",
       "house_num        67\n",
       "street_name       1\n",
       "zipcodes          0\n",
       "dtype: int64"
      ]
     },
     "execution_count": 143,
     "metadata": {},
     "output_type": "execute_result"
    }
   ],
   "source": [
    "df.isnull().sum(axis=0)"
   ]
  },
  {
   "cell_type": "code",
   "execution_count": 146,
   "metadata": {
    "collapsed": true
   },
   "outputs": [],
   "source": [
    "# Remove nulls\n",
    "df2 = df[df.street_name.notnull()]\n",
    "df2 = df2[df.house_num.notnull()]"
   ]
  },
  {
   "cell_type": "code",
   "execution_count": 147,
   "metadata": {
    "collapsed": false,
    "scrolled": false
   },
   "outputs": [],
   "source": [
    "# remove those with 1777-1888\n",
    "df2.house_num = df2.house_num.apply(lambda x: x.split(\"-\")[0])"
   ]
  },
  {
   "cell_type": "code",
   "execution_count": 149,
   "metadata": {
    "collapsed": false
   },
   "outputs": [
    {
     "data": {
      "text/plain": [
       "House            889\n",
       "Apartment        650\n",
       "Condominium       65\n",
       "Loft              22\n",
       "Townhouse         19\n",
       "Other             16\n",
       "Bungalow          12\n",
       "Camper/RV         10\n",
       "Bed Breakfast     10\n",
       "Guesthouse         4\n",
       "Cabin              4\n",
       "Boat               3\n",
       "Villa              2\n",
       "Tent               1\n",
       "Lighthouse         1\n",
       "Name: propertyType, dtype: int64"
      ]
     },
     "execution_count": 149,
     "metadata": {},
     "output_type": "execute_result"
    }
   ],
   "source": [
    "df2.propertyType.value_counts()"
   ]
  },
  {
   "cell_type": "code",
   "execution_count": 190,
   "metadata": {
    "collapsed": false
   },
   "outputs": [],
   "source": [
    "# Only get property type of house, apartment, loft, townhomes\n",
    "df2 = df2[(df2.propertyType==\"House\")|(df2.propertyType==\"Apartment\")|(df2.propertyType==\"loft\")|(df2.propertyType==\"Townhouse\")]"
   ]
  },
  {
   "cell_type": "code",
   "execution_count": 191,
   "metadata": {
    "collapsed": false
   },
   "outputs": [
    {
     "data": {
      "text/plain": [
       "prices          float64\n",
       "dateAdded        object\n",
       "lat             float64\n",
       "long            float64\n",
       "propertyType     object\n",
       "numBathroom     float64\n",
       "numBedroom      float64\n",
       "numBed          float64\n",
       "numPeople       float64\n",
       "house_num        object\n",
       "street_name      object\n",
       "zipcodes          int64\n",
       "dtype: object"
      ]
     },
     "execution_count": 191,
     "metadata": {},
     "output_type": "execute_result"
    }
   ],
   "source": [
    "df2.dtypes"
   ]
  },
  {
   "cell_type": "code",
   "execution_count": 192,
   "metadata": {
    "collapsed": false
   },
   "outputs": [],
   "source": [
    "#remove unicode issue with convert to csv\n",
    "df2.dateAdded = df2.dateAdded.astype(str)\n",
    "df2.propertyType = df2.propertyType.astype(str)\n",
    "df2.house_num = df2.house_num.astype(str)\n",
    "df2.zipcodes = df2.zipcodes.astype(int)\n",
    "\n",
    "df2.street_name = df2.street_name.apply(lambda x: str(x.encode('utf-8').decode('ascii', 'ignore')))"
   ]
  },
  {
   "cell_type": "code",
   "execution_count": 193,
   "metadata": {
    "collapsed": false
   },
   "outputs": [],
   "source": [
    "df2.to_csv('/Users/PatrickChen/Desktop/dsi-atx-1-projects-pchen2890/CAPSTONE/airbnb_data.csv',encoding='ascii')"
   ]
  },
  {
   "cell_type": "code",
   "execution_count": null,
   "metadata": {
    "collapsed": true
   },
   "outputs": [],
   "source": []
  }
 ],
 "metadata": {
  "anaconda-cloud": {},
  "kernelspec": {
   "display_name": "Python [conda env:dsienv]",
   "language": "python",
   "name": "conda-env-dsienv-py"
  },
  "language_info": {
   "codemirror_mode": {
    "name": "ipython",
    "version": 2
   },
   "file_extension": ".py",
   "mimetype": "text/x-python",
   "name": "python",
   "nbconvert_exporter": "python",
   "pygments_lexer": "ipython2",
   "version": "2.7.12"
  }
 },
 "nbformat": 4,
 "nbformat_minor": 1
}
