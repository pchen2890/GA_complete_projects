{
 "cells": [
  {
   "cell_type": "code",
   "execution_count": 2,
   "metadata": {
    "collapsed": false
   },
   "outputs": [],
   "source": [
    "import pandas as pd\n",
    "import csv\n",
    "import pandas_profiling as pp\n",
    "import matplotlib.pyplot as plt\n",
    "import matplotlib\n",
    "import numpy as np\n",
    "import seaborn as sns\n",
    "from scipy.stats import skew\n",
    "from sklearn.model_selection import cross_val_score\n",
    "% matplotlib inline\n",
    "\n",
    "df_train = pd.read_csv(\"/Users/PatrickChen/Desktop/Capstone/train.csv\")\n",
    "df_test = pd.read_csv(\"/Users/PatrickChen/Desktop/Capstone/test.csv\")"
   ]
  },
  {
   "cell_type": "code",
   "execution_count": 3,
   "metadata": {
    "collapsed": false
   },
   "outputs": [],
   "source": [
    "# Combine Train and Test\n",
    "df1 = pd.concat([df_train,df_test],axis=0)\n",
    "# df1 = df_train\n",
    "df1 = df1.drop([\"Id\",\"SalePrice\"], axis = 1)"
   ]
  },
  {
   "cell_type": "code",
   "execution_count": 4,
   "metadata": {
    "collapsed": false
   },
   "outputs": [
    {
     "data": {
      "text/plain": [
       "(2919, 79)"
      ]
     },
     "execution_count": 4,
     "metadata": {},
     "output_type": "execute_result"
    }
   ],
   "source": [
    "df1.shape"
   ]
  },
  {
   "cell_type": "markdown",
   "metadata": {},
   "source": [
    "# Changing Categories between numerical and categorical"
   ]
  },
  {
   "cell_type": "code",
   "execution_count": 5,
   "metadata": {
    "collapsed": false,
    "scrolled": false
   },
   "outputs": [],
   "source": [
    "# Numerical features that are actually categorical\n",
    "df1.MSSubClass = df1.MSSubClass.astype(str)\n",
    "df1.MoSold = df1.MoSold.astype(str)\n",
    "df1.KitchenAbvGr = df1.KitchenAbvGr.astype(str)"
   ]
  },
  {
   "cell_type": "code",
   "execution_count": 6,
   "metadata": {
    "collapsed": true
   },
   "outputs": [],
   "source": [
    "# get data with categories\n",
    "col = df1.dtypes[df1.dtypes == \"object\"].index\n",
    "df_cat = df1[col]\n",
    "\n",
    "# get data with numerical\n",
    "col = df1.dtypes[df1.dtypes != \"object\"].index\n",
    "df_num = df1[col]"
   ]
  },
  {
   "cell_type": "code",
   "execution_count": 7,
   "metadata": {
    "collapsed": false,
    "scrolled": false
   },
   "outputs": [
    {
     "name": "stderr",
     "output_type": "stream",
     "text": [
      "/Users/PatrickChen/anaconda/envs/dsienv/lib/python2.7/site-packages/ipykernel/__main__.py:11: SettingWithCopyWarning: \n",
      "A value is trying to be set on a copy of a slice from a DataFrame.\n",
      "Try using .loc[row_indexer,col_indexer] = value instead\n",
      "\n",
      "See the caveats in the documentation: http://pandas.pydata.org/pandas-docs/stable/indexing.html#indexing-view-versus-copy\n",
      "/Users/PatrickChen/anaconda/envs/dsienv/lib/python2.7/site-packages/pandas/core/frame.py:2452: SettingWithCopyWarning: \n",
      "A value is trying to be set on a copy of a slice from a DataFrame\n",
      "\n",
      "See the caveats in the documentation: http://pandas.pydata.org/pandas-docs/stable/indexing.html#indexing-view-versus-copy\n",
      "  self._where(-key, value, inplace=True)\n",
      "/Users/PatrickChen/anaconda/envs/dsienv/lib/python2.7/site-packages/ipykernel/__main__.py:12: SettingWithCopyWarning: \n",
      "A value is trying to be set on a copy of a slice from a DataFrame.\n",
      "Try using .loc[row_indexer,col_indexer] = value instead\n",
      "\n",
      "See the caveats in the documentation: http://pandas.pydata.org/pandas-docs/stable/indexing.html#indexing-view-versus-copy\n"
     ]
    }
   ],
   "source": [
    "# more than 50% of zeros should be changed to categorical\n",
    "\n",
    "# stay as numerical\n",
    "col = df_num.columns[(df_num == 0).sum(axis=0)/len(df_num)<0.5]\n",
    "df_num_num = df_num[col]\n",
    "\n",
    "# change to categorical\n",
    "col = df_num.columns[(df_num == 0).sum(axis=0)/len(df_num)>0.5]\n",
    "df_num_cat = df_num[col]\n",
    "\n",
    "df_num_cat[df_num_cat != 0] = \"Yes\"\n",
    "df_num_cat[df_num_cat!=\"Yes\"] = \"No\""
   ]
  },
  {
   "cell_type": "code",
   "execution_count": 8,
   "metadata": {
    "collapsed": true
   },
   "outputs": [],
   "source": [
    "# Combine Data\n",
    "df1 = pd.concat([df_cat,df_num_num,df_num_cat],axis=1)"
   ]
  },
  {
   "cell_type": "markdown",
   "metadata": {},
   "source": [
    "# Filling NULL Values"
   ]
  },
  {
   "cell_type": "code",
   "execution_count": 9,
   "metadata": {
    "collapsed": true
   },
   "outputs": [],
   "source": [
    "# Split features that contain nulls values\n",
    "nulls = df1.columns[df1.isnull().sum()>0]\n",
    "notnulls = df1.columns[df1.isnull().sum()==0]\n",
    "\n",
    "df_nulls = df1[nulls]\n",
    "df_notnulls = df1[notnulls]"
   ]
  },
  {
   "cell_type": "code",
   "execution_count": 10,
   "metadata": {
    "collapsed": false
   },
   "outputs": [],
   "source": [
    "# Split features by Categorical(Nulls) and Numerical(Nulls)\n",
    "\n",
    "# get nulls with categories\n",
    "col = df_nulls.dtypes[df_nulls.dtypes == \"object\"].index\n",
    "df_cat = df_nulls[col]\n",
    "\n",
    "# get nulls with numerical\n",
    "col = df_nulls.dtypes[df_nulls.dtypes != \"object\"].index\n",
    "df_num = df_nulls[col]"
   ]
  },
  {
   "cell_type": "markdown",
   "metadata": {},
   "source": [
    "# Categorical Nulls"
   ]
  },
  {
   "cell_type": "code",
   "execution_count": 11,
   "metadata": {
    "collapsed": false
   },
   "outputs": [],
   "source": [
    "# Large number of missing should be filled with NONE\n",
    "# Low number of missing should be filled with MOST common feature\n",
    "\n",
    "# Split Categorical data from none and most\n",
    "none = list(df_cat.isnull().sum()>df_cat.notnull().sum())\n",
    "most = list(df_cat.isnull().sum()<df_cat.notnull().sum())\n",
    "df_none = df_cat[df_cat.columns[none]]\n",
    "df_most = df_cat[df_cat.columns[most]]\n",
    "\n",
    "# fill nulls with none\n",
    "df_none = df_none.fillna(\"None\")\n",
    "\n",
    "# fill nulls with Most common feature\n",
    "df_most = df_most.fillna(df_most.mode().iloc[0])"
   ]
  },
  {
   "cell_type": "markdown",
   "metadata": {},
   "source": [
    "# Numerical Nulls"
   ]
  },
  {
   "cell_type": "code",
   "execution_count": 12,
   "metadata": {
    "collapsed": true
   },
   "outputs": [],
   "source": [
    "# Numerical nulls should take on mean\n",
    "df_num = df_num.fillna(df_num.mean())"
   ]
  },
  {
   "cell_type": "markdown",
   "metadata": {},
   "source": [
    "Combine non-nulls and fixed nulls"
   ]
  },
  {
   "cell_type": "code",
   "execution_count": 13,
   "metadata": {
    "collapsed": false
   },
   "outputs": [],
   "source": [
    "# Combine all features together\n",
    "df2 = pd.concat([df_notnulls,df_num,df_none,df_most],axis = 1)"
   ]
  },
  {
   "cell_type": "markdown",
   "metadata": {},
   "source": [
    "# Eliminate outliers in Numerical Columns"
   ]
  },
  {
   "cell_type": "code",
   "execution_count": 14,
   "metadata": {
    "collapsed": true
   },
   "outputs": [],
   "source": [
    "# get numerical columns \n",
    "df_numerical = df2.columns[df2.dtypes!='object']\n",
    "\n",
    "# #log transform skewed numeric features:\n",
    "# skewed_feats = df2[df_numerical].apply(lambda x: skew(x))\n",
    "# skewed_feats = skewed_feats[skewed_feats > 0.75]\n",
    "# skewed_feats = skewed_feats.index\n",
    "# df2[skewed_feats] = df2[skewed_feats]\n",
    "# # df2[skewed_feats] = np.log1p(df2[skewed_feats])"
   ]
  },
  {
   "cell_type": "code",
   "execution_count": 15,
   "metadata": {
    "collapsed": false
   },
   "outputs": [],
   "source": [
    "# define plot function, and in this function, we will calculate the skew of X and take the log of y\n",
    "# try and reduce graph size and add in TITLE. EDIT!!!! \n",
    "def plot_outlier(x):\n",
    "    skew_value=skew(x)\n",
    "    print x.name\n",
    "    print('sample lengh: %s   and skew: %s'%(len(x),skew_value))\n",
    "    fig,axs=plt.subplots(1,2,figsize=(8,3))\n",
    "    sns.boxplot(x,orient='v',ax=axs[0])\n",
    "    sns.regplot(x,y,ax=axs[1])\n",
    "    plt.tight_layout()\n",
    "    plt.show()"
   ]
  },
  {
   "cell_type": "code",
   "execution_count": 16,
   "metadata": {
    "collapsed": true
   },
   "outputs": [],
   "source": [
    "# split data set from test to train before eliminate outlier \n",
    "df2_train, df2_test = df2.iloc[:1460,:], df2.iloc[1460:,:]"
   ]
  },
  {
   "cell_type": "code",
   "execution_count": 17,
   "metadata": {
    "collapsed": false
   },
   "outputs": [],
   "source": [
    "# Identify Outliers\n",
    "df3= df2_train[\n",
    "    (df2_train.LotArea<100000)\n",
    "    &(df2_train.BsmtFinSF1<3000)\n",
    "    &(df2_train.TotalBsmtSF<4000)\n",
    "    &(df2_train[\"1stFlrSF\"]<4000)\n",
    "    &(df2_train.GrLivArea<4000)     #recommended\n",
    "    &(df2_train.OpenPorchSF<450)\n",
    "    &(df2_train.LotFrontage<300)]"
   ]
  },
  {
   "cell_type": "code",
   "execution_count": 18,
   "metadata": {
    "collapsed": true
   },
   "outputs": [],
   "source": [
    "# combine data after outlier\n",
    "df4 = pd.concat([df3,df2_test],axis=0)"
   ]
  },
  {
   "cell_type": "code",
   "execution_count": 19,
   "metadata": {
    "collapsed": true
   },
   "outputs": [],
   "source": [
    "# get dummies for dataset\n",
    "df4 = pd.get_dummies(df4)"
   ]
  },
  {
   "cell_type": "code",
   "execution_count": 20,
   "metadata": {
    "collapsed": false,
    "scrolled": false
   },
   "outputs": [],
   "source": [
    "# normalize dataset\n",
    "df5 = np.log1p(df4)"
   ]
  },
  {
   "cell_type": "markdown",
   "metadata": {},
   "source": [
    "# MODEL"
   ]
  },
  {
   "cell_type": "markdown",
   "metadata": {},
   "source": [
    "SPLIT TEST AND TRAIN"
   ]
  },
  {
   "cell_type": "code",
   "execution_count": 21,
   "metadata": {
    "collapsed": true
   },
   "outputs": [],
   "source": [
    "# split data set from test to train\n",
    "df3_train, df3_test = df5.iloc[:1448,:], df5.iloc[1448:,:]"
   ]
  },
  {
   "cell_type": "code",
   "execution_count": 22,
   "metadata": {
    "collapsed": false
   },
   "outputs": [],
   "source": [
    "# add in SalePrice\n",
    "df3_train = df3_train.join(df_train.SalePrice, how = 'left', lsuffix='_x')"
   ]
  },
  {
   "cell_type": "code",
   "execution_count": 23,
   "metadata": {
    "collapsed": false
   },
   "outputs": [
    {
     "data": {
      "text/plain": [
       "(1448, 334)"
      ]
     },
     "execution_count": 23,
     "metadata": {},
     "output_type": "execute_result"
    }
   ],
   "source": [
    "df3_train.shape"
   ]
  },
  {
   "cell_type": "code",
   "execution_count": 24,
   "metadata": {
    "collapsed": false,
    "scrolled": true
   },
   "outputs": [],
   "source": [
    "X = df3_train[df3_train.columns[df3_train.columns!=\"SalePrice\"]]\n",
    "y = np.log1p(df3_train.SalePrice)"
   ]
  },
  {
   "cell_type": "code",
   "execution_count": 25,
   "metadata": {
    "collapsed": false
   },
   "outputs": [
    {
     "name": "stderr",
     "output_type": "stream",
     "text": [
      "/Users/PatrickChen/anaconda/envs/dsienv/lib/python2.7/site-packages/sklearn/cross_validation.py:44: DeprecationWarning: This module was deprecated in version 0.18 in favor of the model_selection module into which all the refactored classes and functions are moved. Also note that the interface of the new CV iterators are different from that of this module. This module will be removed in 0.20.\n",
      "  \"This module will be removed in 0.20.\", DeprecationWarning)\n"
     ]
    }
   ],
   "source": [
    "from sklearn.cross_validation import train_test_split\n",
    "X_train, X_test, y_train, y_test = train_test_split(X, y, test_size=0.3,random_state = 10)"
   ]
  },
  {
   "cell_type": "markdown",
   "metadata": {},
   "source": [
    "# Linear Regression"
   ]
  },
  {
   "cell_type": "code",
   "execution_count": 26,
   "metadata": {
    "collapsed": false,
    "scrolled": true
   },
   "outputs": [],
   "source": [
    "from sklearn.linear_model import LinearRegression\n",
    "lm = LinearRegression() \n",
    "lm.fit(X_train,y_train)\n",
    "y_pred = lm.predict(X_test)"
   ]
  },
  {
   "cell_type": "code",
   "execution_count": 27,
   "metadata": {
    "collapsed": false,
    "scrolled": true
   },
   "outputs": [
    {
     "name": "stdout",
     "output_type": "stream",
     "text": [
      "RMSE: 1.70424618988e+18\n",
      "r2 -1.11465053424e+19\n"
     ]
    }
   ],
   "source": [
    "from sklearn.metrics import mean_squared_error, mean_absolute_error, r2_score\n",
    "\n",
    "#RMSE is the distance, on average, of a data point from the fitted line, measured along a vertical line.\n",
    "# log is to normalize sale price\n",
    "print \"RMSE:\", mean_squared_error(y_test,y_pred) #y_pred has negative number\n",
    "print \"r2\", r2_score(y_test,y_pred) \n",
    "\n"
   ]
  },
  {
   "cell_type": "markdown",
   "metadata": {},
   "source": [
    "# Feature Selection"
   ]
  },
  {
   "cell_type": "markdown",
   "metadata": {},
   "source": [
    "## Ridge"
   ]
  },
  {
   "cell_type": "code",
   "execution_count": 28,
   "metadata": {
    "collapsed": false
   },
   "outputs": [
    {
     "name": "stdout",
     "output_type": "stream",
     "text": [
      "best estimator Ridge(alpha=4.3999999999999986, copy_X=True, fit_intercept=True,\n",
      "   max_iter=None, normalize=False, random_state=None, solver='auto',\n",
      "   tol=0.001)\n",
      "best params {'alpha': 4.3999999999999986}\n",
      "best score 0.902505766327\n"
     ]
    }
   ],
   "source": [
    "from sklearn.model_selection import GridSearchCV\n",
    "from sklearn.linear_model import Ridge\n",
    "# prepare a range of alpha values to test\n",
    "alphas = np.arange(4.0,5.0,0.1)\n",
    "\n",
    "# create and fit a ridge regression model, testing each alpha\n",
    "model = Ridge()\n",
    "gs_ridge = GridSearchCV(estimator=model, param_grid=dict(alpha=alphas))\n",
    "\n",
    "# fit model\n",
    "gs_ridge.fit(X_train, y_train)\n",
    "\n",
    "# summarize the results of the grid search\n",
    "print \"best estimator\", gs_ridge.best_estimator_\n",
    "print \"best params\", gs_ridge.best_params_\n",
    "print \"best score\", gs_ridge.best_score_"
   ]
  },
  {
   "cell_type": "code",
   "execution_count": 29,
   "metadata": {
    "collapsed": false
   },
   "outputs": [
    {
     "name": "stdout",
     "output_type": "stream",
     "text": [
      "RMSE: 0.107140040657\n",
      "r2 0.924922464076\n"
     ]
    }
   ],
   "source": [
    "y_pred = gs_ridge.predict(X_test)\n",
    "\n",
    "#RMSE is the distance, on average, of a data point from the fitted line, measured along a vertical line.\n",
    "# log is to normalize sale price\n",
    "print \"RMSE:\", np.sqrt(mean_squared_error(y_test,y_pred))\n",
    "print \"r2\", r2_score(y_test,y_pred) \n",
    "\n",
    "\n",
    "# Your submission scored 0.12545"
   ]
  },
  {
   "cell_type": "markdown",
   "metadata": {},
   "source": [
    "## Lasso"
   ]
  },
  {
   "cell_type": "code",
   "execution_count": 30,
   "metadata": {
    "collapsed": false
   },
   "outputs": [
    {
     "name": "stdout",
     "output_type": "stream",
     "text": [
      "best estimator Lasso(alpha=0.00089999999999999998, copy_X=True, fit_intercept=True,\n",
      "   max_iter=1000, normalize=False, positive=False, precompute=False,\n",
      "   random_state=None, selection='cyclic', tol=0.0001, warm_start=False)\n",
      "best params {'alpha': 0.00089999999999999998}\n",
      "best score 0.906236122999\n"
     ]
    }
   ],
   "source": [
    "from sklearn.linear_model import Lasso\n",
    "\n",
    "# prepare a range of alpha values to test\n",
    "alphas = np.array([0.0009, 0.001,0.002])\n",
    "\n",
    "# create and fit a ridge regression model, testing each alpha\n",
    "model = Lasso()\n",
    "gs_lasso = GridSearchCV(estimator=model, param_grid=dict(alpha=alphas))\n",
    "\n",
    "# fit model\n",
    "gs_lasso.fit(X_train, y_train)\n",
    "\n",
    "# summarize the results of the grid search\n",
    "print \"best estimator\", gs_lasso.best_estimator_\n",
    "print \"best params\", gs_lasso.best_params_\n",
    "print \"best score\", gs_lasso.best_score_"
   ]
  },
  {
   "cell_type": "code",
   "execution_count": 31,
   "metadata": {
    "collapsed": false,
    "scrolled": false
   },
   "outputs": [
    {
     "name": "stdout",
     "output_type": "stream",
     "text": [
      "RMSE: 0.113856853253\n",
      "r2 0.915213882192\n"
     ]
    }
   ],
   "source": [
    "y_pred = gs_lasso.predict(X_test)\n",
    "\n",
    "#RMSE is the distance, on average, of a data point from the fitted line, measured along a vertical line.\n",
    "# log is to normalize sale price\n",
    "print \"RMSE:\", np.sqrt(mean_squared_error(y_test,y_pred))\n",
    "print \"r2\", r2_score(y_test,y_pred) \n",
    "\n",
    "# Your submission scored 0.12693"
   ]
  },
  {
   "cell_type": "markdown",
   "metadata": {},
   "source": [
    "# XGBoost"
   ]
  },
  {
   "cell_type": "code",
   "execution_count": 32,
   "metadata": {
    "collapsed": true
   },
   "outputs": [],
   "source": [
    "params = {\n",
    "        'learning_rate': np.array([0.01,0.1,0.2]),\n",
    "        'n_estimators':np.array([200,300]),\n",
    "        'reg_lambda':np.array([5,6,7,8,9])\n",
    "        }"
   ]
  },
  {
   "cell_type": "code",
   "execution_count": 33,
   "metadata": {
    "collapsed": false,
    "scrolled": true
   },
   "outputs": [
    {
     "data": {
      "text/plain": [
       "GridSearchCV(cv=None, error_score='raise',\n",
       "       estimator=XGBRegressor(base_score=0.5, colsample_bylevel=1, colsample_bytree=1, gamma=0,\n",
       "       learning_rate=0.1, max_delta_step=0, max_depth=3,\n",
       "       min_child_weight=1, missing=None, n_estimators=100, nthread=-1,\n",
       "       objective='reg:linear', reg_alpha=0, reg_lambda=1,\n",
       "       scale_pos_weight=1, seed=0, silent=True, subsample=1),\n",
       "       fit_params={}, iid=True, n_jobs=1,\n",
       "       param_grid={'n_estimators': array([200, 300]), 'learning_rate': array([ 0.01,  0.1 ,  0.2 ]), 'reg_lambda': array([5, 6, 7, 8, 9])},\n",
       "       pre_dispatch='2*n_jobs', refit=True, return_train_score=True,\n",
       "       scoring=None, verbose=0)"
      ]
     },
     "execution_count": 33,
     "metadata": {},
     "output_type": "execute_result"
    }
   ],
   "source": [
    "from xgboost import XGBRegressor\n",
    "\n",
    "# create and fit a ridge regression model, testing each alpha\n",
    "model = XGBRegressor()\n",
    "gs_XGB = GridSearchCV(model,params)\n",
    "\n",
    "# fit model\n",
    "gs_XGB.fit(X_train, y_train)"
   ]
  },
  {
   "cell_type": "code",
   "execution_count": 34,
   "metadata": {
    "collapsed": false
   },
   "outputs": [
    {
     "name": "stdout",
     "output_type": "stream",
     "text": [
      "best estimator XGBRegressor(base_score=0.5, colsample_bylevel=1, colsample_bytree=1, gamma=0,\n",
      "       learning_rate=0.10000000000000001, max_delta_step=0, max_depth=3,\n",
      "       min_child_weight=1, missing=None, n_estimators=300, nthread=-1,\n",
      "       objective='reg:linear', reg_alpha=0, reg_lambda=5,\n",
      "       scale_pos_weight=1, seed=0, silent=True, subsample=1)\n",
      "best params {'n_estimators': 300, 'learning_rate': 0.10000000000000001, 'reg_lambda': 5}\n",
      "best score 0.892113390405\n"
     ]
    }
   ],
   "source": [
    "# # summarize the results of the grid search\n",
    "print \"best estimator\", gs_XGB.best_estimator_\n",
    "print \"best params\", gs_XGB.best_params_\n",
    "print \"best score\", gs_XGB.best_score_"
   ]
  },
  {
   "cell_type": "code",
   "execution_count": 35,
   "metadata": {
    "collapsed": false,
    "scrolled": true
   },
   "outputs": [
    {
     "name": "stdout",
     "output_type": "stream",
     "text": [
      "RMSE: 0.112732692901\n",
      "r2 0.916879880401\n"
     ]
    }
   ],
   "source": [
    "# make predictions for test data\n",
    "y_pred = gs_XGB.predict(X_test)\n",
    "\n",
    "#RMSE is the distance, on average, of a data point from the fitted line, measured along a vertical line.\n",
    "# log is to normalize sale price\n",
    "print \"RMSE:\", np.sqrt(mean_squared_error(y_test,y_pred))\n",
    "print \"r2\", r2_score(y_test,y_pred) \n",
    "\n",
    "\n",
    "# Your submission scored 0.13961"
   ]
  },
  {
   "cell_type": "markdown",
   "metadata": {},
   "source": [
    "# MODEL ANALYSIS"
   ]
  },
  {
   "cell_type": "code",
   "execution_count": 36,
   "metadata": {
    "collapsed": false,
    "scrolled": true
   },
   "outputs": [
    {
     "data": {
      "text/plain": [
       "Ridge(alpha=4.4, copy_X=True, fit_intercept=True, max_iter=None,\n",
       "   normalize=False, random_state=None, solver='auto', tol=0.001)"
      ]
     },
     "execution_count": 36,
     "metadata": {},
     "output_type": "execute_result"
    }
   ],
   "source": [
    "# model = Lasso(alpha=0.001)\n",
    "model = Ridge(alpha=4.4)\n",
    "# model = XGBRegressor()\n",
    "model.fit(X,y)"
   ]
  },
  {
   "cell_type": "code",
   "execution_count": 37,
   "metadata": {
    "collapsed": false,
    "scrolled": true
   },
   "outputs": [],
   "source": [
    "coef = pd.Series(model.coef_, index = X_train.columns)"
   ]
  },
  {
   "cell_type": "code",
   "execution_count": 38,
   "metadata": {
    "collapsed": false,
    "scrolled": true
   },
   "outputs": [
    {
     "name": "stdout",
     "output_type": "stream",
     "text": [
      "Model picked 331 variables and eliminated the other 2 variables\n"
     ]
    }
   ],
   "source": [
    "print(\"Model picked \" + str(sum(coef != 0)) + \" variables and eliminated the other \" +  str(sum(coef == 0)) + \" variables\")"
   ]
  },
  {
   "cell_type": "code",
   "execution_count": 39,
   "metadata": {
    "collapsed": true
   },
   "outputs": [],
   "source": [
    "pos_coef = pd.concat([coef.sort_values().tail(10)])\n",
    "neg_coef = pd.concat([coef.sort_values().head(10)])"
   ]
  },
  {
   "cell_type": "code",
   "execution_count": 40,
   "metadata": {
    "collapsed": false
   },
   "outputs": [
    {
     "name": "stdout",
     "output_type": "stream",
     "text": [
      "FullBath                0.095929\n",
      "Neighborhood_NoRidge    0.096397\n",
      "Neighborhood_Crawfor    0.104498\n",
      "GarageCars              0.106752\n",
      "Functional_Typ          0.109334\n",
      "Neighborhood_StoneBr    0.124588\n",
      "1stFlrSF                0.146282\n",
      "OverallCond             0.200450\n",
      "OverallQual             0.249503\n",
      "GrLivArea               0.279233\n",
      "dtype: float64\n",
      "MSZoning_C (all)        -0.187457\n",
      "Neighborhood_Edwards    -0.088209\n",
      "Functional_Maj2         -0.085888\n",
      "Neighborhood_MeadowV    -0.076990\n",
      "Heating_Grav            -0.067507\n",
      "Neighborhood_IDOTRR     -0.064219\n",
      "SaleCondition_Abnorml   -0.064030\n",
      "Condition1_RRAe         -0.063087\n",
      "Neighborhood_OldTown    -0.057653\n",
      "Foundation_BrkTil       -0.055783\n",
      "dtype: float64\n"
     ]
    }
   ],
   "source": [
    "print pos_coef\n",
    "print neg_coef"
   ]
  },
  {
   "cell_type": "code",
   "execution_count": 41,
   "metadata": {
    "collapsed": false,
    "scrolled": false
   },
   "outputs": [
    {
     "data": {
      "image/png": "[encoded data removed]",
      "text/plain": [
       "<matplotlib.figure.Figure at 0x1131a8f50>"
      ]
     },
     "metadata": {},
     "output_type": "display_data"
    }
   ],
   "source": [
    "matplotlib.rcParams['figure.figsize'] = (8.0, 10.0)\n",
    "pos_coef.plot(kind = \"barh\")\n",
    "plt.title(\"Top Positive Coefficients (Model)\")\n",
    "plt.show()"
   ]
  },
  {
   "cell_type": "code",
   "execution_count": 42,
   "metadata": {
    "collapsed": false,
    "scrolled": false
   },
   "outputs": [
    {
     "data": {
      "image/png": "[encoded data removed]",
      "text/plain": [
       "<matplotlib.figure.Figure at 0x11bcd5d90>"
      ]
     },
     "metadata": {},
     "output_type": "display_data"
    }
   ],
   "source": [
    "matplotlib.rcParams['figure.figsize'] = (8.0, 10.0)\n",
    "neg_coef.plot(kind = \"barh\")\n",
    "plt.title(\"Top Negative Coefficients (Model)\")\n",
    "plt.show()"
   ]
  },
  {
   "cell_type": "code",
   "execution_count": 43,
   "metadata": {
    "collapsed": false,
    "scrolled": true
   },
   "outputs": [],
   "source": [
    "# change back to regular numbers\n",
    "y_pred = model.predict(X_test)\n",
    "y_pred = np.expm1(y_pred)\n",
    "y_test = np.expm1(y_test)"
   ]
  },
  {
   "cell_type": "code",
   "execution_count": 44,
   "metadata": {
    "collapsed": false,
    "scrolled": false
   },
   "outputs": [
    {
     "data": {
      "image/png": "[encoded data removed]",
      "text/plain": [
       "<matplotlib.figure.Figure at 0x11bd94a90>"
      ]
     },
     "metadata": {},
     "output_type": "display_data"
    }
   ],
   "source": [
    "plt.figure(figsize=(10, 5))\n",
    "plt.scatter(y_test, y_pred, s=20)\n",
    "plt.title('Predicted vs. Actual')\n",
    "plt.xlabel('Actual Sale Price')\n",
    "plt.ylabel('Predicted Sale Price')\n",
    "\n",
    "plt.plot([min(y_test), max(y_test)], [min(y_test), max(y_test)],c=\"red\")\n",
    "plt.show()"
   ]
  },
  {
   "cell_type": "markdown",
   "metadata": {},
   "source": [
    "# KAGGLE"
   ]
  },
  {
   "cell_type": "code",
   "execution_count": 45,
   "metadata": {
    "collapsed": true
   },
   "outputs": [],
   "source": [
    "# Kaggle Score 0.12162"
   ]
  },
  {
   "cell_type": "code",
   "execution_count": 46,
   "metadata": {
    "collapsed": false
   },
   "outputs": [
    {
     "data": {
      "text/plain": [
       "(1459, 333)"
      ]
     },
     "execution_count": 46,
     "metadata": {},
     "output_type": "execute_result"
    }
   ],
   "source": [
    "# 1459 is needed\n",
    "df3_test.shape"
   ]
  },
  {
   "cell_type": "code",
   "execution_count": 47,
   "metadata": {
    "collapsed": false,
    "scrolled": true
   },
   "outputs": [
    {
     "data": {
      "text/html": [
       "<div>\n",
       "<table border=\"1\" class=\"dataframe\">\n",
       "  <thead>\n",
       "    <tr style=\"text-align: right;\">\n",
       "      <th></th>\n",
       "      <th>Id</th>\n",
       "      <th>SalePrice</th>\n",
       "    </tr>\n",
       "  </thead>\n",
       "  <tbody>\n",
       "    <tr>\n",
       "      <th>0</th>\n",
       "      <td>1461</td>\n",
       "      <td>119826.123948</td>\n",
       "    </tr>\n",
       "    <tr>\n",
       "      <th>1</th>\n",
       "      <td>1462</td>\n",
       "      <td>165420.659489</td>\n",
       "    </tr>\n",
       "    <tr>\n",
       "      <th>2</th>\n",
       "      <td>1463</td>\n",
       "      <td>184948.413205</td>\n",
       "    </tr>\n",
       "    <tr>\n",
       "      <th>3</th>\n",
       "      <td>1464</td>\n",
       "      <td>199984.177747</td>\n",
       "    </tr>\n",
       "    <tr>\n",
       "      <th>4</th>\n",
       "      <td>1465</td>\n",
       "      <td>195757.268999</td>\n",
       "    </tr>\n",
       "  </tbody>\n",
       "</table>\n",
       "</div>"
      ],
      "text/plain": [
       "     Id      SalePrice\n",
       "0  1461  119826.123948\n",
       "1  1462  165420.659489\n",
       "2  1463  184948.413205\n",
       "3  1464  199984.177747\n",
       "4  1465  195757.268999"
      ]
     },
     "execution_count": 47,
     "metadata": {},
     "output_type": "execute_result"
    }
   ],
   "source": [
    "# Choose model to make predictions for test data\n",
    "y_pred = model.predict(df3_test)\n",
    "# get Id numbers from test set\n",
    "df_kaggle = df_test.iloc[:,:1]\n",
    "\n",
    "df_kaggle[\"SalePrice\"] = np.expm1(pd.Series(y_pred))\n",
    "df_kaggle.head()"
   ]
  },
  {
   "cell_type": "code",
   "execution_count": 48,
   "metadata": {
    "collapsed": true
   },
   "outputs": [],
   "source": [
    "df_kaggle.to_csv(\"/Users/PatrickChen/Desktop/Capstone/submit.csv\")"
   ]
  },
  {
   "cell_type": "code",
   "execution_count": null,
   "metadata": {
    "collapsed": true
   },
   "outputs": [],
   "source": []
  }
 ],
 "metadata": {
  "anaconda-cloud": {},
  "kernelspec": {
   "display_name": "Python [conda env:dsienv]",
   "language": "python",
   "name": "conda-env-dsienv-py"
  },
  "language_info": {
   "codemirror_mode": {
    "name": "ipython",
    "version": 2
   },
   "file_extension": ".py",
   "mimetype": "text/x-python",
   "name": "python",
   "nbconvert_exporter": "python",
   "pygments_lexer": "ipython2",
   "version": "2.7.12"
  }
 },
 "nbformat": 4,
 "nbformat_minor": 1
}
